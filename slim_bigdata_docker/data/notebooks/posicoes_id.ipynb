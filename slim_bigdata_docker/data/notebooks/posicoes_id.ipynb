{
 "cells": [
  {
   "cell_type": "markdown",
   "metadata": {},
   "source": [
    "## Limpeza de dados Cartola - Posições"
   ]
  },
  {
   "cell_type": "code",
   "execution_count": 1,
   "metadata": {},
   "outputs": [],
   "source": [
    "from pyspark.sql import HiveContext\n",
    "from pyspark.sql.types import IntegerType\n",
    "from pyspark.sql.functions import lower, col, lit, regexp_replace\n",
    "import pandas as pd\n",
    "import json\n",
    "import requests"
   ]
  },
  {
   "cell_type": "markdown",
   "metadata": {},
   "source": [
    "## Posições"
   ]
  },
  {
   "cell_type": "code",
   "execution_count": 4,
   "metadata": {},
   "outputs": [
    {
     "name": "stdout",
     "output_type": "stream",
     "text": [
      "+---+---+--------+----+\n",
      "|_c0|Cod|Position|abbr|\n",
      "+---+---+--------+----+\n",
      "|  1|  1| Goleiro| gol|\n",
      "|  2|  2| Lateral| lat|\n",
      "|  3|  3|Zagueiro| zag|\n",
      "|  4|  4|    Meia| mei|\n",
      "|  5|  5|Atacante| ata|\n",
      "|  6|  6| Técnico| tec|\n",
      "+---+---+--------+----+\n",
      "\n"
     ]
    }
   ],
   "source": [
    "posicoes_df = spark.read.csv(\"/cartola/data/posicoes_ids.csv\", header=True)\n",
    "sorted_posicoes_df = posicoes_df.sort(posicoes_df.Cod.asc())\n",
    "\n",
    "#Chegar se o arquivo está no hdfs\n",
    "sorted_posicoes_df.show()\n"
   ]
  }
 ],
 "metadata": {
  "kernelspec": {
   "display_name": "PySpark",
   "language": "python",
   "name": "pyspark"
  },
  "language_info": {
   "codemirror_mode": {
    "name": "ipython",
    "version": 3
   },
   "file_extension": ".py",
   "mimetype": "text/x-python",
   "name": "python",
   "nbconvert_exporter": "python",
   "pygments_lexer": "ipython3",
   "version": "3.6.10"
  }
 },
 "nbformat": 4,
 "nbformat_minor": 2
}
