{
 "cells": [
  {
   "cell_type": "markdown",
   "metadata": {},
   "source": [
    "## Limpeza de dados Cartola ano 2015"
   ]
  },
  {
   "cell_type": "code",
   "execution_count": 26,
   "metadata": {},
   "outputs": [],
   "source": [
    "from pyspark.sql import HiveContext\n",
    "from pyspark.sql.types import IntegerType\n",
    "from pyspark.sql.functions import lower, col, lit, regexp_replace\n",
    "from pyspark.sql.functions import lit\n",
    "import pandas as pd\n",
    "import json\n",
    "import requests"
   ]
  },
  {
   "cell_type": "markdown",
   "metadata": {},
   "source": [
    "## Jogadores"
   ]
  },
  {
   "cell_type": "code",
   "execution_count": 27,
   "metadata": {},
   "outputs": [],
   "source": [
    "#Carrega arquivo CSV\n",
    "jogadores_2015_df = spark.read.option(\"encoding\", \"UTF-8\").csv(\"/cartola/data/2015/2015_jogadores.csv\", header=True)\n",
    "sorted_jogadores_2015_df = jogadores_2015_df.sort(jogadores_2015_df.ID.desc())\n"
   ]
  },
  {
   "cell_type": "code",
   "execution_count": 28,
   "metadata": {},
   "outputs": [
    {
     "name": "stdout",
     "output_type": "stream",
     "text": [
      "+-----+-----------------+-------+---------+----+\n",
      "|   ID|          Apelido|ClubeID|PosicaoID| ano|\n",
      "+-----+-----------------+-------+---------+----+\n",
      "|93378|          Augusto|     NA|        3|2015|\n",
      "|93377|           Jobson|     NA|        4|2015|\n",
      "|93376|     Wesley Souza|     NA|        4|2015|\n",
      "|93368|  Lucas Veríssimo|     NA|        3|2015|\n",
      "|93317|  Diogo Giacomini|     NA|        6|2015|\n",
      "|93283|          Rafinha|     NA|        4|2015|\n",
      "|93282|            Fabio|     NA|        4|2015|\n",
      "|93281|          Adriano|     NA|        5|2015|\n",
      "|93153|      Pachequinho|     NA|        6|2015|\n",
      "|93152|          Tontini|     NA|        4|2015|\n",
      "|93151|    Thiago Santos|     NA|        5|2015|\n",
      "|93108|     Mateus Vital|     NA|        4|2015|\n",
      "|93028|     Danny Sergio|     NA|        6|2015|\n",
      "|92981|          Ronaldo|     NA|        4|2015|\n",
      "|92901|   Felipe Moreira|     NA|        6|2015|\n",
      "|92848|     Breno Santos|     NA|        2|2015|\n",
      "|92841|Fernando Medeiros|     NA|        4|2015|\n",
      "|92837|    Sergio Vieira|     NA|        6|2015|\n",
      "|92811|  Bruno Rodrigues|     NA|        5|2015|\n",
      "|92764|       Bruno Baio|     NA|        5|2015|\n",
      "+-----+-----------------+-------+---------+----+\n",
      "only showing top 20 rows\n",
      "\n"
     ]
    }
   ],
   "source": [
    "#Adiciona coluna ANO = 2015\n",
    "#Clube ID está como NA????\n",
    "jogadores_2015_ano = sorted_jogadores_2015_df.withColumn('ano', lit(2015))\n",
    "jogadores_2015_ano.show()"
   ]
  },
  {
   "cell_type": "code",
   "execution_count": 29,
   "metadata": {},
   "outputs": [],
   "source": [
    "jogadores_2015_ano.write.parquet('/cartola/clean/jogadores/2015')"
   ]
  },
  {
   "cell_type": "code",
   "execution_count": 30,
   "metadata": {},
   "outputs": [],
   "source": [
    "#transforma arquivo em parquet\n",
    "jogadores_2015_parquet = spark.read.parquet('/cartola/clean/jogadores/*')"
   ]
  },
  {
   "cell_type": "code",
   "execution_count": 31,
   "metadata": {},
   "outputs": [
    {
     "name": "stdout",
     "output_type": "stream",
     "text": [
      "+-----+--------------------+-------+---------+----+\n",
      "|   ID|             Apelido|ClubeID|PosicaoID| ano|\n",
      "+-----+--------------------+-------+---------+----+\n",
      "|51683|        Bruno Rangel|    315|        5|2014|\n",
      "|51705|       Bruno Rodrigo|    283|        3|2014|\n",
      "|51772|     Éverton Ribeiro|    283|        4|2014|\n",
      "|51779|       Pedro Botelho|    282|        2|2014|\n",
      "|51781|               Ávine|    265|        2|2014|\n",
      "|51985|      Anderson Pedra|    292|        4|2014|\n",
      "|41387|       Eduardo Costa|    314|        4|2015|\n",
      "|41327|Vanderlei Luxemburgo|    262|        6|2015|\n",
      "|41258|     Adilson Batista|     NA|        6|2015|\n",
      "|41218|              Magrão|    292|        1|2015|\n",
      "|41159|         João Carlos|     NA|        3|2015|\n",
      "|68945|              Saimon|     NA|        3|2015|\n",
      "|68938|    Giovanni Augusto|    282|        4|2015|\n",
      "|68932|       Renan Ribeiro|    276|        1|2015|\n",
      "|68929|      Thiago Ribeiro|    282|        5|2015|\n",
      "|68928|              Rafael|    283|        1|2015|\n",
      "|68925|      Leonardo Silva|    282|        3|2015|\n",
      "|70058|          Tiago Real|    290|        4|2014|\n",
      "|70106|              Mouche|    275|        5|2014|\n",
      "|70111|    Guilherme Mattis|    266|        3|2014|\n",
      "+-----+--------------------+-------+---------+----+\n",
      "only showing top 20 rows\n",
      "\n"
     ]
    },
    {
     "data": {
      "text/plain": [
       "StructType(List(StructField(ID,StringType,true),StructField(Apelido,StringType,true),StructField(ClubeID,StringType,true),StructField(PosicaoID,StringType,true),StructField(ano,IntegerType,true)))"
      ]
     },
     "execution_count": 31,
     "metadata": {},
     "output_type": "execute_result"
    }
   ],
   "source": [
    "jogadores_2015_parquet.show()\n",
    "jogadores_2015_parquet.schema\n"
   ]
  },
  {
   "cell_type": "code",
   "execution_count": 32,
   "metadata": {},
   "outputs": [],
   "source": [
    "#Alterar ID para int.(está string)\n",
    "jogadores_2015_parquet = jogadores_2015_parquet.withColumn(\"ID\", jogadores_2015_parquet[\"ID\"].cast(IntegerType()))\n",
    "jogadores_2015_parquet = jogadores_2015_parquet.withColumn(\"ClubeID\", jogadores_2015_parquet[\"ClubeID\"].cast(IntegerType()))\n",
    "jogadores_2015_parquet = jogadores_2015_parquet.withColumn(\"PosicaoID\", jogadores_2015_parquet[\"PosicaoID\"].cast(IntegerType()))"
   ]
  },
  {
   "cell_type": "code",
   "execution_count": 33,
   "metadata": {},
   "outputs": [
    {
     "data": {
      "text/plain": [
       "StructType(List(StructField(ID,IntegerType,true),StructField(Apelido,StringType,true),StructField(ClubeID,IntegerType,true),StructField(PosicaoID,IntegerType,true),StructField(ano,IntegerType,true)))"
      ]
     },
     "execution_count": 33,
     "metadata": {},
     "output_type": "execute_result"
    }
   ],
   "source": [
    "jogadores_2015_parquet.schema"
   ]
  },
  {
   "cell_type": "code",
   "execution_count": 34,
   "metadata": {},
   "outputs": [
    {
     "name": "stdout",
     "output_type": "stream",
     "text": [
      "+-----+--------------------+-------+---------+----+\n",
      "|   ID|             Apelido|ClubeID|PosicaoID| ano|\n",
      "+-----+--------------------+-------+---------+----+\n",
      "|51683|        Bruno Rangel|    315|        5|2014|\n",
      "|51705|       Bruno Rodrigo|    283|        3|2014|\n",
      "|51772|     Éverton Ribeiro|    283|        4|2014|\n",
      "|51779|       Pedro Botelho|    282|        2|2014|\n",
      "|51781|               Ávine|    265|        2|2014|\n",
      "|51985|      Anderson Pedra|    292|        4|2014|\n",
      "|41387|       Eduardo Costa|    314|        4|2015|\n",
      "|41327|Vanderlei Luxemburgo|    262|        6|2015|\n",
      "|41258|     Adilson Batista|   null|        6|2015|\n",
      "|41218|              Magrão|    292|        1|2015|\n",
      "|41159|         João Carlos|   null|        3|2015|\n",
      "|68945|              Saimon|   null|        3|2015|\n",
      "|68938|    Giovanni Augusto|    282|        4|2015|\n",
      "|68932|       Renan Ribeiro|    276|        1|2015|\n",
      "|68929|      Thiago Ribeiro|    282|        5|2015|\n",
      "|68928|              Rafael|    283|        1|2015|\n",
      "|68925|      Leonardo Silva|    282|        3|2015|\n",
      "|70058|          Tiago Real|    290|        4|2014|\n",
      "|70106|              Mouche|    275|        5|2014|\n",
      "|70111|    Guilherme Mattis|    266|        3|2014|\n",
      "+-----+--------------------+-------+---------+----+\n",
      "only showing top 20 rows\n",
      "\n",
      "2059\n"
     ]
    }
   ],
   "source": [
    "jogadores_2015_parquet.show()\n",
    "\n",
    "print(jogadores_2015_parquet.count())"
   ]
  },
  {
   "cell_type": "markdown",
   "metadata": {},
   "source": [
    "## Partidas_IDS (temos partidas como NA)"
   ]
  },
  {
   "cell_type": "code",
   "execution_count": 108,
   "metadata": {},
   "outputs": [],
   "source": [
    "partidas_ids_2015_df = spark.read.option(\"encoding\", \"UTF-8\").csv(\"/cartola/data/2015/2015_partidas_ids.csv\", header=True)"
   ]
  },
  {
   "cell_type": "code",
   "execution_count": 109,
   "metadata": {},
   "outputs": [],
   "source": [
    "partidas_ids_2015_ano = partidas_ids_2015_df.withColumn('ano', lit(2015))"
   ]
  },
  {
   "cell_type": "code",
   "execution_count": 110,
   "metadata": {},
   "outputs": [
    {
     "name": "stdout",
     "output_type": "stream",
     "text": [
      "+------+------+------+-----------+----------+---------------+---------+----+\n",
      "|    ID|Rodada|CasaID|VisitanteID|PlacarCasa|PlacarVisitante|Resultado| ano|\n",
      "+------+------+------+-----------+----------+---------------+---------+----+\n",
      "|190053|     1|   276|        262|         2|              1|     Casa|2015|\n",
      "|190054|     1|   275|        282|         2|              2|   Empate|2015|\n",
      "|190055|     1|   266|        317|         1|              0|     Casa|2015|\n",
      "|190056|     1|   267|        290|         0|              0|   Empate|2015|\n",
      "|190057|     1|   284|        303|         3|              3|   Empate|2015|\n",
      "|190058|     1|   283|        264|         0|              1|Visitante|2015|\n",
      "|190059|     1|   314|        277|         1|              1|   Empate|2015|\n",
      "|190060|     1|   293|        285|         3|              0|     Casa|2015|\n",
      "|190061|     1|   292|        316|         4|              1|     Casa|2015|\n",
      "|190062|     1|   315|        294|         2|              1|     Casa|2015|\n",
      "|190063|     2|   264|        315|         1|              0|     Casa|2015|\n",
      "|190064|     2|   277|        283|         1|              0|     Casa|2015|\n",
      "|190065|     2|   303|        276|         1|              0|     Casa|2015|\n",
      "|190066|     2|   262|        292|         2|              2|   Empate|2015|\n",
      "|190067|     2|   285|        314|         1|              0|     Casa|2015|\n",
      "|190068|     2|   282|        266|         4|              1|     Casa|2015|\n",
      "|190069|     2|   316|        267|         0|              0|   Empate|2015|\n",
      "|190070|     2|   294|        284|         2|              0|     Casa|2015|\n",
      "|190071|     2|   290|        293|         2|              0|     Casa|2015|\n",
      "|190072|     2|   317|        275|         0|              0|   Empate|2015|\n",
      "|190073|     3|   276|        317|         3|              0|     Casa|2015|\n",
      "|190074|     3|   275|        290|         0|              1|Visitante|2015|\n",
      "|190075|     3|   266|        264|         0|              0|   Empate|2015|\n",
      "|190076|     3|   267|        285|         1|              1|   Empate|2015|\n",
      "|190077|     3|   284|        316|         1|              0|     Casa|2015|\n",
      "|190078|     3|   283|        303|         1|              1|   Empate|2015|\n",
      "|190079|     3|   314|        262|         2|              1|     Casa|2015|\n",
      "|190080|     3|   293|        282|         1|              0|     Casa|2015|\n",
      "|190081|     3|   292|        294|         1|              0|     Casa|2015|\n",
      "|190082|     3|   315|        277|         1|              0|     Casa|2015|\n",
      "|190083|     4|   264|        275|         0|              2|Visitante|2015|\n",
      "|190084|     4|   277|        292|         2|              2|   Empate|2015|\n",
      "|190085|     4|   303|        315|         3|              1|     Casa|2015|\n",
      "|190086|     4|   262|        266|         2|              3|Visitante|2015|\n",
      "|190087|     4|   285|        276|         0|              0|   Empate|2015|\n",
      "|190088|     4|   282|        267|         3|              0|     Casa|2015|\n",
      "|190089|     4|   316|        283|         2|              1|     Casa|2015|\n",
      "|190090|     4|   294|        314|         1|              2|Visitante|2015|\n",
      "|190091|     4|   290|        284|         1|              1|   Empate|2015|\n",
      "|190092|     4|   317|        293|         1|              2|Visitante|2015|\n",
      "|190093|     5|   276|        277|         3|              2|     Casa|2015|\n",
      "|190094|     5|   275|        285|         1|              1|   Empate|2015|\n",
      "|190095|     5|   266|        294|         2|              0|     Casa|2015|\n",
      "|190096|     5|   267|        303|         0|              3|Visitante|2015|\n",
      "|190097|     5|   284|        264|         3|              1|     Casa|2015|\n",
      "|190098|     5|   283|        262|         1|              0|     Casa|2015|\n",
      "|190099|     5|   314|        282|         1|              4|Visitante|2015|\n",
      "|190100|     5|   293|        316|         1|              0|     Casa|2015|\n",
      "|190101|     5|   292|        290|         1|              0|     Casa|2015|\n",
      "|190102|     5|   315|        317|         2|              0|     Casa|2015|\n",
      "|190103|     6|   276|        284|         2|              0|     Casa|2015|\n",
      "|190104|     6|   277|        303|         2|              2|   Empate|2015|\n",
      "|190105|     6|   266|        292|         0|              0|   Empate|2015|\n",
      "|190106|     6|   262|        315|         1|              0|     Casa|2015|\n",
      "|190107|     6|   285|        294|         2|              0|     Casa|2015|\n",
      "|190108|     6|   282|        283|         1|              3|Visitante|2015|\n",
      "|190109|     6|   316|        275|         2|              1|     Casa|2015|\n",
      "|190110|     6|   293|        267|         2|              0|     Casa|2015|\n",
      "|190111|     6|   290|        314|         0|              1|Visitante|2015|\n",
      "|190112|     6|   317|        264|         0|              1|Visitante|2015|\n",
      "|190113|     7|   264|        285|         2|              1|     Casa|2015|\n",
      "|190114|     7|   275|        266|         2|              1|     Casa|2015|\n",
      "|190115|     7|   303|        290|         0|              0|   Empate|2015|\n",
      "|190116|     7|   267|        283|         1|              3|Visitante|2015|\n",
      "|190117|     7|   284|        293|         2|              1|     Casa|2015|\n",
      "|190118|     7|   282|        277|         2|              2|   Empate|2015|\n",
      "|190119|     7|   314|        316|         1|              1|   Empate|2015|\n",
      "|190120|     7|   294|        262|         0|              1|Visitante|2015|\n",
      "|190121|     7|   292|        317|         2|              1|     Casa|2015|\n",
      "|190122|     7|   315|        276|         0|              1|Visitante|2015|\n",
      "|190123|     8|   276|        314|         1|              1|   Empate|2015|\n",
      "|190124|     8|   277|        264|         1|              0|     Casa|2015|\n",
      "|190125|     8|   266|        303|         2|              0|     Casa|2015|\n",
      "|190126|     8|   262|        282|         0|              2|Visitante|2015|\n",
      "|190127|     8|   284|        275|         1|              0|     Casa|2015|\n",
      "|190128|     8|   283|        315|         0|              1|Visitante|2015|\n",
      "|190129|     8|   316|        285|         0|              0|   Empate|2015|\n",
      "|190130|     8|   293|        294|         2|              2|   Empate|2015|\n",
      "|190131|     8|   292|        267|         2|              1|     Casa|2015|\n",
      "|190132|     8|   317|        290|         2|              1|     Casa|2015|\n",
      "|190133|     9|   264|        316|         2|              1|     Casa|2015|\n",
      "|190134|     9|   275|        276|         4|              0|     Casa|2015|\n",
      "|190135|     9|   303|        293|         2|              1|     Casa|2015|\n",
      "|190136|     9|   267|        262|         1|              0|     Casa|2015|\n",
      "|190137|     9|   285|        277|         1|              0|     Casa|2015|\n",
      "|190138|     9|   282|        317|         1|              0|     Casa|2015|\n",
      "|190140|     9|   314|        284|         1|              2|Visitante|2015|\n",
      "|190141|     9|   294|        283|         1|              0|     Casa|2015|\n",
      "|190142|     9|   290|        266|         1|              2|Visitante|2015|\n",
      "|190143|     9|   315|        292|         1|              1|   Empate|2015|\n",
      "|190144|    10|   264|        303|         2|              0|     Casa|2015|\n",
      "|190145|    10|   275|        315|         2|              0|     Casa|2015|\n",
      "|190146|    10|   266|        277|         2|              1|     Casa|2015|\n",
      "|190147|    10|   267|        314|         1|              0|     Casa|2015|\n",
      "|190148|    10|   284|        283|         1|              0|     Casa|2015|\n",
      "|190149|    10|   282|        294|         2|              0|     Casa|2015|\n",
      "|190150|    10|   316|        290|         3|              1|     Casa|2015|\n",
      "|190151|    10|   293|        276|         2|              1|     Casa|2015|\n",
      "|190152|    10|   292|        285|         3|              0|     Casa|2015|\n",
      "|190153|    10|   317|        262|         0|              1|Visitante|2015|\n",
      "+------+------+------+-----------+----------+---------------+---------+----+\n",
      "only showing top 100 rows\n",
      "\n"
     ]
    }
   ],
   "source": [
    "partidas_ids_2015_ano.show(100)"
   ]
  },
  {
   "cell_type": "code",
   "execution_count": 111,
   "metadata": {},
   "outputs": [],
   "source": [
    "partidas_ids_2015_ano.write.parquet('/cartola/clean/partidas_ids/2015')"
   ]
  },
  {
   "cell_type": "code",
   "execution_count": 112,
   "metadata": {},
   "outputs": [],
   "source": [
    "partidas_ids_2015_parquet = spark.read.parquet('/cartola/clean/partidas_ids/*')"
   ]
  },
  {
   "cell_type": "code",
   "execution_count": 113,
   "metadata": {},
   "outputs": [
    {
     "name": "stdout",
     "output_type": "stream",
     "text": [
      "+------+------+------+-----------+----------+---------------+---------+----+\n",
      "|    ID|Rodada|CasaID|VisitanteID|PlacarCasa|PlacarVisitante|Resultado| ano|\n",
      "+------+------+------+-----------+----------+---------------+---------+----+\n",
      "|179872|     1|   262|        290|         0|              0|   Empate|2014|\n",
      "|179873|     1|   266|        316|         3|              0|     Casa|2014|\n",
      "|179874|     1|   276|        263|         3|              0|     Casa|2014|\n",
      "|179875|     1|   277|        292|         1|              1|   Empate|2014|\n",
      "|179876|     1|   293|        284|         1|              0|     Casa|2014|\n",
      "|179877|     1|   282|        264|         0|              0|   Empate|2014|\n",
      "|179878|     1|   265|        283|         1|              2|Visitante|2014|\n",
      "|179879|     1|   285|        287|         1|              0|     Casa|2014|\n",
      "|179880|     1|   288|        275|         1|              2|Visitante|2014|\n",
      "|179881|     1|   315|        294|         0|              0|   Empate|2014|\n",
      "|179882|     2|   263|        285|         2|              2|   Empate|2014|\n",
      "|179883|     2|   292|        315|         2|              1|     Casa|2014|\n",
      "|179884|     2|   264|        262|         2|              0|     Casa|2014|\n",
      "|179885|     2|   275|        266|         0|              1|Visitante|2014|\n",
      "|179886|     2|   294|        277|         0|              0|   Empate|2014|\n",
      "|179887|     2|   283|        276|         1|              1|   Empate|2014|\n",
      "|179888|     2|   287|        293|         2|              2|   Empate|2014|\n",
      "|179889|     2|   284|        282|         2|              1|     Casa|2014|\n",
      "|179890|     2|   316|        265|         0|              2|Visitante|2014|\n",
      "|179891|     2|   290|        288|         1|              0|     Casa|2014|\n",
      "|179892|    20|   263|        276|         2|              4|Visitante|2014|\n",
      "|179893|     3|   262|        275|         4|              2|     Casa|2014|\n",
      "|179894|     3|   266|        287|         1|              2|Visitante|2014|\n",
      "|179895|    20|   292|        277|         3|              1|     Casa|2014|\n",
      "|179896|     3|   276|        294|         2|              2|   Empate|2014|\n",
      "|179897|     3|   277|        284|         0|              0|   Empate|2014|\n",
      "|179898|     3|   293|        283|         2|              3|Visitante|2014|\n",
      "|179899|    20|   264|        282|         1|              0|     Casa|2014|\n",
      "|179900|    20|   275|        288|         1|              0|     Casa|2014|\n",
      "|179901|     3|   282|        290|         0|              1|Visitante|2014|\n",
      "|179902|    20|   294|        315|         3|              0|     Casa|2014|\n",
      "|179903|     3|   265|        263|         1|              0|     Casa|2014|\n",
      "|179904|     3|   285|        292|         2|              1|     Casa|2014|\n",
      "|179905|    20|   283|        265|         2|              1|     Casa|2014|\n",
      "|179906|     3|   288|        316|         1|              0|     Casa|2014|\n",
      "|179907|    20|   287|        285|         2|              0|     Casa|2014|\n",
      "|179908|     3|   315|        264|         0|              1|Visitante|2014|\n",
      "|179909|     4|   263|        288|         6|              0|     Casa|2014|\n",
      "|179910|    20|   284|        293|         1|              0|     Casa|2014|\n",
      "|179911|     4|   266|        262|         2|              0|     Casa|2014|\n",
      "|179912|    20|   316|        266|         1|              1|   Empate|2014|\n",
      "|179913|     4|   276|        264|         1|              1|   Empate|2014|\n",
      "|179914|    20|   290|        262|         1|              0|     Casa|2014|\n",
      "|179915|     4|   275|        290|         2|              0|     Casa|2014|\n",
      "|179916|    21|   262|        264|         1|              0|     Casa|2014|\n",
      "|179917|     4|   294|        292|         0|              1|Visitante|2014|\n",
      "|179918|     4|   282|        283|         2|              1|     Casa|2014|\n",
      "|179919|    21|   266|        275|         3|              0|     Casa|2014|\n",
      "|179920|     4|   265|        287|         1|              1|   Empate|2014|\n",
      "|179921|    21|   276|        283|         2|              0|     Casa|2014|\n",
      "|179922|     4|   285|        293|         2|              1|     Casa|2014|\n",
      "|179923|     4|   316|        277|         0|              2|Visitante|2014|\n",
      "|179924|    21|   277|        294|         2|              1|     Casa|2014|\n",
      "|179925|     4|   315|        284|         1|              2|Visitante|2014|\n",
      "|179926|    21|   293|        287|         2|              0|     Casa|2014|\n",
      "|179927|     5|   262|        276|         0|              2|Visitante|2014|\n",
      "|179928|     5|   292|        265|         1|              0|     Casa|2014|\n",
      "|179929|    21|   282|        284|         0|              0|   Empate|2014|\n",
      "|179930|     5|   264|        316|         0|              1|Visitante|2014|\n",
      "|179931|    21|   265|        316|         3|              0|     Casa|2014|\n",
      "|179932|    21|   285|        263|         2|              0|     Casa|2014|\n",
      "|179933|    21|   288|        290|         1|              0|     Casa|2014|\n",
      "|179934|     5|   277|        282|         1|              2|Visitante|2014|\n",
      "|179935|    21|   315|        292|         3|              1|     Casa|2014|\n",
      "|179936|     5|   293|        315|         1|              1|   Empate|2014|\n",
      "|179937|     5|   283|        294|         3|              2|     Casa|2014|\n",
      "|179938|    22|   263|        265|         2|              3|Visitante|2014|\n",
      "|179939|     5|   287|        275|         0|              1|Visitante|2014|\n",
      "|179940|    22|   292|        285|         0|              0|   Empate|2014|\n",
      "|179941|    22|   264|        315|         1|              1|   Empate|2014|\n",
      "|179942|     5|   284|        266|         1|              0|     Casa|2014|\n",
      "|179943|     5|   288|        285|         0|              0|   Empate|2014|\n",
      "|179944|     5|   290|        263|         2|              0|     Casa|2014|\n",
      "|179945|    22|   275|        262|         2|              2|   Empate|2014|\n",
      "|179946|     6|   262|        265|         1|              1|   Empate|2014|\n",
      "|179947|    22|   294|        276|         3|              1|     Casa|2014|\n",
      "|179948|     6|   266|        276|         5|              2|     Casa|2014|\n",
      "|179949|     6|   264|        293|         1|              1|   Empate|2014|\n",
      "|179950|     6|   275|        316|         1|              0|     Casa|2014|\n",
      "|179951|    22|   283|        293|         2|              0|     Casa|2014|\n",
      "|179952|     6|   294|        285|         1|              1|   Empate|2014|\n",
      "|179954|    22|   284|        277|         0|              0|   Empate|2014|\n",
      "|179955|    22|   316|        288|         1|              1|   Empate|2014|\n",
      "|179956|     6|   283|        292|         2|              0|     Casa|2014|\n",
      "|179957|    22|   290|        282|         2|              3|Visitante|2014|\n",
      "|179958|     6|   287|        282|         2|              3|Visitante|2014|\n",
      "|179959|     6|   284|        263|         2|              1|     Casa|2014|\n",
      "|179960|    23|   262|        266|         1|              1|   Empate|2014|\n",
      "|179961|     6|   288|        315|         1|              0|     Casa|2014|\n",
      "|179962|    23|   292|        294|         1|              0|     Casa|2014|\n",
      "|179963|     6|   290|        277|         2|              2|   Empate|2014|\n",
      "|179964|    23|   264|        276|         3|              2|     Casa|2014|\n",
      "|179965|     7|   263|        287|         1|              1|   Empate|2014|\n",
      "|179966|    23|   277|        316|         3|              1|     Casa|2014|\n",
      "|179967|    23|   293|        285|         0|              1|Visitante|2014|\n",
      "|179968|    23|   283|        282|         2|              3|Visitante|2014|\n",
      "|179969|    23|   287|        265|         2|              1|     Casa|2014|\n",
      "|179970|    23|   284|        315|         1|              0|     Casa|2014|\n",
      "|179971|     7|   292|        264|         1|              4|Visitante|2014|\n",
      "|179972|    23|   288|        263|         1|              1|   Empate|2014|\n",
      "+------+------+------+-----------+----------+---------------+---------+----+\n",
      "only showing top 100 rows\n",
      "\n"
     ]
    },
    {
     "data": {
      "text/plain": [
       "StructType(List(StructField(ID,StringType,true),StructField(Rodada,StringType,true),StructField(CasaID,StringType,true),StructField(VisitanteID,StringType,true),StructField(PlacarCasa,StringType,true),StructField(PlacarVisitante,StringType,true),StructField(Resultado,StringType,true),StructField(ano,IntegerType,true)))"
      ]
     },
     "execution_count": 113,
     "metadata": {},
     "output_type": "execute_result"
    }
   ],
   "source": [
    "partidas_ids_2015_parquet.show(100)\n",
    "partidas_ids_2015_parquet.schema"
   ]
  },
  {
   "cell_type": "code",
   "execution_count": 115,
   "metadata": {},
   "outputs": [],
   "source": [
    "partidas_ids_2015_parquet = partidas_ids_2015_parquet.withColumn(\"ID\", partidas_ids_2015_parquet[\"ID\"].cast(IntegerType()))\n",
    "partidas_ids_2015_parquet = partidas_ids_2015_parquet.withColumn(\"Rodada\", partidas_ids_2015_parquet[\"Rodada\"].cast(IntegerType()))\n",
    "partidas_ids_2015_parquet = partidas_ids_2015_parquet.withColumn(\"CasaID\", partidas_ids_2015_parquet[\"CasaID\"].cast(IntegerType()))\n",
    "partidas_ids_2015_parquet = partidas_ids_2015_parquet.withColumn(\"VisitanteID\", partidas_ids_2015_parquet[\"VisitanteID\"].cast(IntegerType()))\n",
    "partidas_ids_2015_parquet = partidas_ids_2015_parquet.withColumn(\"PlacarCasa\", partidas_ids_2015_parquet[\"PlacarCasa\"].cast(IntegerType()))\n",
    "partidas_ids_2015_parquet = partidas_ids_2015_parquet.withColumn(\"PlacarVisitante\", partidas_ids_2015_parquet[\"PlacarVisitante\"].cast(IntegerType()))"
   ]
  },
  {
   "cell_type": "code",
   "execution_count": 116,
   "metadata": {},
   "outputs": [
    {
     "name": "stdout",
     "output_type": "stream",
     "text": [
      "+------+------+------+-----------+----------+---------------+---------+----+\n",
      "|    ID|Rodada|CasaID|VisitanteID|PlacarCasa|PlacarVisitante|Resultado| ano|\n",
      "+------+------+------+-----------+----------+---------------+---------+----+\n",
      "|179872|     1|   262|        290|         0|              0|   Empate|2014|\n",
      "|179873|     1|   266|        316|         3|              0|     Casa|2014|\n",
      "|179874|     1|   276|        263|         3|              0|     Casa|2014|\n",
      "|179875|     1|   277|        292|         1|              1|   Empate|2014|\n",
      "|179876|     1|   293|        284|         1|              0|     Casa|2014|\n",
      "|179877|     1|   282|        264|         0|              0|   Empate|2014|\n",
      "|179878|     1|   265|        283|         1|              2|Visitante|2014|\n",
      "|179879|     1|   285|        287|         1|              0|     Casa|2014|\n",
      "|179880|     1|   288|        275|         1|              2|Visitante|2014|\n",
      "|179881|     1|   315|        294|         0|              0|   Empate|2014|\n",
      "|179882|     2|   263|        285|         2|              2|   Empate|2014|\n",
      "|179883|     2|   292|        315|         2|              1|     Casa|2014|\n",
      "|179884|     2|   264|        262|         2|              0|     Casa|2014|\n",
      "|179885|     2|   275|        266|         0|              1|Visitante|2014|\n",
      "|179886|     2|   294|        277|         0|              0|   Empate|2014|\n",
      "|179887|     2|   283|        276|         1|              1|   Empate|2014|\n",
      "|179888|     2|   287|        293|         2|              2|   Empate|2014|\n",
      "|179889|     2|   284|        282|         2|              1|     Casa|2014|\n",
      "|179890|     2|   316|        265|         0|              2|Visitante|2014|\n",
      "|179891|     2|   290|        288|         1|              0|     Casa|2014|\n",
      "+------+------+------+-----------+----------+---------------+---------+----+\n",
      "only showing top 20 rows\n",
      "\n",
      "760\n"
     ]
    }
   ],
   "source": [
    "partidas_ids_2015_parquet.show()\n",
    "\n",
    "print(partidas_ids_2015_parquet.count())"
   ]
  },
  {
   "cell_type": "code",
   "execution_count": null,
   "metadata": {},
   "outputs": [],
   "source": []
  },
  {
   "cell_type": "markdown",
   "metadata": {},
   "source": [
    "## scouts_raw"
   ]
  },
  {
   "cell_type": "code",
   "execution_count": 136,
   "metadata": {},
   "outputs": [],
   "source": [
    "scouts_raw_2015_df = spark.read.option(\"encoding\", \"UTF-8\").csv(\"/cartola/data/2015/2015_scouts_raw.csv\", header=True)"
   ]
  },
  {
   "cell_type": "code",
   "execution_count": 137,
   "metadata": {},
   "outputs": [],
   "source": [
    "scouts_raw_2015_ano = scouts_raw_2015_df.withColumn('ano', lit(2015))"
   ]
  },
  {
   "cell_type": "code",
   "execution_count": 138,
   "metadata": {},
   "outputs": [
    {
     "name": "stdout",
     "output_type": "stream",
     "text": [
      "+------+-------+--------+-----+------+-----------+-----+-------------+---+---+---+---+---+---+---+---+---+---+---+---+---+---+---+---+---+---+----+\n",
      "|Rodada|ClubeID|AtletaID|Jogos|Pontos|PontosMedia|Preco|PrecoVariacao| FS| PE|  A| FT| FD| FF|  G|  I| PP| RB| FC| GC| CA| CV| SG| DD| DP| GS| ano|\n",
      "+------+-------+--------+-----+------+-----------+-----+-------------+---+---+---+---+---+---+---+---+---+---+---+---+---+---+---+---+---+---+----+\n",
      "|     0|    262|   81219|    0|     0|          0|    1|            0|  0|  0|  0|  0|  0|  0|  0|  0|  0|  0|  0|  0|  0|  0|  0|  0|  0|  0|2015|\n",
      "|     0|    262|   88072|    0|     0|          0|    1|            0|  0|  0|  0|  0|  0|  0|  0|  0|  0|  0|  0|  0|  0|  0|  0|  0|  0|  0|2015|\n",
      "|     0|    262|   89258|    0|     0|          0|    1|            0|  0|  0|  0|  0|  0|  0|  0|  0|  0|  0|  0|  0|  0|  0|  0|  0|  0|  0|2015|\n",
      "|     0|    262|   91263|    0|     0|          0|    1|            0|  0|  0|  0|  0|  0|  0|  0|  0|  0|  0|  0|  0|  0|  0|  0|  0|  0|  0|2015|\n",
      "|     0|    262|   74103|    0|     0|          0|    2|            0|  0|  0|  0|  0|  0|  0|  0|  0|  0|  0|  0|  0|  0|  0|  0|  0|  0|  0|2015|\n",
      "|     0|    262|   78895|    0|     0|          0|    2|            0|  0|  0|  0|  0|  0|  0|  0|  0|  0|  0|  0|  0|  0|  0|  0|  0|  0|  0|2015|\n",
      "|     0|    262|   88065|    0|     0|          0|    2|            0|  0|  0|  0|  0|  0|  0|  0|  0|  0|  0|  0|  0|  0|  0|  0|  0|  0|  0|2015|\n",
      "|     0|    262|   81121|    0|     0|          0|    3|            0|  0|  0|  0|  0|  0|  0|  0|  0|  0|  0|  0|  0|  0|  0|  0|  0|  0|  0|2015|\n",
      "|     0|    262|   91264|    0|     0|          0|    3|            0|  0|  0|  0|  0|  0|  0|  0|  0|  0|  0|  0|  0|  0|  0|  0|  0|  0|  0|2015|\n",
      "|     0|    262|   78086|    0|     0|          0|    4|            0|  0|  0|  0|  0|  0|  0|  0|  0|  0|  0|  0|  0|  0|  0|  0|  0|  0|  0|2015|\n",
      "|     0|    262|   68873|    0|     0|          0|    5|            0|  0|  0|  0|  0|  0|  0|  0|  0|  0|  0|  0|  0|  0|  0|  0|  0|  0|  0|2015|\n",
      "|     0|    262|   37993|    0|     0|          0|    6|            0|  0|  0|  0|  0|  0|  0|  0|  0|  0|  0|  0|  0|  0|  0|  0|  0|  0|  0|2015|\n",
      "|     0|    262|   68962|    0|     0|          0|    6|            0|  0|  0|  0|  0|  0|  0|  0|  0|  0|  0|  0|  0|  0|  0|  0|  0|  0|  0|2015|\n",
      "|     0|    262|   69268|    0|     0|          0|    6|            0|  0|  0|  0|  0|  0|  0|  0|  0|  0|  0|  0|  0|  0|  0|  0|  0|  0|  0|2015|\n",
      "|     0|    262|   74060|    0|     0|          0|    6|            0|  0|  0|  0|  0|  0|  0|  0|  0|  0|  0|  0|  0|  0|  0|  0|  0|  0|  0|2015|\n",
      "|     0|    262|   80913|    0|     0|          0|    6|            0|  0|  0|  0|  0|  0|  0|  0|  0|  0|  0|  0|  0|  0|  0|  0|  0|  0|  0|2015|\n",
      "|     0|    262|   50453|    0|     0|          0|    7|            0|  0|  0|  0|  0|  0|  0|  0|  0|  0|  0|  0|  0|  0|  0|  0|  0|  0|  0|2015|\n",
      "|     0|    262|   72491|    0|     0|          0|    7|            0|  0|  0|  0|  0|  0|  0|  0|  0|  0|  0|  0|  0|  0|  0|  0|  0|  0|  0|2015|\n",
      "|     0|    262|   73515|    0|     0|          0|    7|            0|  0|  0|  0|  0|  0|  0|  0|  0|  0|  0|  0|  0|  0|  0|  0|  0|  0|  0|2015|\n",
      "|     0|    262|   62086|    0|     0|          0|    8|            0|  0|  0|  0|  0|  0|  0|  0|  0|  0|  0|  0|  0|  0|  0|  0|  0|  0|  0|2015|\n",
      "+------+-------+--------+-----+------+-----------+-----+-------------+---+---+---+---+---+---+---+---+---+---+---+---+---+---+---+---+---+---+----+\n",
      "only showing top 20 rows\n",
      "\n"
     ]
    }
   ],
   "source": [
    "scouts_raw_2015_ano.show()"
   ]
  },
  {
   "cell_type": "code",
   "execution_count": 139,
   "metadata": {},
   "outputs": [],
   "source": [
    "# Removendo colunas\n",
    "scouts_raw_2015_ano = scouts_raw_2015_ano.drop('PrecoVariacao', 'Mando', 'Titular', 'Substituido', 'TempoJogado', 'FS', 'PE', 'A', 'FT', 'FD', 'FF', 'G', 'I', 'PP', 'RB', 'FC', 'GC', 'CA', 'CV', 'SG', 'DD', 'DP', 'GS')"
   ]
  },
  {
   "cell_type": "code",
   "execution_count": 148,
   "metadata": {},
   "outputs": [],
   "source": [
    "# remove todas as linhas com rodada == 0\n",
    "scouts_raw_2015_ano_clean = scouts_raw_2015_ano[scouts_raw_2015_ano['Rodada'] > 0]"
   ]
  },
  {
   "cell_type": "code",
   "execution_count": 149,
   "metadata": {},
   "outputs": [
    {
     "data": {
      "text/html": [
       "<div>\n",
       "<style scoped>\n",
       "    .dataframe tbody tr th:only-of-type {\n",
       "        vertical-align: middle;\n",
       "    }\n",
       "\n",
       "    .dataframe tbody tr th {\n",
       "        vertical-align: top;\n",
       "    }\n",
       "\n",
       "    .dataframe thead th {\n",
       "        text-align: right;\n",
       "    }\n",
       "</style>\n",
       "<table border=\"1\" class=\"dataframe\">\n",
       "  <thead>\n",
       "    <tr style=\"text-align: right;\">\n",
       "      <th></th>\n",
       "      <th>Rodada</th>\n",
       "      <th>ClubeID</th>\n",
       "      <th>AtletaID</th>\n",
       "      <th>Jogos</th>\n",
       "      <th>Pontos</th>\n",
       "      <th>PontosMedia</th>\n",
       "      <th>Preco</th>\n",
       "      <th>ano</th>\n",
       "    </tr>\n",
       "  </thead>\n",
       "  <tbody>\n",
       "    <tr>\n",
       "      <th>0</th>\n",
       "      <td>1</td>\n",
       "      <td>262</td>\n",
       "      <td>81121</td>\n",
       "      <td>1</td>\n",
       "      <td>-2.3</td>\n",
       "      <td>-2.3</td>\n",
       "      <td>0.79</td>\n",
       "      <td>2015</td>\n",
       "    </tr>\n",
       "    <tr>\n",
       "      <th>1</th>\n",
       "      <td>1</td>\n",
       "      <td>262</td>\n",
       "      <td>81219</td>\n",
       "      <td>0</td>\n",
       "      <td>0</td>\n",
       "      <td>0</td>\n",
       "      <td>1</td>\n",
       "      <td>2015</td>\n",
       "    </tr>\n",
       "    <tr>\n",
       "      <th>2</th>\n",
       "      <td>1</td>\n",
       "      <td>262</td>\n",
       "      <td>88072</td>\n",
       "      <td>0</td>\n",
       "      <td>0</td>\n",
       "      <td>0</td>\n",
       "      <td>1</td>\n",
       "      <td>2015</td>\n",
       "    </tr>\n",
       "    <tr>\n",
       "      <th>3</th>\n",
       "      <td>1</td>\n",
       "      <td>262</td>\n",
       "      <td>89258</td>\n",
       "      <td>0</td>\n",
       "      <td>0</td>\n",
       "      <td>0</td>\n",
       "      <td>1</td>\n",
       "      <td>2015</td>\n",
       "    </tr>\n",
       "    <tr>\n",
       "      <th>4</th>\n",
       "      <td>1</td>\n",
       "      <td>262</td>\n",
       "      <td>91263</td>\n",
       "      <td>0</td>\n",
       "      <td>0</td>\n",
       "      <td>0</td>\n",
       "      <td>1</td>\n",
       "      <td>2015</td>\n",
       "    </tr>\n",
       "    <tr>\n",
       "      <th>...</th>\n",
       "      <td>...</td>\n",
       "      <td>...</td>\n",
       "      <td>...</td>\n",
       "      <td>...</td>\n",
       "      <td>...</td>\n",
       "      <td>...</td>\n",
       "      <td>...</td>\n",
       "      <td>...</td>\n",
       "    </tr>\n",
       "    <tr>\n",
       "      <th>29715</th>\n",
       "      <td>37</td>\n",
       "      <td>317</td>\n",
       "      <td>68910</td>\n",
       "      <td>29</td>\n",
       "      <td>-0.6</td>\n",
       "      <td>3.08</td>\n",
       "      <td>8.16</td>\n",
       "      <td>2015</td>\n",
       "    </tr>\n",
       "    <tr>\n",
       "      <th>29716</th>\n",
       "      <td>37</td>\n",
       "      <td>317</td>\n",
       "      <td>41859</td>\n",
       "      <td>29</td>\n",
       "      <td>0</td>\n",
       "      <td>2.41</td>\n",
       "      <td>8.29</td>\n",
       "      <td>2015</td>\n",
       "    </tr>\n",
       "    <tr>\n",
       "      <th>29717</th>\n",
       "      <td>37</td>\n",
       "      <td>317</td>\n",
       "      <td>73528</td>\n",
       "      <td>34</td>\n",
       "      <td>0</td>\n",
       "      <td>2.06</td>\n",
       "      <td>8.52</td>\n",
       "      <td>2015</td>\n",
       "    </tr>\n",
       "    <tr>\n",
       "      <th>29718</th>\n",
       "      <td>37</td>\n",
       "      <td>317</td>\n",
       "      <td>37187</td>\n",
       "      <td>23</td>\n",
       "      <td>0.48</td>\n",
       "      <td>2.82</td>\n",
       "      <td>10.4</td>\n",
       "      <td>2015</td>\n",
       "    </tr>\n",
       "    <tr>\n",
       "      <th>29719</th>\n",
       "      <td>37</td>\n",
       "      <td>317</td>\n",
       "      <td>72731</td>\n",
       "      <td>6</td>\n",
       "      <td>0</td>\n",
       "      <td>3.55</td>\n",
       "      <td>15.92</td>\n",
       "      <td>2015</td>\n",
       "    </tr>\n",
       "  </tbody>\n",
       "</table>\n",
       "<p>29720 rows × 8 columns</p>\n",
       "</div>"
      ],
      "text/plain": [
       "      Rodada ClubeID AtletaID Jogos Pontos PontosMedia  Preco   ano\n",
       "0          1     262    81121     1   -2.3        -2.3   0.79  2015\n",
       "1          1     262    81219     0      0           0      1  2015\n",
       "2          1     262    88072     0      0           0      1  2015\n",
       "3          1     262    89258     0      0           0      1  2015\n",
       "4          1     262    91263     0      0           0      1  2015\n",
       "...      ...     ...      ...   ...    ...         ...    ...   ...\n",
       "29715     37     317    68910    29   -0.6        3.08   8.16  2015\n",
       "29716     37     317    41859    29      0        2.41   8.29  2015\n",
       "29717     37     317    73528    34      0        2.06   8.52  2015\n",
       "29718     37     317    37187    23   0.48        2.82   10.4  2015\n",
       "29719     37     317    72731     6      0        3.55  15.92  2015\n",
       "\n",
       "[29720 rows x 8 columns]"
      ]
     },
     "execution_count": 149,
     "metadata": {},
     "output_type": "execute_result"
    }
   ],
   "source": [
    "scouts_raw_2015_ano_clean.toPandas()"
   ]
  },
  {
   "cell_type": "code",
   "execution_count": null,
   "metadata": {},
   "outputs": [],
   "source": []
  },
  {
   "cell_type": "code",
   "execution_count": 150,
   "metadata": {},
   "outputs": [],
   "source": [
    "scouts_raw_2015_ano_clean.write.parquet('/cartola/clean/scouts_raw/2015')"
   ]
  },
  {
   "cell_type": "code",
   "execution_count": 151,
   "metadata": {},
   "outputs": [],
   "source": [
    "scouts_raw_2015_parquet = spark.read.parquet('/cartola/clean/scouts_raw/*')"
   ]
  },
  {
   "cell_type": "code",
   "execution_count": 152,
   "metadata": {},
   "outputs": [
    {
     "data": {
      "text/html": [
       "<div>\n",
       "<style scoped>\n",
       "    .dataframe tbody tr th:only-of-type {\n",
       "        vertical-align: middle;\n",
       "    }\n",
       "\n",
       "    .dataframe tbody tr th {\n",
       "        vertical-align: top;\n",
       "    }\n",
       "\n",
       "    .dataframe thead th {\n",
       "        text-align: right;\n",
       "    }\n",
       "</style>\n",
       "<table border=\"1\" class=\"dataframe\">\n",
       "  <thead>\n",
       "    <tr style=\"text-align: right;\">\n",
       "      <th></th>\n",
       "      <th>AtletaID</th>\n",
       "      <th>Rodada</th>\n",
       "      <th>ClubeID</th>\n",
       "      <th>Pontos</th>\n",
       "      <th>PontosMedia</th>\n",
       "      <th>Preco</th>\n",
       "      <th>ano</th>\n",
       "    </tr>\n",
       "  </thead>\n",
       "  <tbody>\n",
       "    <tr>\n",
       "      <th>0</th>\n",
       "      <td>81121</td>\n",
       "      <td>1</td>\n",
       "      <td>262</td>\n",
       "      <td>-2.3</td>\n",
       "      <td>-2.3</td>\n",
       "      <td>0.79</td>\n",
       "      <td>2015</td>\n",
       "    </tr>\n",
       "    <tr>\n",
       "      <th>1</th>\n",
       "      <td>81219</td>\n",
       "      <td>1</td>\n",
       "      <td>262</td>\n",
       "      <td>0</td>\n",
       "      <td>0</td>\n",
       "      <td>1</td>\n",
       "      <td>2015</td>\n",
       "    </tr>\n",
       "    <tr>\n",
       "      <th>2</th>\n",
       "      <td>88072</td>\n",
       "      <td>1</td>\n",
       "      <td>262</td>\n",
       "      <td>0</td>\n",
       "      <td>0</td>\n",
       "      <td>1</td>\n",
       "      <td>2015</td>\n",
       "    </tr>\n",
       "    <tr>\n",
       "      <th>3</th>\n",
       "      <td>89258</td>\n",
       "      <td>1</td>\n",
       "      <td>262</td>\n",
       "      <td>0</td>\n",
       "      <td>0</td>\n",
       "      <td>1</td>\n",
       "      <td>2015</td>\n",
       "    </tr>\n",
       "    <tr>\n",
       "      <th>4</th>\n",
       "      <td>91263</td>\n",
       "      <td>1</td>\n",
       "      <td>262</td>\n",
       "      <td>0</td>\n",
       "      <td>0</td>\n",
       "      <td>1</td>\n",
       "      <td>2015</td>\n",
       "    </tr>\n",
       "    <tr>\n",
       "      <th>...</th>\n",
       "      <td>...</td>\n",
       "      <td>...</td>\n",
       "      <td>...</td>\n",
       "      <td>...</td>\n",
       "      <td>...</td>\n",
       "      <td>...</td>\n",
       "      <td>...</td>\n",
       "    </tr>\n",
       "    <tr>\n",
       "      <th>60509</th>\n",
       "      <td>89924</td>\n",
       "      <td>38</td>\n",
       "      <td>None</td>\n",
       "      <td>0</td>\n",
       "      <td>-0.8</td>\n",
       "      <td>0.81</td>\n",
       "      <td>2014</td>\n",
       "    </tr>\n",
       "    <tr>\n",
       "      <th>60510</th>\n",
       "      <td>84794</td>\n",
       "      <td>38</td>\n",
       "      <td>293</td>\n",
       "      <td>0.9</td>\n",
       "      <td>0.9</td>\n",
       "      <td>1.24</td>\n",
       "      <td>2014</td>\n",
       "    </tr>\n",
       "    <tr>\n",
       "      <th>60511</th>\n",
       "      <td>89815</td>\n",
       "      <td>38</td>\n",
       "      <td>285</td>\n",
       "      <td>1</td>\n",
       "      <td>0.25</td>\n",
       "      <td>1</td>\n",
       "      <td>2014</td>\n",
       "    </tr>\n",
       "    <tr>\n",
       "      <th>60512</th>\n",
       "      <td>82639</td>\n",
       "      <td>38</td>\n",
       "      <td>284</td>\n",
       "      <td>0</td>\n",
       "      <td>0</td>\n",
       "      <td>1</td>\n",
       "      <td>2014</td>\n",
       "    </tr>\n",
       "    <tr>\n",
       "      <th>60513</th>\n",
       "      <td>89975</td>\n",
       "      <td>38</td>\n",
       "      <td>282</td>\n",
       "      <td>0</td>\n",
       "      <td>0</td>\n",
       "      <td>1</td>\n",
       "      <td>2014</td>\n",
       "    </tr>\n",
       "  </tbody>\n",
       "</table>\n",
       "<p>60514 rows × 7 columns</p>\n",
       "</div>"
      ],
      "text/plain": [
       "      AtletaID Rodada ClubeID Pontos PontosMedia Preco   ano\n",
       "0        81121      1     262   -2.3        -2.3  0.79  2015\n",
       "1        81219      1     262      0           0     1  2015\n",
       "2        88072      1     262      0           0     1  2015\n",
       "3        89258      1     262      0           0     1  2015\n",
       "4        91263      1     262      0           0     1  2015\n",
       "...        ...    ...     ...    ...         ...   ...   ...\n",
       "60509    89924     38    None      0        -0.8  0.81  2014\n",
       "60510    84794     38     293    0.9         0.9  1.24  2014\n",
       "60511    89815     38     285      1        0.25     1  2014\n",
       "60512    82639     38     284      0           0     1  2014\n",
       "60513    89975     38     282      0           0     1  2014\n",
       "\n",
       "[60514 rows x 7 columns]"
      ]
     },
     "execution_count": 152,
     "metadata": {},
     "output_type": "execute_result"
    }
   ],
   "source": [
    "scouts_raw_2015_parquet.schema\n",
    "scouts_raw_2015_parquet.toPandas()"
   ]
  },
  {
   "cell_type": "code",
   "execution_count": null,
   "metadata": {},
   "outputs": [],
   "source": []
  },
  {
   "cell_type": "markdown",
   "metadata": {},
   "source": [
    "## Times"
   ]
  },
  {
   "cell_type": "code",
   "execution_count": 97,
   "metadata": {},
   "outputs": [],
   "source": [
    "times_2015_df = spark.read.csv(\"/cartola/data/2015/2015_times.csv\", header=True)"
   ]
  },
  {
   "cell_type": "code",
   "execution_count": 98,
   "metadata": {},
   "outputs": [],
   "source": [
    "sorted_times_2015_df = times_2015_df.sort(times_2015_df.ID.asc())"
   ]
  },
  {
   "cell_type": "code",
   "execution_count": 99,
   "metadata": {},
   "outputs": [
    {
     "data": {
      "text/html": [
       "<div>\n",
       "<style scoped>\n",
       "    .dataframe tbody tr th:only-of-type {\n",
       "        vertical-align: middle;\n",
       "    }\n",
       "\n",
       "    .dataframe tbody tr th {\n",
       "        vertical-align: top;\n",
       "    }\n",
       "\n",
       "    .dataframe thead th {\n",
       "        text-align: right;\n",
       "    }\n",
       "</style>\n",
       "<table border=\"1\" class=\"dataframe\">\n",
       "  <thead>\n",
       "    <tr style=\"text-align: right;\">\n",
       "      <th></th>\n",
       "      <th>ID</th>\n",
       "      <th>Nome</th>\n",
       "      <th>Abreviacao</th>\n",
       "      <th>Slug</th>\n",
       "      <th>ano</th>\n",
       "    </tr>\n",
       "  </thead>\n",
       "  <tbody>\n",
       "    <tr>\n",
       "      <th>0</th>\n",
       "      <td>262</td>\n",
       "      <td>Flamengo</td>\n",
       "      <td>fla</td>\n",
       "      <td>flamengo</td>\n",
       "      <td>2015</td>\n",
       "    </tr>\n",
       "    <tr>\n",
       "      <th>1</th>\n",
       "      <td>264</td>\n",
       "      <td>Corinthians</td>\n",
       "      <td>cor</td>\n",
       "      <td>corinthians</td>\n",
       "      <td>2015</td>\n",
       "    </tr>\n",
       "    <tr>\n",
       "      <th>2</th>\n",
       "      <td>266</td>\n",
       "      <td>Fluminense</td>\n",
       "      <td>flu</td>\n",
       "      <td>fluminense</td>\n",
       "      <td>2015</td>\n",
       "    </tr>\n",
       "    <tr>\n",
       "      <th>3</th>\n",
       "      <td>267</td>\n",
       "      <td>Vasco</td>\n",
       "      <td>vas</td>\n",
       "      <td>vasco</td>\n",
       "      <td>2015</td>\n",
       "    </tr>\n",
       "    <tr>\n",
       "      <th>4</th>\n",
       "      <td>275</td>\n",
       "      <td>Palmeiras</td>\n",
       "      <td>pal</td>\n",
       "      <td>palmeiras</td>\n",
       "      <td>2015</td>\n",
       "    </tr>\n",
       "    <tr>\n",
       "      <th>5</th>\n",
       "      <td>276</td>\n",
       "      <td>São Paulo</td>\n",
       "      <td>sao</td>\n",
       "      <td>sao-paulo</td>\n",
       "      <td>2015</td>\n",
       "    </tr>\n",
       "    <tr>\n",
       "      <th>6</th>\n",
       "      <td>277</td>\n",
       "      <td>Santos</td>\n",
       "      <td>san</td>\n",
       "      <td>santos</td>\n",
       "      <td>2015</td>\n",
       "    </tr>\n",
       "    <tr>\n",
       "      <th>7</th>\n",
       "      <td>282</td>\n",
       "      <td>Atlético-MG</td>\n",
       "      <td>cam</td>\n",
       "      <td>atletico-mg</td>\n",
       "      <td>2015</td>\n",
       "    </tr>\n",
       "    <tr>\n",
       "      <th>8</th>\n",
       "      <td>283</td>\n",
       "      <td>Cruzeiro</td>\n",
       "      <td>cru</td>\n",
       "      <td>cruzeiro</td>\n",
       "      <td>2015</td>\n",
       "    </tr>\n",
       "    <tr>\n",
       "      <th>9</th>\n",
       "      <td>284</td>\n",
       "      <td>Grêmio</td>\n",
       "      <td>gre</td>\n",
       "      <td>gremio</td>\n",
       "      <td>2015</td>\n",
       "    </tr>\n",
       "    <tr>\n",
       "      <th>10</th>\n",
       "      <td>285</td>\n",
       "      <td>Internacional</td>\n",
       "      <td>int</td>\n",
       "      <td>internacional</td>\n",
       "      <td>2015</td>\n",
       "    </tr>\n",
       "    <tr>\n",
       "      <th>11</th>\n",
       "      <td>290</td>\n",
       "      <td>Goiás</td>\n",
       "      <td>goi</td>\n",
       "      <td>goias</td>\n",
       "      <td>2015</td>\n",
       "    </tr>\n",
       "    <tr>\n",
       "      <th>12</th>\n",
       "      <td>292</td>\n",
       "      <td>Sport</td>\n",
       "      <td>spo</td>\n",
       "      <td>sport</td>\n",
       "      <td>2015</td>\n",
       "    </tr>\n",
       "    <tr>\n",
       "      <th>13</th>\n",
       "      <td>293</td>\n",
       "      <td>Atlético-PR</td>\n",
       "      <td>cap</td>\n",
       "      <td>atletico-pr</td>\n",
       "      <td>2015</td>\n",
       "    </tr>\n",
       "    <tr>\n",
       "      <th>14</th>\n",
       "      <td>294</td>\n",
       "      <td>Coritiba</td>\n",
       "      <td>cfc</td>\n",
       "      <td>coritiba</td>\n",
       "      <td>2015</td>\n",
       "    </tr>\n",
       "    <tr>\n",
       "      <th>15</th>\n",
       "      <td>303</td>\n",
       "      <td>Ponte Preta</td>\n",
       "      <td>pon</td>\n",
       "      <td>ponte-preta</td>\n",
       "      <td>2015</td>\n",
       "    </tr>\n",
       "    <tr>\n",
       "      <th>16</th>\n",
       "      <td>314</td>\n",
       "      <td>Avaí</td>\n",
       "      <td>ava</td>\n",
       "      <td>avai</td>\n",
       "      <td>2015</td>\n",
       "    </tr>\n",
       "    <tr>\n",
       "      <th>17</th>\n",
       "      <td>315</td>\n",
       "      <td>Chapecoense</td>\n",
       "      <td>cha</td>\n",
       "      <td>chapecoense</td>\n",
       "      <td>2015</td>\n",
       "    </tr>\n",
       "    <tr>\n",
       "      <th>18</th>\n",
       "      <td>316</td>\n",
       "      <td>Figueirense</td>\n",
       "      <td>fig</td>\n",
       "      <td>figueirense</td>\n",
       "      <td>2015</td>\n",
       "    </tr>\n",
       "    <tr>\n",
       "      <th>19</th>\n",
       "      <td>317</td>\n",
       "      <td>Joinville</td>\n",
       "      <td>jec</td>\n",
       "      <td>joinville</td>\n",
       "      <td>2015</td>\n",
       "    </tr>\n",
       "  </tbody>\n",
       "</table>\n",
       "</div>"
      ],
      "text/plain": [
       "     ID           Nome Abreviacao           Slug   ano\n",
       "0   262       Flamengo        fla       flamengo  2015\n",
       "1   264    Corinthians        cor    corinthians  2015\n",
       "2   266     Fluminense        flu     fluminense  2015\n",
       "3   267          Vasco        vas          vasco  2015\n",
       "4   275      Palmeiras        pal      palmeiras  2015\n",
       "5   276      São Paulo        sao      sao-paulo  2015\n",
       "6   277         Santos        san         santos  2015\n",
       "7   282    Atlético-MG        cam    atletico-mg  2015\n",
       "8   283       Cruzeiro        cru       cruzeiro  2015\n",
       "9   284         Grêmio        gre         gremio  2015\n",
       "10  285  Internacional        int  internacional  2015\n",
       "11  290          Goiás        goi          goias  2015\n",
       "12  292          Sport        spo          sport  2015\n",
       "13  293    Atlético-PR        cap    atletico-pr  2015\n",
       "14  294       Coritiba        cfc       coritiba  2015\n",
       "15  303    Ponte Preta        pon    ponte-preta  2015\n",
       "16  314           Avaí        ava           avai  2015\n",
       "17  315    Chapecoense        cha    chapecoense  2015\n",
       "18  316    Figueirense        fig    figueirense  2015\n",
       "19  317      Joinville        jec      joinville  2015"
      ]
     },
     "execution_count": 99,
     "metadata": {},
     "output_type": "execute_result"
    }
   ],
   "source": [
    "times_2015_ano = times_2015_df.withColumn('ano', lit(2015))\n",
    "times_2015_ano.toPandas()"
   ]
  },
  {
   "cell_type": "code",
   "execution_count": 100,
   "metadata": {},
   "outputs": [],
   "source": [
    "times_2015_ano.write.parquet('/cartola/clean/times/2015')"
   ]
  },
  {
   "cell_type": "code",
   "execution_count": 101,
   "metadata": {},
   "outputs": [],
   "source": [
    "times_2015_parquet = spark.read.parquet('/cartola/clean/times/*')"
   ]
  },
  {
   "cell_type": "code",
   "execution_count": 102,
   "metadata": {},
   "outputs": [
    {
     "name": "stdout",
     "output_type": "stream",
     "text": [
      "+---+-------------+----------+-------------+----+\n",
      "| ID|         Nome|Abreviacao|         Slug| ano|\n",
      "+---+-------------+----------+-------------+----+\n",
      "|262|     flamengo|       FLA|     flamengo|2014|\n",
      "|263|     botafogo|       BOT|     botafogo|2014|\n",
      "|264|  corinthians|       COR|  corinthians|2014|\n",
      "|265|        bahia|       BAH|        bahia|2014|\n",
      "|266|   fluminense|       FLU|   fluminense|2014|\n",
      "|275|    palmeiras|       PAL|    palmeiras|2014|\n",
      "|276|    são paulo|       SAO|    sao-paulo|2014|\n",
      "|277|       santos|       SAN|       santos|2014|\n",
      "|282|  atlético-mg|       CAM|  atletico-mg|2014|\n",
      "|283|     cruzeiro|       CRU|     cruzeiro|2014|\n",
      "|284|       grêmio|       GRE|       gremio|2014|\n",
      "|285|internacional|       INT|internacional|2014|\n",
      "|287|      vitória|       VIT|      vitoria|2014|\n",
      "|288|     criciúma|       CRI|     criciuma|2014|\n",
      "|290|        goiás|       GOI|        goias|2014|\n",
      "|292|        sport|       SPO|        sport|2014|\n",
      "|293|  atlético-pr|       CAP|  atletico-pr|2014|\n",
      "|294|     coritiba|       CFC|     coritiba|2014|\n",
      "|315|  chapecoense|       CHA|  chapecoense|2014|\n",
      "|316|  figueirense|       FIG|  figueirense|2014|\n",
      "|262|     Flamengo|       fla|     flamengo|2015|\n",
      "|264|  Corinthians|       cor|  corinthians|2015|\n",
      "|266|   Fluminense|       flu|   fluminense|2015|\n",
      "|267|        Vasco|       vas|        vasco|2015|\n",
      "|275|    Palmeiras|       pal|    palmeiras|2015|\n",
      "|276|    São Paulo|       sao|    sao-paulo|2015|\n",
      "|277|       Santos|       san|       santos|2015|\n",
      "|282|  Atlético-MG|       cam|  atletico-mg|2015|\n",
      "|283|     Cruzeiro|       cru|     cruzeiro|2015|\n",
      "|284|       Grêmio|       gre|       gremio|2015|\n",
      "|285|Internacional|       int|internacional|2015|\n",
      "|290|        Goiás|       goi|        goias|2015|\n",
      "|292|        Sport|       spo|        sport|2015|\n",
      "|293|  Atlético-PR|       cap|  atletico-pr|2015|\n",
      "|294|     Coritiba|       cfc|     coritiba|2015|\n",
      "|303|  Ponte Preta|       pon|  ponte-preta|2015|\n",
      "|314|         Avaí|       ava|         avai|2015|\n",
      "|315|  Chapecoense|       cha|  chapecoense|2015|\n",
      "|316|  Figueirense|       fig|  figueirense|2015|\n",
      "|317|    Joinville|       jec|    joinville|2015|\n",
      "+---+-------------+----------+-------------+----+\n",
      "\n"
     ]
    },
    {
     "data": {
      "text/plain": [
       "StructType(List(StructField(ID,StringType,true),StructField(Nome,StringType,true),StructField(Abreviacao,StringType,true),StructField(Slug,StringType,true),StructField(ano,IntegerType,true)))"
      ]
     },
     "execution_count": 102,
     "metadata": {},
     "output_type": "execute_result"
    }
   ],
   "source": [
    "times_2015_parquet.show(100)\n",
    "times_2015_parquet.schema\n",
    "\n",
    "#Alterar ID para int.(está string)"
   ]
  },
  {
   "cell_type": "code",
   "execution_count": 103,
   "metadata": {},
   "outputs": [],
   "source": [
    "sorted_times = times_2015_parquet.sort(times_2015_parquet.ID.asc())"
   ]
  },
  {
   "cell_type": "code",
   "execution_count": 104,
   "metadata": {},
   "outputs": [
    {
     "name": "stdout",
     "output_type": "stream",
     "text": [
      "+---+-------------+----------+-------------+----+\n",
      "| ID|         Nome|Abreviacao|         Slug| ano|\n",
      "+---+-------------+----------+-------------+----+\n",
      "|262|     flamengo|       FLA|     flamengo|2014|\n",
      "|262|     Flamengo|       fla|     flamengo|2015|\n",
      "|263|     botafogo|       BOT|     botafogo|2014|\n",
      "|264|  corinthians|       COR|  corinthians|2014|\n",
      "|264|  Corinthians|       cor|  corinthians|2015|\n",
      "|265|        bahia|       BAH|        bahia|2014|\n",
      "|266|   fluminense|       FLU|   fluminense|2014|\n",
      "|266|   Fluminense|       flu|   fluminense|2015|\n",
      "|267|        Vasco|       vas|        vasco|2015|\n",
      "|275|    palmeiras|       PAL|    palmeiras|2014|\n",
      "|275|    Palmeiras|       pal|    palmeiras|2015|\n",
      "|276|    são paulo|       SAO|    sao-paulo|2014|\n",
      "|276|    São Paulo|       sao|    sao-paulo|2015|\n",
      "|277|       Santos|       san|       santos|2015|\n",
      "|277|       santos|       SAN|       santos|2014|\n",
      "|282|  atlético-mg|       CAM|  atletico-mg|2014|\n",
      "|282|  Atlético-MG|       cam|  atletico-mg|2015|\n",
      "|283|     Cruzeiro|       cru|     cruzeiro|2015|\n",
      "|283|     cruzeiro|       CRU|     cruzeiro|2014|\n",
      "|284|       grêmio|       GRE|       gremio|2014|\n",
      "|284|       Grêmio|       gre|       gremio|2015|\n",
      "|285|internacional|       INT|internacional|2014|\n",
      "|285|Internacional|       int|internacional|2015|\n",
      "|287|      vitória|       VIT|      vitoria|2014|\n",
      "|288|     criciúma|       CRI|     criciuma|2014|\n",
      "|290|        Goiás|       goi|        goias|2015|\n",
      "|290|        goiás|       GOI|        goias|2014|\n",
      "|292|        sport|       SPO|        sport|2014|\n",
      "|292|        Sport|       spo|        sport|2015|\n",
      "|293|  Atlético-PR|       cap|  atletico-pr|2015|\n",
      "|293|  atlético-pr|       CAP|  atletico-pr|2014|\n",
      "|294|     Coritiba|       cfc|     coritiba|2015|\n",
      "|294|     coritiba|       CFC|     coritiba|2014|\n",
      "|303|  Ponte Preta|       pon|  ponte-preta|2015|\n",
      "|314|         Avaí|       ava|         avai|2015|\n",
      "|315|  chapecoense|       CHA|  chapecoense|2014|\n",
      "|315|  Chapecoense|       cha|  chapecoense|2015|\n",
      "|316|  figueirense|       FIG|  figueirense|2014|\n",
      "|316|  Figueirense|       fig|  figueirense|2015|\n",
      "|317|    Joinville|       jec|    joinville|2015|\n",
      "+---+-------------+----------+-------------+----+\n",
      "\n"
     ]
    }
   ],
   "source": [
    "sorted_times.show(100)"
   ]
  },
  {
   "cell_type": "code",
   "execution_count": 105,
   "metadata": {},
   "outputs": [],
   "source": [
    "times_2015_parquet = times_2015_parquet.withColumn(\"ID\", times_2015_parquet[\"ID\"].cast(IntegerType()))"
   ]
  },
  {
   "cell_type": "code",
   "execution_count": 106,
   "metadata": {},
   "outputs": [
    {
     "data": {
      "text/plain": [
       "StructType(List(StructField(ID,IntegerType,true),StructField(Nome,StringType,true),StructField(Abreviacao,StringType,true),StructField(Slug,StringType,true),StructField(ano,IntegerType,true)))"
      ]
     },
     "execution_count": 106,
     "metadata": {},
     "output_type": "execute_result"
    }
   ],
   "source": [
    "times_2015_parquet.schema"
   ]
  },
  {
   "cell_type": "code",
   "execution_count": 107,
   "metadata": {},
   "outputs": [
    {
     "name": "stdout",
     "output_type": "stream",
     "text": [
      "40\n"
     ]
    }
   ],
   "source": [
    "times_2015_parquet.toPandas()\n",
    "\n",
    "print(times_2015_parquet.count())"
   ]
  },
  {
   "cell_type": "markdown",
   "metadata": {},
   "source": []
  },
  {
   "cell_type": "markdown",
   "metadata": {},
   "source": [
    "## DEMONSTRAÇÃO"
   ]
  },
  {
   "cell_type": "code",
   "execution_count": null,
   "metadata": {},
   "outputs": [],
   "source": [
    "partidas_2014_df = spark.read.csv(\"/cartola/data/2014/2014_jogadores.csv\", header=True)\n",
    "partidas_2014_ct = partidas_2014_df.withColumn('time', regexp_replace('home_team', ' - RJ', ''))\n",
    "final_partidas = partidas_2014_ct.withColumn('time_low', lower(col('time'))).show(truncate=False)"
   ]
  },
  {
   "cell_type": "code",
   "execution_count": null,
   "metadata": {},
   "outputs": [],
   "source": [
    "with_ano_partidas = partidas_2014_ct.withColumn('ano', lit(2014)).show(truncate=False)\n",
    "with_ano_partidas.show()"
   ]
  }
 ],
 "metadata": {
  "kernelspec": {
   "display_name": "PySpark",
   "language": "python",
   "name": "pyspark"
  },
  "language_info": {
   "codemirror_mode": {
    "name": "ipython",
    "version": 3
   },
   "file_extension": ".py",
   "mimetype": "text/x-python",
   "name": "python",
   "nbconvert_exporter": "python",
   "pygments_lexer": "ipython3",
   "version": "3.6.10"
  }
 },
 "nbformat": 4,
 "nbformat_minor": 2
}
