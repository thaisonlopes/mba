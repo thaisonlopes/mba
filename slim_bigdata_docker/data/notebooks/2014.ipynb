{
 "cells": [
  {
   "cell_type": "markdown",
   "metadata": {},
   "source": [
    "## Limpeza de dados Cartola ano 2014"
   ]
  },
  {
   "cell_type": "code",
   "execution_count": null,
   "metadata": {},
   "outputs": [],
   "source": [
    "from pyspark.sql import HiveContext\n",
    "from pyspark.sql.types import IntegerType\n",
    "from pyspark.sql.functions import lower, col, lit, regexp_replace\n",
    "import pandas as pd\n",
    "import json\n",
    "import requests"
   ]
  },
  {
   "cell_type": "markdown",
   "metadata": {},
   "source": [
    "## Times"
   ]
  },
  {
   "cell_type": "code",
   "execution_count": null,
   "metadata": {},
   "outputs": [],
   "source": [
    "times_2014_df = spark.read.csv(\"/cartola/data/2014/2014_times.csv\", header=True)\n",
    "sorted_times_2014_df = times_2014_df.sort(times_2014_df.ID.asc())\n",
    "\n",
    "#Chegar se o arquivo está no hdfs\n",
    "\n",
    "times_2014_ano = times_2014_df.withColumn('ano', lit(2014))\n",
    "times_2014_ano.toPandas()"
   ]
  },
  {
   "cell_type": "code",
   "execution_count": null,
   "metadata": {},
   "outputs": [],
   "source": [
    "times_2014_ano.write.parquet('/cartola/clean/times/2014')\n",
    "times_2014_parquet = spark.read.parquet('/cartola/clean/times/*')"
   ]
  },
  {
   "cell_type": "code",
   "execution_count": null,
   "metadata": {},
   "outputs": [],
   "source": [
    "times_2014_parquet.toPandas()\n",
    "times_2014_parquet.schema\n",
    "\n",
    "#Alterar ID para int.(está string)"
   ]
  },
  {
   "cell_type": "code",
   "execution_count": null,
   "metadata": {},
   "outputs": [],
   "source": [
    "times_2014_parquet = times_2014_parquet.withColumn(\"ID\", times_2014_parquet[\"ID\"].cast(IntegerType()))"
   ]
  },
  {
   "cell_type": "code",
   "execution_count": null,
   "metadata": {},
   "outputs": [],
   "source": [
    "times_2014_parquet.schema"
   ]
  },
  {
   "cell_type": "code",
   "execution_count": null,
   "metadata": {},
   "outputs": [],
   "source": [
    "times_2014_parquet.toPandas()"
   ]
  },
  {
   "cell_type": "markdown",
   "metadata": {},
   "source": [
    "## Jogadores"
   ]
  },
  {
   "cell_type": "code",
   "execution_count": null,
   "metadata": {},
   "outputs": [],
   "source": [
    "#Carrega arquivo CSV\n",
    "jogadores_2014_df = spark.read.option(\"encoding\", \"UTF-8\").csv(\"/cartola/data/2014/2014_jogadores.csv\", header=True)\n",
    "sorted_jogadores_2014_df = jogadores_2014_df.sort(jogadores_2014_df.ID.asc())\n"
   ]
  },
  {
   "cell_type": "code",
   "execution_count": null,
   "metadata": {},
   "outputs": [],
   "source": [
    "#Adiciona coluna ANO = 2014\n",
    "jogadores_2014_ano = sorted_jogadores_2014_df.withColumn('ano', lit(2014))\n",
    "jogadores_2014_ano.toPandas()"
   ]
  },
  {
   "cell_type": "code",
   "execution_count": null,
   "metadata": {},
   "outputs": [],
   "source": [
    "jogadores_2014_ano.write.parquet('/cartola/clean/jogadores/2014')"
   ]
  },
  {
   "cell_type": "code",
   "execution_count": null,
   "metadata": {},
   "outputs": [],
   "source": [
    "#transforma arquivo em parquet\n",
    "jogadores_2014_parquet = spark.read.parquet('/cartola/clean/jogadores/*')"
   ]
  },
  {
   "cell_type": "code",
   "execution_count": null,
   "metadata": {},
   "outputs": [],
   "source": [
    "jogadores_2014_parquet.show()\n",
    "jogadores_2014_parquet.schema\n"
   ]
  },
  {
   "cell_type": "code",
   "execution_count": null,
   "metadata": {},
   "outputs": [],
   "source": [
    "#Alterar ID para int.(está string)\n",
    "jogadores_2014_parquet = jogadores_2014_parquet.withColumn(\"ID\", jogadores_2014_parquet[\"ID\"].cast(IntegerType()))\n",
    "jogadores_2014_parquet = jogadores_2014_parquet.withColumn(\"ClubeID\", jogadores_2014_parquet[\"ClubeID\"].cast(IntegerType()))\n",
    "jogadores_2014_parquet = jogadores_2014_parquet.withColumn(\"PosicaoID\", jogadores_2014_parquet[\"PosicaoID\"].cast(IntegerType()))"
   ]
  },
  {
   "cell_type": "code",
   "execution_count": null,
   "metadata": {},
   "outputs": [],
   "source": [
    "jogadores_2014_parquet.schema"
   ]
  },
  {
   "cell_type": "code",
   "execution_count": null,
   "metadata": {},
   "outputs": [],
   "source": [
    "jogadores_2014_parquet.show()\n",
    "\n",
    "print(jogadores_2014_parquet.count())"
   ]
  },
  {
   "cell_type": "markdown",
   "metadata": {},
   "source": [
    "## Partidas_IDS"
   ]
  },
  {
   "cell_type": "code",
   "execution_count": null,
   "metadata": {},
   "outputs": [],
   "source": [
    "partidas_ids_2014_df = spark.read.option(\"encoding\", \"UTF-8\").csv(\"/cartola/data/2014/2014_partidas_ids.csv\", header=True)"
   ]
  },
  {
   "cell_type": "code",
   "execution_count": null,
   "metadata": {},
   "outputs": [],
   "source": [
    "partidas_ids_2014_ano = partidas_ids_2014_df.withColumn('ano', lit(2014))"
   ]
  },
  {
   "cell_type": "code",
   "execution_count": null,
   "metadata": {},
   "outputs": [],
   "source": [
    "partidas_ids_2014_ano.show(100)"
   ]
  },
  {
   "cell_type": "code",
   "execution_count": null,
   "metadata": {},
   "outputs": [],
   "source": [
    "partidas_ids_2014_ano = partidas_ids_2014_ano.withColumnRenamed(\"Casa\", \"CasaID\")\n",
    "partidas_ids_2014_ano = partidas_ids_2014_ano.withColumnRenamed(\"Visitante\", \"VisitanteID\")"
   ]
  },
  {
   "cell_type": "code",
   "execution_count": null,
   "metadata": {},
   "outputs": [],
   "source": [
    "partidas_ids_2014_ano.write.parquet('/cartola/clean/partidas_ids/2014')"
   ]
  },
  {
   "cell_type": "code",
   "execution_count": null,
   "metadata": {},
   "outputs": [],
   "source": [
    "partidas_ids_2014_parquet = spark.read.parquet('/cartola/clean/partidas_ids/*')"
   ]
  },
  {
   "cell_type": "code",
   "execution_count": null,
   "metadata": {},
   "outputs": [],
   "source": [
    "partidas_ids_2014_parquet.show(100)\n",
    "partidas_ids_2014_parquet.schema"
   ]
  },
  {
   "cell_type": "code",
   "execution_count": null,
   "metadata": {},
   "outputs": [],
   "source": [
    "partidas_ids_2014_parquet = partidas_ids_2014_parquet.withColumn(\"ID\", partidas_ids_2014_parquet[\"ID\"].cast(IntegerType()))\n",
    "partidas_ids_2014_parquet = partidas_ids_2014_parquet.withColumn(\"Rodada\", partidas_ids_2014_parquet[\"Rodada\"].cast(IntegerType()))\n",
    "partidas_ids_2014_parquet = partidas_ids_2014_parquet.withColumn(\"CasaID\", partidas_ids_2014_parquet[\"CasaID\"].cast(IntegerType()))\n",
    "partidas_ids_2014_parquet = partidas_ids_2014_parquet.withColumn(\"VisitanteID\", partidas_ids_2014_parquet[\"VisitanteID\"].cast(IntegerType()))\n",
    "partidas_ids_2014_parquet = partidas_ids_2014_parquet.withColumn(\"PlacarCasa\", partidas_ids_2014_parquet[\"PlacarVisitante\"].cast(IntegerType()))\n",
    "partidas_ids_2014_parquet = partidas_ids_2014_parquet.withColumn(\"PlacarVisitante\", partidas_ids_2014_parquet[\"PlacarVisitante\"].cast(IntegerType()))"
   ]
  },
  {
   "cell_type": "code",
   "execution_count": null,
   "metadata": {},
   "outputs": [],
   "source": [
    "partidas_ids_2014_parquet.show()\n",
    "\n",
    "print(partidas_ids_2014_parquet.count())"
   ]
  },
  {
   "cell_type": "code",
   "execution_count": null,
   "metadata": {},
   "outputs": [],
   "source": []
  },
  {
   "cell_type": "code",
   "execution_count": null,
   "metadata": {},
   "outputs": [],
   "source": [
    "inner_join = partidas_ids_2014_ano.join(times_2014_ano, partidas_ids_2014_ano.Casa == times_2014_ano.ID)\n",
    "inner_join.toPandas()"
   ]
  },
  {
   "cell_type": "code",
   "execution_count": null,
   "metadata": {},
   "outputs": [],
   "source": []
  },
  {
   "cell_type": "code",
   "execution_count": null,
   "metadata": {},
   "outputs": [],
   "source": []
  },
  {
   "cell_type": "code",
   "execution_count": null,
   "metadata": {},
   "outputs": [],
   "source": []
  },
  {
   "cell_type": "markdown",
   "metadata": {},
   "source": [
    "## LANCES (Criar a tabela de scouts a partir da tabela lances)"
   ]
  },
  {
   "cell_type": "code",
   "execution_count": null,
   "metadata": {},
   "outputs": [],
   "source": [
    "lances_2014_df = spark.read.option(\"encoding\", \"UTF-8\").csv(\"/cartola/data/2014/2014_lances.csv\", header=True)"
   ]
  },
  {
   "cell_type": "code",
   "execution_count": null,
   "metadata": {},
   "outputs": [],
   "source": [
    "lances_2014_ano = lances_2014_df.withColumn('ano', lit(2014))"
   ]
  },
  {
   "cell_type": "code",
   "execution_count": null,
   "metadata": {},
   "outputs": [],
   "source": [
    "lances_2014_ano.show(1000)"
   ]
  },
  {
   "cell_type": "code",
   "execution_count": null,
   "metadata": {},
   "outputs": [],
   "source": [
    "lances_2014_ano.write.parquet('/cartola/clean/lances/2014/')"
   ]
  },
  {
   "cell_type": "code",
   "execution_count": null,
   "metadata": {},
   "outputs": [],
   "source": [
    "lances_2014_parquet = spark.read.parquet('/cartola/clean/lances/*')"
   ]
  },
  {
   "cell_type": "code",
   "execution_count": null,
   "metadata": {},
   "outputs": [],
   "source": [
    "lances_2014_parquet.show()\n",
    "lances_2014_parquet.schema"
   ]
  },
  {
   "cell_type": "code",
   "execution_count": null,
   "metadata": {},
   "outputs": [],
   "source": [
    "lances_2014_parquet = lances_2014_parquet.withColumn(\"ID\", lances_2014_parquet[\"ID\"].cast(IntegerType()))\n",
    "lances_2014_parquet = lances_2014_parquet.withColumn(\"PartidaID\", lances_2014_parquet[\"PartidaID\"].cast(IntegerType()))\n",
    "lances_2014_parquet = lances_2014_parquet.withColumn(\"ClubeID\", lances_2014_parquet[\"ClubeID\"].cast(IntegerType()))\n",
    "lances_2014_parquet = lances_2014_parquet.withColumn(\"AtletaID\", lances_2014_parquet[\"AtletaID\"].cast(IntegerType()))\n",
    "lances_2014_parquet = lances_2014_parquet.withColumn(\"Momento\", lances_2014_parquet[\"Momento\"].cast(IntegerType()))"
   ]
  },
  {
   "cell_type": "code",
   "execution_count": null,
   "metadata": {},
   "outputs": [],
   "source": [
    "lances_2014_parquet.show()\n",
    "\n",
    "print(lances_2014_parquet.count())"
   ]
  },
  {
   "cell_type": "code",
   "execution_count": null,
   "metadata": {},
   "outputs": [],
   "source": []
  },
  {
   "cell_type": "markdown",
   "metadata": {},
   "source": [
    "## scouts_raw"
   ]
  },
  {
   "cell_type": "code",
   "execution_count": null,
   "metadata": {},
   "outputs": [],
   "source": [
    "scouts_raw_2014_df = spark.read.option(\"encoding\", \"UTF-8\").csv(\"/cartola/data/2014/2014_scouts_raw.csv\", header=True)"
   ]
  },
  {
   "cell_type": "code",
   "execution_count": null,
   "metadata": {},
   "outputs": [],
   "source": [
    "scouts_raw_2014_ano = scouts_raw_2014_df.withColumn('ano', lit(2014))"
   ]
  },
  {
   "cell_type": "code",
   "execution_count": null,
   "metadata": {},
   "outputs": [],
   "source": [
    "scouts_raw_2014_ano.show()"
   ]
  },
  {
   "cell_type": "code",
   "execution_count": null,
   "metadata": {},
   "outputs": [],
   "source": [
    "# Removendo colunas\n",
    "scouts_raw_2014_ano = scouts_raw_2014_ano.drop('PrecoVariacao', 'Mando', 'Titular', 'Substituido', 'TempoJogado', 'FS', 'PE', 'A', 'FT', 'FD', 'FF', 'G', 'I', 'PP', 'RB', 'FC', 'GC', 'CA', 'CV', 'SG', 'DD', 'DP', 'GS', 'Participou', 'Posicao', 'Partida', 'Nota', 'Jogos')"
   ]
  },
  {
   "cell_type": "code",
   "execution_count": null,
   "metadata": {},
   "outputs": [],
   "source": [
    "# remove todas as linhas com rodada == 0\n",
    "scouts_raw_2014_ano_clean = scouts_raw_2014_ano[scouts_raw_2014_ano['Rodada'] > 0]"
   ]
  },
  {
   "cell_type": "code",
   "execution_count": null,
   "metadata": {},
   "outputs": [],
   "source": [
    "# remove todos os jogadores que não participaram de alguma rodada\n",
    "#scouts_raw_2014_ano_clean = scouts_raw_2014_ano_clean[(scouts_raw_2014_ano_clean['Participou'] == True) | (scouts_raw_2014_ano_clean['PrecoVariacao'] != 0)]"
   ]
  },
  {
   "cell_type": "code",
   "execution_count": null,
   "metadata": {},
   "outputs": [],
   "source": [
    "scouts_raw_2014_ano_clean.show()"
   ]
  },
  {
   "cell_type": "code",
   "execution_count": null,
   "metadata": {},
   "outputs": [],
   "source": [
    "#ID|PartidaID|ClubeID|AtletaID|Periodo|Momento|Tipo| ano\n",
    "scouts_raw_2014_ano_clean = scouts_raw_2014_ano_clean.withColumnRenamed(\"Atleta\", \"AtletaID\")\n",
    "scouts_raw_2014_ano_clean = scouts_raw_2014_ano_clean.withColumnRenamed(\"Clube\", \"ClubeID\")"
   ]
  },
  {
   "cell_type": "code",
   "execution_count": null,
   "metadata": {},
   "outputs": [],
   "source": [
    "scouts_raw_2014_ano_clean.write.parquet('/cartola/clean/scouts_raw/2014')"
   ]
  },
  {
   "cell_type": "code",
   "execution_count": null,
   "metadata": {},
   "outputs": [],
   "source": [
    "scouts_raw_2014_parquet = spark.read.parquet('/cartola/clean/scouts_raw/*')"
   ]
  },
  {
   "cell_type": "code",
   "execution_count": null,
   "metadata": {},
   "outputs": [],
   "source": [
    "#scouts_raw_2014_parquet.show(10000)\n",
    "scouts_raw_2014_parquet.limit(100).toPandas()"
   ]
  },
  {
   "cell_type": "code",
   "execution_count": null,
   "metadata": {},
   "outputs": [],
   "source": [
    "scouts_raw_2014_parquet.schema"
   ]
  },
  {
   "cell_type": "code",
   "execution_count": null,
   "metadata": {},
   "outputs": [],
   "source": [
    "#deve-se converter valores em BigDecimal?\n",
    "#Retirar atleta sem clube\n",
    "scouts_raw_2014_parquet = scouts_raw_2014_parquet.withColumn(\"AtletaID\", scouts_raw_2014_parquet[\"AtletaID\"].cast(IntegerType()))\n",
    "scouts_raw_2014_parquet = scouts_raw_2014_parquet.withColumn(\"Rodada\", scouts_raw_2014_parquet[\"Rodada\"].cast(IntegerType()))\n",
    "scouts_raw_2014_parquet = scouts_raw_2014_parquet.withColumn(\"ClubeID\", scouts_raw_2014_parquet[\"ClubeID\"].cast(IntegerType()))\n",
    "scouts_raw_2014_parquet = scouts_raw_2014_parquet.withColumn(\"Jogos\", scouts_raw_2014_parquet[\"Jogos\"].cast(IntegerType()))"
   ]
  },
  {
   "cell_type": "code",
   "execution_count": null,
   "metadata": {},
   "outputs": [],
   "source": [
    "#scouts_raw_2014_parquet.show()\n",
    "scouts_raw_2014_parquet.toPandas()\n",
    "#print(scouts_raw_2014_parquet.count())"
   ]
  },
  {
   "cell_type": "code",
   "execution_count": null,
   "metadata": {},
   "outputs": [],
   "source": []
  },
  {
   "cell_type": "code",
   "execution_count": null,
   "metadata": {},
   "outputs": [],
   "source": []
  },
  {
   "cell_type": "code",
   "execution_count": null,
   "metadata": {},
   "outputs": [],
   "source": []
  },
  {
   "cell_type": "code",
   "execution_count": null,
   "metadata": {},
   "outputs": [],
   "source": []
  },
  {
   "cell_type": "code",
   "execution_count": null,
   "metadata": {},
   "outputs": [],
   "source": []
  },
  {
   "cell_type": "markdown",
   "metadata": {},
   "source": [
    "## DEMONSTRAÇÃO"
   ]
  },
  {
   "cell_type": "code",
   "execution_count": null,
   "metadata": {},
   "outputs": [],
   "source": [
    "partidas_2014_df = spark.read.csv(\"/cartola/data/2014/2014_jogadores.csv\", header=True)\n",
    "partidas_2014_ct = partidas_2014_df.withColumn('time', regexp_replace('home_team', ' - RJ', ''))\n",
    "final_partidas = partidas_2014_ct.withColumn('time_low', lower(col('time'))).show(truncate=False)"
   ]
  },
  {
   "cell_type": "code",
   "execution_count": null,
   "metadata": {},
   "outputs": [],
   "source": [
    "with_ano_partidas = partidas_2014_ct.withColumn('ano', lit(2014)).show(truncate=False)\n",
    "with_ano_partidas.show()"
   ]
  },
  {
   "cell_type": "code",
   "execution_count": null,
   "metadata": {},
   "outputs": [],
   "source": [
    "Comando para sobrescrever arquivo caso já existente.\n",
    "Agrupar scouts por ID e contar (caso tenha duplicidade)"
   ]
  },
  {
   "cell_type": "code",
   "execution_count": null,
   "metadata": {},
   "outputs": [],
   "source": [
    "inner_join = partidas_ids_2014_ano.join(times_2014_ano, partidas_ids_2014_ano.Casa == times_2014_ano.ID)\n",
    "inner_join.toPandas()"
   ]
  },
  {
   "cell_type": "code",
   "execution_count": null,
   "metadata": {},
   "outputs": [],
   "source": []
  }
 ],
 "metadata": {
  "kernelspec": {
   "display_name": "PySpark",
   "language": "python",
   "name": "pyspark"
  },
  "language_info": {
   "codemirror_mode": {
    "name": "ipython",
    "version": 3
   },
   "file_extension": ".py",
   "mimetype": "text/x-python",
   "name": "python",
   "nbconvert_exporter": "python",
   "pygments_lexer": "ipython3",
   "version": "3.6.10"
  }
 },
 "nbformat": 4,
 "nbformat_minor": 2
}
