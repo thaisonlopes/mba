{
 "cells": [
  {
   "cell_type": "markdown",
   "metadata": {},
   "source": [
    "## Limpeza de dados Cartola ano 2018"
   ]
  },
  {
   "cell_type": "code",
   "execution_count": 1,
   "metadata": {},
   "outputs": [],
   "source": [
    "from pyspark.sql import HiveContext\n",
    "from pyspark.sql.types import IntegerType\n",
    "from pyspark.sql.functions import lower, col, lit, regexp_replace, lit\n",
    "import pandas as pd\n",
    "import json\n",
    "import requests"
   ]
  },
  {
   "cell_type": "markdown",
   "metadata": {},
   "source": [
    "## Dados Agregados (Ainda não consegui interpretar)"
   ]
  },
  {
   "cell_type": "code",
   "execution_count": 5,
   "metadata": {},
   "outputs": [
    {
     "data": {
      "text/html": [
       "<div>\n",
       "<style scoped>\n",
       "    .dataframe tbody tr th:only-of-type {\n",
       "        vertical-align: middle;\n",
       "    }\n",
       "\n",
       "    .dataframe tbody tr th {\n",
       "        vertical-align: top;\n",
       "    }\n",
       "\n",
       "    .dataframe thead th {\n",
       "        text-align: right;\n",
       "    }\n",
       "</style>\n",
       "<table border=\"1\" class=\"dataframe\">\n",
       "  <thead>\n",
       "    <tr style=\"text-align: right;\">\n",
       "      <th></th>\n",
       "      <th>date</th>\n",
       "      <th>home_team</th>\n",
       "      <th>away_team</th>\n",
       "      <th>home_score</th>\n",
       "      <th>away_score</th>\n",
       "      <th>round</th>\n",
       "    </tr>\n",
       "  </thead>\n",
       "  <tbody>\n",
       "    <tr>\n",
       "      <th>0</th>\n",
       "      <td>2020-08-08</td>\n",
       "      <td>356</td>\n",
       "      <td>293</td>\n",
       "      <td>0</td>\n",
       "      <td>2</td>\n",
       "      <td>1</td>\n",
       "    </tr>\n",
       "    <tr>\n",
       "      <th>1</th>\n",
       "      <td>2020-08-08</td>\n",
       "      <td>294</td>\n",
       "      <td>285</td>\n",
       "      <td>0</td>\n",
       "      <td>1</td>\n",
       "      <td>1</td>\n",
       "    </tr>\n",
       "    <tr>\n",
       "      <th>2</th>\n",
       "      <td>2020-08-08</td>\n",
       "      <td>292</td>\n",
       "      <td>354</td>\n",
       "      <td>3</td>\n",
       "      <td>2</td>\n",
       "      <td>1</td>\n",
       "    </tr>\n",
       "    <tr>\n",
       "      <th>3</th>\n",
       "      <td>2020-08-09</td>\n",
       "      <td>262</td>\n",
       "      <td>282</td>\n",
       "      <td>0</td>\n",
       "      <td>1</td>\n",
       "      <td>1</td>\n",
       "    </tr>\n",
       "    <tr>\n",
       "      <th>4</th>\n",
       "      <td>2020-08-09</td>\n",
       "      <td>277</td>\n",
       "      <td>280</td>\n",
       "      <td>1</td>\n",
       "      <td>1</td>\n",
       "      <td>1</td>\n",
       "    </tr>\n",
       "    <tr>\n",
       "      <th>...</th>\n",
       "      <td>...</td>\n",
       "      <td>...</td>\n",
       "      <td>...</td>\n",
       "      <td>...</td>\n",
       "      <td>...</td>\n",
       "      <td>...</td>\n",
       "    </tr>\n",
       "    <tr>\n",
       "      <th>385</th>\n",
       "      <td>2021-02-25</td>\n",
       "      <td>293</td>\n",
       "      <td>292</td>\n",
       "      <td>2</td>\n",
       "      <td>0</td>\n",
       "      <td>38</td>\n",
       "    </tr>\n",
       "    <tr>\n",
       "      <th>386</th>\n",
       "      <td>2021-02-25</td>\n",
       "      <td>354</td>\n",
       "      <td>263</td>\n",
       "      <td>2</td>\n",
       "      <td>1</td>\n",
       "      <td>38</td>\n",
       "    </tr>\n",
       "    <tr>\n",
       "      <th>387</th>\n",
       "      <td>2021-02-25</td>\n",
       "      <td>354</td>\n",
       "      <td>263</td>\n",
       "      <td>2</td>\n",
       "      <td>1</td>\n",
       "      <td>38</td>\n",
       "    </tr>\n",
       "    <tr>\n",
       "      <th>388</th>\n",
       "      <td>2021-02-25</td>\n",
       "      <td>373</td>\n",
       "      <td>294</td>\n",
       "      <td>3</td>\n",
       "      <td>1</td>\n",
       "      <td>38</td>\n",
       "    </tr>\n",
       "    <tr>\n",
       "      <th>389</th>\n",
       "      <td>2021-02-25</td>\n",
       "      <td>373</td>\n",
       "      <td>294</td>\n",
       "      <td>3</td>\n",
       "      <td>1</td>\n",
       "      <td>38</td>\n",
       "    </tr>\n",
       "  </tbody>\n",
       "</table>\n",
       "<p>390 rows × 6 columns</p>\n",
       "</div>"
      ],
      "text/plain": [
       "           date home_team away_team home_score away_score round\n",
       "0    2020-08-08       356       293          0          2     1\n",
       "1    2020-08-08       294       285          0          1     1\n",
       "2    2020-08-08       292       354          3          2     1\n",
       "3    2020-08-09       262       282          0          1     1\n",
       "4    2020-08-09       277       280          1          1     1\n",
       "..          ...       ...       ...        ...        ...   ...\n",
       "385  2021-02-25       293       292          2          0    38\n",
       "386  2021-02-25       354       263          2          1    38\n",
       "387  2021-02-25       354       263          2          1    38\n",
       "388  2021-02-25       373       294          3          1    38\n",
       "389  2021-02-25       373       294          3          1    38\n",
       "\n",
       "[390 rows x 6 columns]"
      ]
     },
     "execution_count": 5,
     "metadata": {},
     "output_type": "execute_result"
    }
   ],
   "source": [
    "#Carrega arquivo CSV\n",
    "dados_agregados_2020_df = spark.read.option(\"encoding\", \"UTF-8\").csv(\"/cartola/data/2020/2020_partidas.csv\", header=True)\n",
    "dados_agregados_2020_df.toPandas()"
   ]
  },
  {
   "cell_type": "code",
   "execution_count": null,
   "metadata": {},
   "outputs": [],
   "source": []
  },
  {
   "cell_type": "markdown",
   "metadata": {},
   "source": [
    "## Jogadores (Erros que não consegui compreender)"
   ]
  },
  {
   "cell_type": "code",
   "execution_count": 6,
   "metadata": {},
   "outputs": [
    {
     "name": "stdout",
     "output_type": "stream",
     "text": [
      "+-----------------+-----------------+--------------------------+------------------+--------------------+\n",
      "|atletas.atleta_id|  atletas.apelido|atletas.clube.id.full.name|atletas.posicao_id|        atletas.foto|\n",
      "+-----------------+-----------------+--------------------------+------------------+--------------------+\n",
      "|            37717|Fernando Henrique|                     Ceará|           Goleiro|https://s.glbimg....|\n",
      "|            37657|      Edu Dracena|                 Palmeiras|          Zagueiro|https://s.glbimg....|\n",
      "|            36540|             Juan|                  Flamengo|          Zagueiro|https://s.glbimg....|\n",
      "|            37281|     Mano Menezes|                  Cruzeiro|           Técnico|https://s.glbimg....|\n",
      "|            37306|    Gilson Kleina|               Chapecoense|           Técnico|https://s.glbimg....|\n",
      "|            37674|           Wagner|                     Vasco|              Meia|https://s.glbimg....|\n",
      "|            37656|            Fábio|                  Cruzeiro|           Goleiro|https://s.glbimg....|\n",
      "|            37604|      Paulo André|               Atlético-PR|          Zagueiro|https://s.glbimg....|\n",
      "|            37607|    Michel Bastos|                     Sport|              Meia|https://s.glbimg....|\n",
      "|            37688|           Cícero|                    Grêmio|              Meia|https://s.glbimg....|\n",
      "|            37662|         Jonathan|               Atlético-PR|           Lateral|https://s.glbimg....|\n",
      "|            37655|     Rafael Moura|                América-MG|          Atacante|https://s.glbimg....|\n",
      "|            60969|           Patric|               Atlético-MG|           Lateral|https://s.glbimg....|\n",
      "|            61033|      Rodriguinho|               Corinthians|              Meia|https://s.glbimg....|\n",
      "|            37701|        Léo Moura|                    Grêmio|           Lateral|https://s.glbimg....|\n",
      "|            37694|         Henrique|                  Cruzeiro|              Meia|https://s.glbimg....|\n",
      "|            37645|   Marcelo Mattos|                     Vasco|              Meia|https://s.glbimg....|\n",
      "|            61985|           Airton|                Fluminense|              Meia|https://s.glbimg....|\n",
      "|            62023|     D'Alessandro|             Internacional|              Meia|https://s.glbimg....|\n",
      "|            62009|           Camilo|             Internacional|              Meia|https://s.glbimg....|\n",
      "+-----------------+-----------------+--------------------------+------------------+--------------------+\n",
      "only showing top 20 rows\n",
      "\n"
     ]
    }
   ],
   "source": [
    "#Carrega arquivo CSV\n",
    "jogadores_2018_df = spark.read.option(\"encoding\", \"UTF-8\").csv(\"/cartola/data/2019/2018_jogadores.csv\", header=True)\n",
    "jogadores_2018_df.show()\n"
   ]
  },
  {
   "cell_type": "code",
   "execution_count": 8,
   "metadata": {},
   "outputs": [
    {
     "name": "stdout",
     "output_type": "stream",
     "text": [
      "+-----------------+-----------------+--------------------------+------------------+--------------------+----+\n",
      "|atletas.atleta_id|  atletas.apelido|atletas.clube.id.full.name|atletas.posicao_id|        atletas.foto| ano|\n",
      "+-----------------+-----------------+--------------------------+------------------+--------------------+----+\n",
      "|            37717|Fernando Henrique|                     Ceará|           Goleiro|https://s.glbimg....|2018|\n",
      "|            37657|      Edu Dracena|                 Palmeiras|          Zagueiro|https://s.glbimg....|2018|\n",
      "|            36540|             Juan|                  Flamengo|          Zagueiro|https://s.glbimg....|2018|\n",
      "|            37281|     Mano Menezes|                  Cruzeiro|           Técnico|https://s.glbimg....|2018|\n",
      "|            37306|    Gilson Kleina|               Chapecoense|           Técnico|https://s.glbimg....|2018|\n",
      "|            37674|           Wagner|                     Vasco|              Meia|https://s.glbimg....|2018|\n",
      "|            37656|            Fábio|                  Cruzeiro|           Goleiro|https://s.glbimg....|2018|\n",
      "|            37604|      Paulo André|               Atlético-PR|          Zagueiro|https://s.glbimg....|2018|\n",
      "|            37607|    Michel Bastos|                     Sport|              Meia|https://s.glbimg....|2018|\n",
      "|            37688|           Cícero|                    Grêmio|              Meia|https://s.glbimg....|2018|\n",
      "|            37662|         Jonathan|               Atlético-PR|           Lateral|https://s.glbimg....|2018|\n",
      "|            37655|     Rafael Moura|                América-MG|          Atacante|https://s.glbimg....|2018|\n",
      "|            60969|           Patric|               Atlético-MG|           Lateral|https://s.glbimg....|2018|\n",
      "|            61033|      Rodriguinho|               Corinthians|              Meia|https://s.glbimg....|2018|\n",
      "|            37701|        Léo Moura|                    Grêmio|           Lateral|https://s.glbimg....|2018|\n",
      "|            37694|         Henrique|                  Cruzeiro|              Meia|https://s.glbimg....|2018|\n",
      "|            37645|   Marcelo Mattos|                     Vasco|              Meia|https://s.glbimg....|2018|\n",
      "|            61985|           Airton|                Fluminense|              Meia|https://s.glbimg....|2018|\n",
      "|            62023|     D'Alessandro|             Internacional|              Meia|https://s.glbimg....|2018|\n",
      "|            62009|           Camilo|             Internacional|              Meia|https://s.glbimg....|2018|\n",
      "+-----------------+-----------------+--------------------------+------------------+--------------------+----+\n",
      "only showing top 20 rows\n",
      "\n"
     ]
    }
   ],
   "source": [
    "#Adiciona coluna ANO = 2018\n",
    "jogadores_2018_ano = jogadores_2018_df.withColumn('ano', lit(2018))\n",
    "jogadores_2018_ano.show()"
   ]
  },
  {
   "cell_type": "code",
   "execution_count": 9,
   "metadata": {},
   "outputs": [],
   "source": [
    "jogadores_2018_ano.write.partitionBy('ano').parquet('/cartola/2018/clean/jogadores')"
   ]
  },
  {
   "cell_type": "code",
   "execution_count": 10,
   "metadata": {},
   "outputs": [],
   "source": [
    "#transforma arquivo em parquet\n",
    "jogadores_2018_parquet = spark.read.parquet('/cartola/2018/clean/jogadores')"
   ]
  },
  {
   "cell_type": "code",
   "execution_count": 11,
   "metadata": {},
   "outputs": [
    {
     "name": "stdout",
     "output_type": "stream",
     "text": [
      "+-----------------+-----------------+--------------------------+------------------+--------------------+----+\n",
      "|atletas.atleta_id|  atletas.apelido|atletas.clube.id.full.name|atletas.posicao_id|        atletas.foto| ano|\n",
      "+-----------------+-----------------+--------------------------+------------------+--------------------+----+\n",
      "|            37717|Fernando Henrique|                     Ceará|           Goleiro|https://s.glbimg....|2018|\n",
      "|            37657|      Edu Dracena|                 Palmeiras|          Zagueiro|https://s.glbimg....|2018|\n",
      "|            36540|             Juan|                  Flamengo|          Zagueiro|https://s.glbimg....|2018|\n",
      "|            37281|     Mano Menezes|                  Cruzeiro|           Técnico|https://s.glbimg....|2018|\n",
      "|            37306|    Gilson Kleina|               Chapecoense|           Técnico|https://s.glbimg....|2018|\n",
      "|            37674|           Wagner|                     Vasco|              Meia|https://s.glbimg....|2018|\n",
      "|            37656|            Fábio|                  Cruzeiro|           Goleiro|https://s.glbimg....|2018|\n",
      "|            37604|      Paulo André|               Atlético-PR|          Zagueiro|https://s.glbimg....|2018|\n",
      "|            37607|    Michel Bastos|                     Sport|              Meia|https://s.glbimg....|2018|\n",
      "|            37688|           Cícero|                    Grêmio|              Meia|https://s.glbimg....|2018|\n",
      "|            37662|         Jonathan|               Atlético-PR|           Lateral|https://s.glbimg....|2018|\n",
      "|            37655|     Rafael Moura|                América-MG|          Atacante|https://s.glbimg....|2018|\n",
      "|            60969|           Patric|               Atlético-MG|           Lateral|https://s.glbimg....|2018|\n",
      "|            61033|      Rodriguinho|               Corinthians|              Meia|https://s.glbimg....|2018|\n",
      "|            37701|        Léo Moura|                    Grêmio|           Lateral|https://s.glbimg....|2018|\n",
      "|            37694|         Henrique|                  Cruzeiro|              Meia|https://s.glbimg....|2018|\n",
      "|            37645|   Marcelo Mattos|                     Vasco|              Meia|https://s.glbimg....|2018|\n",
      "|            61985|           Airton|                Fluminense|              Meia|https://s.glbimg....|2018|\n",
      "|            62023|     D'Alessandro|             Internacional|              Meia|https://s.glbimg....|2018|\n",
      "|            62009|           Camilo|             Internacional|              Meia|https://s.glbimg....|2018|\n",
      "+-----------------+-----------------+--------------------------+------------------+--------------------+----+\n",
      "only showing top 20 rows\n",
      "\n"
     ]
    },
    {
     "data": {
      "text/plain": [
       "StructType(List(StructField(atletas.atleta_id,StringType,true),StructField(atletas.apelido,StringType,true),StructField(atletas.clube.id.full.name,StringType,true),StructField(atletas.posicao_id,StringType,true),StructField(atletas.foto,StringType,true),StructField(ano,IntegerType,true)))"
      ]
     },
     "execution_count": 11,
     "metadata": {},
     "output_type": "execute_result"
    }
   ],
   "source": [
    "jogadores_2018_parquet.show()\n",
    "jogadores_2018_parquet.schema\n"
   ]
  }
 ],
 "metadata": {
  "kernelspec": {
   "display_name": "PySpark",
   "language": "python",
   "name": "pyspark"
  },
  "language_info": {
   "codemirror_mode": {
    "name": "ipython",
    "version": 3
   },
   "file_extension": ".py",
   "mimetype": "text/x-python",
   "name": "python",
   "nbconvert_exporter": "python",
   "pygments_lexer": "ipython3",
   "version": "3.6.10"
  }
 },
 "nbformat": 4,
 "nbformat_minor": 2
}
