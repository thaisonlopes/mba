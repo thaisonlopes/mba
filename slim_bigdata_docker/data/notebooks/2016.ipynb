{
 "cells": [
  {
   "cell_type": "markdown",
   "metadata": {},
   "source": [
    "## Limpeza de dados Cartola ano 2016"
   ]
  },
  {
   "cell_type": "code",
   "execution_count": 34,
   "metadata": {},
   "outputs": [],
   "source": [
    "from pyspark.sql import HiveContext\n",
    "from pyspark.sql.types import IntegerType\n",
    "from pyspark.sql.functions import lower, col, lit, regexp_replace\n",
    "from pyspark.sql.functions import lit\n",
    "import pandas as pd\n",
    "import json\n",
    "import requests"
   ]
  },
  {
   "cell_type": "markdown",
   "metadata": {},
   "source": [
    "## Jogadores"
   ]
  },
  {
   "cell_type": "code",
   "execution_count": 37,
   "metadata": {},
   "outputs": [],
   "source": [
    "#Carrega arquivo CSV\n",
    "jogadores_2016_df = spark.read.option(\"encoding\", \"UTF-8\").csv(\"/cartola/data/2016/2016_jogadores.csv\", header=True)\n",
    "sorted_jogadores_2016_df = jogadores_2016_df.sort(jogadores_2016_df.ID.desc())\n"
   ]
  },
  {
   "cell_type": "code",
   "execution_count": 38,
   "metadata": {},
   "outputs": [
    {
     "name": "stdout",
     "output_type": "stream",
     "text": [
      "+-----+-----------------+-------+---------+----+\n",
      "|   ID|          Apelido|ClubeID|PosicaoID| ano|\n",
      "+-----+-----------------+-------+---------+----+\n",
      "|97460|      João Victor|    344|        4|2016|\n",
      "|97451|   Talysson Lalau|    294|        4|2016|\n",
      "|97450| Gustavo Mosquito|    294|        5|2016|\n",
      "|97449|         Carvalho|    294|        4|2016|\n",
      "|97448| Thalisson Kelven|    294|        3|2016|\n",
      "|97445|Matheus Iacovelli|    275|        5|2016|\n",
      "|97444|      Julio Rusch|    294|        4|2016|\n",
      "|97443|         Romercio|    294|        3|2016|\n",
      "|97442|        Léo Cotia|    344|        5|2016|\n",
      "|97441|      Lukas Silva|    344|        1|2016|\n",
      "|97438|           Lyncon|    303|        5|2016|\n",
      "|97437|       Marquinhos|    303|        4|2016|\n",
      "|97436|        Handerson|    303|        3|2016|\n",
      "|97433|      Guilherme  |    327|        5|2016|\n",
      "|97432|  Victor Henrique|    327|        3|2016|\n",
      "|97431|            Diego|    327|        2|2016|\n",
      "|97352|            Pachu|    263|        4|2016|\n",
      "|97350|         Emiliano|    327|        4|2016|\n",
      "|97349|           Daniel|    282|        4|2016|\n",
      "|97342|       João Pedro|    316|        4|2016|\n",
      "+-----+-----------------+-------+---------+----+\n",
      "only showing top 20 rows\n",
      "\n"
     ]
    }
   ],
   "source": [
    "#Adiciona coluna ANO = 2016\n",
    "#Clube ID está como NA????\n",
    "jogadores_2016_ano = sorted_jogadores_2016_df.withColumn('ano', lit(2016))\n",
    "jogadores_2016_ano.show()"
   ]
  },
  {
   "cell_type": "code",
   "execution_count": 41,
   "metadata": {},
   "outputs": [],
   "source": [
    "jogadores_2016_ano.write.parquet('/cartola/clean/jogadores/2016')"
   ]
  },
  {
   "cell_type": "code",
   "execution_count": 42,
   "metadata": {},
   "outputs": [],
   "source": [
    "#transforma arquivo em parquet\n",
    "jogadores_2016_parquet = spark.read.parquet('/cartola/clean/jogadores/*')"
   ]
  },
  {
   "cell_type": "code",
   "execution_count": 44,
   "metadata": {},
   "outputs": [
    {
     "name": "stdout",
     "output_type": "stream",
     "text": [
      "+-----+--------------------+-------+---------+----+\n",
      "|   ID|             Apelido|ClubeID|PosicaoID| ano|\n",
      "+-----+--------------------+-------+---------+----+\n",
      "|51683|        Bruno Rangel|    315|        5|2014|\n",
      "|51705|       Bruno Rodrigo|    283|        3|2014|\n",
      "|51772|     Éverton Ribeiro|    283|        4|2014|\n",
      "|51779|       Pedro Botelho|    282|        2|2014|\n",
      "|51781|               Ávine|    265|        2|2014|\n",
      "|51985|      Anderson Pedra|    292|        4|2014|\n",
      "|41387|       Eduardo Costa|    314|        4|2015|\n",
      "|41327|Vanderlei Luxemburgo|    262|        6|2015|\n",
      "|41258|     Adilson Batista|     NA|        6|2015|\n",
      "|41218|              Magrão|    292|        1|2015|\n",
      "|41159|         João Carlos|     NA|        3|2015|\n",
      "|97460|         João Victor|    344|        4|2016|\n",
      "|97451|      Talysson Lalau|    294|        4|2016|\n",
      "|97450|    Gustavo Mosquito|    294|        5|2016|\n",
      "|97449|            Carvalho|    294|        4|2016|\n",
      "|97448|    Thalisson Kelven|    294|        3|2016|\n",
      "|97445|   Matheus Iacovelli|    275|        5|2016|\n",
      "|68945|              Saimon|     NA|        3|2015|\n",
      "|68938|    Giovanni Augusto|    282|        4|2015|\n",
      "|68932|       Renan Ribeiro|    276|        1|2015|\n",
      "+-----+--------------------+-------+---------+----+\n",
      "only showing top 20 rows\n",
      "\n"
     ]
    },
    {
     "data": {
      "text/plain": [
       "StructType(List(StructField(ID,StringType,true),StructField(Apelido,StringType,true),StructField(ClubeID,StringType,true),StructField(PosicaoID,StringType,true),StructField(ano,IntegerType,true)))"
      ]
     },
     "execution_count": 44,
     "metadata": {},
     "output_type": "execute_result"
    }
   ],
   "source": [
    "jogadores_2016_parquet.show()\n",
    "jogadores_2016_parquet.schema\n"
   ]
  },
  {
   "cell_type": "code",
   "execution_count": 45,
   "metadata": {},
   "outputs": [],
   "source": [
    "#Alterar ID para int.(está string)\n",
    "jogadores_2016_parquet = jogadores_2016_parquet.withColumn(\"ID\", jogadores_2016_parquet[\"ID\"].cast(IntegerType()))\n",
    "jogadores_2016_parquet = jogadores_2016_parquet.withColumn(\"ClubeID\", jogadores_2016_parquet[\"ClubeID\"].cast(IntegerType()))\n",
    "jogadores_2016_parquet = jogadores_2016_parquet.withColumn(\"PosicaoID\", jogadores_2016_parquet[\"PosicaoID\"].cast(IntegerType()))"
   ]
  },
  {
   "cell_type": "code",
   "execution_count": 46,
   "metadata": {},
   "outputs": [
    {
     "data": {
      "text/plain": [
       "StructType(List(StructField(ID,IntegerType,true),StructField(Apelido,StringType,true),StructField(ClubeID,IntegerType,true),StructField(PosicaoID,IntegerType,true),StructField(ano,IntegerType,true)))"
      ]
     },
     "execution_count": 46,
     "metadata": {},
     "output_type": "execute_result"
    }
   ],
   "source": [
    "jogadores_2016_parquet.schema"
   ]
  },
  {
   "cell_type": "code",
   "execution_count": 47,
   "metadata": {},
   "outputs": [
    {
     "name": "stdout",
     "output_type": "stream",
     "text": [
      "+-----+--------------------+-------+---------+----+\n",
      "|   ID|             Apelido|ClubeID|PosicaoID| ano|\n",
      "+-----+--------------------+-------+---------+----+\n",
      "|51683|        Bruno Rangel|    315|        5|2014|\n",
      "|51705|       Bruno Rodrigo|    283|        3|2014|\n",
      "|51772|     Éverton Ribeiro|    283|        4|2014|\n",
      "|51779|       Pedro Botelho|    282|        2|2014|\n",
      "|51781|               Ávine|    265|        2|2014|\n",
      "|51985|      Anderson Pedra|    292|        4|2014|\n",
      "|41387|       Eduardo Costa|    314|        4|2015|\n",
      "|41327|Vanderlei Luxemburgo|    262|        6|2015|\n",
      "|41258|     Adilson Batista|   null|        6|2015|\n",
      "|41218|              Magrão|    292|        1|2015|\n",
      "|41159|         João Carlos|   null|        3|2015|\n",
      "|97460|         João Victor|    344|        4|2016|\n",
      "|97451|      Talysson Lalau|    294|        4|2016|\n",
      "|97450|    Gustavo Mosquito|    294|        5|2016|\n",
      "|97449|            Carvalho|    294|        4|2016|\n",
      "|97448|    Thalisson Kelven|    294|        3|2016|\n",
      "|97445|   Matheus Iacovelli|    275|        5|2016|\n",
      "|68945|              Saimon|   null|        3|2015|\n",
      "|68938|    Giovanni Augusto|    282|        4|2015|\n",
      "|68932|       Renan Ribeiro|    276|        1|2015|\n",
      "+-----+--------------------+-------+---------+----+\n",
      "only showing top 20 rows\n",
      "\n",
      "3060\n"
     ]
    }
   ],
   "source": [
    "jogadores_2016_parquet.show()\n",
    "\n",
    "print(jogadores_2016_parquet.count())\n",
    "#null é o Técnico"
   ]
  },
  {
   "cell_type": "markdown",
   "metadata": {},
   "source": [
    "## Partidas_IDS (temos partidas como NA)"
   ]
  },
  {
   "cell_type": "code",
   "execution_count": 60,
   "metadata": {},
   "outputs": [],
   "source": [
    "partidas_ids_2016_df = spark.read.option(\"encoding\", \"UTF-8\").csv(\"/cartola/data/2016/2016_partidas_ids.csv\", header=True)"
   ]
  },
  {
   "cell_type": "code",
   "execution_count": 61,
   "metadata": {},
   "outputs": [],
   "source": [
    "partidas_ids_2016_ano = partidas_ids_2016_df.withColumn('ano', lit(2016))"
   ]
  },
  {
   "cell_type": "code",
   "execution_count": 62,
   "metadata": {},
   "outputs": [
    {
     "name": "stdout",
     "output_type": "stream",
     "text": [
      "+------+------+------+-----------+----------+---------------+---------+----+\n",
      "|    ID|Rodada|CasaID|VisitanteID|PlacarCasa|PlacarVisitante|Resultado| ano|\n",
      "+------+------+------+-----------+----------+---------------+---------+----+\n",
      "|201233|     1|   327|        266|         0|              1|Visitante|2016|\n",
      "|201235|     1|   344|        287|         4|              1|     Casa|2016|\n",
      "|201239|     2|   277|        294|         2|              1|     Casa|2016|\n",
      "|201242|     2|   293|        282|         1|              1|   Empate|2016|\n",
      "|201240|     2|   283|        316|         2|              2|   Empate|2016|\n",
      "|201237|     2|   266|        344|         2|              2|   Empate|2016|\n",
      "|201243|     2|   315|        327|         3|              1|     Casa|2016|\n",
      "|201238|     2|   276|        285|         1|              2|Visitante|2016|\n",
      "|201234|     1|   282|        277|         1|              0|     Casa|2016|\n",
      "|201244|     2|   303|        275|         2|              1|     Casa|2016|\n",
      "|201241|     2|   284|        262|         1|              0|     Casa|2016|\n",
      "|201236|     2|   287|        264|         3|              2|     Casa|2016|\n",
      "|201245|     2|   292|        263|         1|              1|   Empate|2016|\n",
      "|201246|     3|   263|        293|         2|              1|     Casa|2016|\n",
      "|201247|     3|   262|        315|         2|              2|   Empate|2016|\n",
      "|201250|     3|   282|        284|         0|              3|Visitante|2016|\n",
      "|201254|     3|   327|        287|         1|              1|   Empate|2016|\n",
      "|201248|     3|   264|        303|         3|              0|     Casa|2016|\n",
      "|201255|     3|   344|        283|         4|              1|     Casa|2016|\n",
      "|201249|     3|   275|        266|         2|              0|     Casa|2016|\n",
      "+------+------+------+-----------+----------+---------------+---------+----+\n",
      "only showing top 20 rows\n",
      "\n"
     ]
    }
   ],
   "source": [
    "partidas_ids_2016_ano.show()"
   ]
  },
  {
   "cell_type": "code",
   "execution_count": 63,
   "metadata": {},
   "outputs": [],
   "source": [
    "partidas_ids_2016_ano.write.parquet('/cartola/clean/partidas_ids/2016')"
   ]
  },
  {
   "cell_type": "code",
   "execution_count": 64,
   "metadata": {},
   "outputs": [],
   "source": [
    "partidas_ids_2016_parquet = spark.read.parquet('/cartola/clean/partidas_ids/*')"
   ]
  },
  {
   "cell_type": "code",
   "execution_count": 65,
   "metadata": {},
   "outputs": [
    {
     "name": "stdout",
     "output_type": "stream",
     "text": [
      "+------+------+------+-----------+----------+---------------+---------+----+\n",
      "|    ID|Rodada|CasaID|VisitanteID|PlacarCasa|PlacarVisitante|Resultado| ano|\n",
      "+------+------+------+-----------+----------+---------------+---------+----+\n",
      "|201233|     1|   327|        266|         0|              1|Visitante|2016|\n",
      "|201235|     1|   344|        287|         4|              1|     Casa|2016|\n",
      "|201239|     2|   277|        294|         2|              1|     Casa|2016|\n",
      "|201242|     2|   293|        282|         1|              1|   Empate|2016|\n",
      "|201240|     2|   283|        316|         2|              2|   Empate|2016|\n",
      "|201237|     2|   266|        344|         2|              2|   Empate|2016|\n",
      "|201243|     2|   315|        327|         3|              1|     Casa|2016|\n",
      "|201238|     2|   276|        285|         1|              2|Visitante|2016|\n",
      "|201234|     1|   282|        277|         1|              0|     Casa|2016|\n",
      "|201244|     2|   303|        275|         2|              1|     Casa|2016|\n",
      "|201241|     2|   284|        262|         1|              0|     Casa|2016|\n",
      "|201236|     2|   287|        264|         3|              2|     Casa|2016|\n",
      "|201245|     2|   292|        263|         1|              1|   Empate|2016|\n",
      "|201246|     3|   263|        293|         2|              1|     Casa|2016|\n",
      "|201247|     3|   262|        315|         2|              2|   Empate|2016|\n",
      "|201250|     3|   282|        284|         0|              3|Visitante|2016|\n",
      "|201254|     3|   327|        287|         1|              1|   Empate|2016|\n",
      "|201248|     3|   264|        303|         3|              0|     Casa|2016|\n",
      "|201255|     3|   344|        283|         4|              1|     Casa|2016|\n",
      "|201249|     3|   275|        266|         2|              0|     Casa|2016|\n",
      "+------+------+------+-----------+----------+---------------+---------+----+\n",
      "only showing top 20 rows\n",
      "\n"
     ]
    },
    {
     "data": {
      "text/plain": [
       "StructType(List(StructField(ID,StringType,true),StructField(Rodada,StringType,true),StructField(CasaID,StringType,true),StructField(VisitanteID,StringType,true),StructField(PlacarCasa,StringType,true),StructField(PlacarVisitante,StringType,true),StructField(Resultado,StringType,true),StructField(ano,IntegerType,true)))"
      ]
     },
     "execution_count": 65,
     "metadata": {},
     "output_type": "execute_result"
    }
   ],
   "source": [
    "partidas_ids_2016_parquet.show()\n",
    "partidas_ids_2016_parquet.schema"
   ]
  },
  {
   "cell_type": "code",
   "execution_count": 67,
   "metadata": {},
   "outputs": [],
   "source": [
    "partidas_ids_2016_parquet = partidas_ids_2016_parquet.withColumn(\"ID\", partidas_ids_2016_parquet[\"ID\"].cast(IntegerType()))\n",
    "partidas_ids_2016_parquet = partidas_ids_2016_parquet.withColumn(\"Rodada\", partidas_ids_2016_parquet[\"Rodada\"].cast(IntegerType()))\n",
    "partidas_ids_2016_parquet = partidas_ids_2016_parquet.withColumn(\"CasaID\", partidas_ids_2016_parquet[\"CasaID\"].cast(IntegerType()))\n",
    "partidas_ids_2016_parquet = partidas_ids_2016_parquet.withColumn(\"VisitanteID\", partidas_ids_2016_parquet[\"VisitanteID\"].cast(IntegerType()))\n",
    "partidas_ids_2016_parquet = partidas_ids_2016_parquet.withColumn(\"PlacarCasa\", partidas_ids_2016_parquet[\"PlacarCasa\"].cast(IntegerType()))\n",
    "partidas_ids_2016_parquet = partidas_ids_2016_parquet.withColumn(\"PlacarVisitante\", partidas_ids_2016_parquet[\"PlacarVisitante\"].cast(IntegerType()))"
   ]
  },
  {
   "cell_type": "code",
   "execution_count": 68,
   "metadata": {},
   "outputs": [
    {
     "name": "stdout",
     "output_type": "stream",
     "text": [
      "+------+------+------+-----------+----------+---------------+---------+----+\n",
      "|    ID|Rodada|CasaID|VisitanteID|PlacarCasa|PlacarVisitante|Resultado| ano|\n",
      "+------+------+------+-----------+----------+---------------+---------+----+\n",
      "|201233|     1|   327|        266|         0|              1|Visitante|2016|\n",
      "|201235|     1|   344|        287|         4|              1|     Casa|2016|\n",
      "|201239|     2|   277|        294|         2|              1|     Casa|2016|\n",
      "|201242|     2|   293|        282|         1|              1|   Empate|2016|\n",
      "|201240|     2|   283|        316|         2|              2|   Empate|2016|\n",
      "|201237|     2|   266|        344|         2|              2|   Empate|2016|\n",
      "|201243|     2|   315|        327|         3|              1|     Casa|2016|\n",
      "|201238|     2|   276|        285|         1|              2|Visitante|2016|\n",
      "|201234|     1|   282|        277|         1|              0|     Casa|2016|\n",
      "|201244|     2|   303|        275|         2|              1|     Casa|2016|\n",
      "|201241|     2|   284|        262|         1|              0|     Casa|2016|\n",
      "|201236|     2|   287|        264|         3|              2|     Casa|2016|\n",
      "|201245|     2|   292|        263|         1|              1|   Empate|2016|\n",
      "|201246|     3|   263|        293|         2|              1|     Casa|2016|\n",
      "|201247|     3|   262|        315|         2|              2|   Empate|2016|\n",
      "|201250|     3|   282|        284|         0|              3|Visitante|2016|\n",
      "|201254|     3|   327|        287|         1|              1|   Empate|2016|\n",
      "|201248|     3|   264|        303|         3|              0|     Casa|2016|\n",
      "|201255|     3|   344|        283|         4|              1|     Casa|2016|\n",
      "|201249|     3|   275|        266|         2|              0|     Casa|2016|\n",
      "+------+------+------+-----------+----------+---------------+---------+----+\n",
      "only showing top 20 rows\n",
      "\n",
      "1140\n"
     ]
    }
   ],
   "source": [
    "partidas_ids_2016_parquet.show()\n",
    "\n",
    "print(partidas_ids_2016_parquet.count())"
   ]
  },
  {
   "cell_type": "code",
   "execution_count": null,
   "metadata": {},
   "outputs": [],
   "source": []
  },
  {
   "cell_type": "markdown",
   "metadata": {},
   "source": [
    "## scouts_raw"
   ]
  },
  {
   "cell_type": "code",
   "execution_count": 89,
   "metadata": {},
   "outputs": [],
   "source": [
    "scouts_raw_2016_df = spark.read.option(\"encoding\", \"UTF-8\").csv(\"/cartola/data/2016/2016_scouts_raw.csv\", header=True)"
   ]
  },
  {
   "cell_type": "code",
   "execution_count": 90,
   "metadata": {},
   "outputs": [],
   "source": [
    "scouts_raw_2016_ano = scouts_raw_2016_df.withColumn('ano', lit(2016))"
   ]
  },
  {
   "cell_type": "code",
   "execution_count": 91,
   "metadata": {},
   "outputs": [
    {
     "data": {
      "text/html": [
       "<div>\n",
       "<style scoped>\n",
       "    .dataframe tbody tr th:only-of-type {\n",
       "        vertical-align: middle;\n",
       "    }\n",
       "\n",
       "    .dataframe tbody tr th {\n",
       "        vertical-align: top;\n",
       "    }\n",
       "\n",
       "    .dataframe thead th {\n",
       "        text-align: right;\n",
       "    }\n",
       "</style>\n",
       "<table border=\"1\" class=\"dataframe\">\n",
       "  <thead>\n",
       "    <tr style=\"text-align: right;\">\n",
       "      <th></th>\n",
       "      <th>Rodada</th>\n",
       "      <th>ClubeID</th>\n",
       "      <th>AtletaID</th>\n",
       "      <th>Participou</th>\n",
       "      <th>Pontos</th>\n",
       "      <th>PontosMedia</th>\n",
       "      <th>Preco</th>\n",
       "      <th>PrecoVariacao</th>\n",
       "      <th>FS</th>\n",
       "      <th>PE</th>\n",
       "      <th>...</th>\n",
       "      <th>RB</th>\n",
       "      <th>FC</th>\n",
       "      <th>GC</th>\n",
       "      <th>CA</th>\n",
       "      <th>CV</th>\n",
       "      <th>SG</th>\n",
       "      <th>DD</th>\n",
       "      <th>DP</th>\n",
       "      <th>GS</th>\n",
       "      <th>ano</th>\n",
       "    </tr>\n",
       "  </thead>\n",
       "  <tbody>\n",
       "    <tr>\n",
       "      <th>0</th>\n",
       "      <td>0</td>\n",
       "      <td>294</td>\n",
       "      <td>37623</td>\n",
       "      <td>FALSE</td>\n",
       "      <td>0</td>\n",
       "      <td>0</td>\n",
       "      <td>4</td>\n",
       "      <td>0</td>\n",
       "      <td>0</td>\n",
       "      <td>0</td>\n",
       "      <td>...</td>\n",
       "      <td>0</td>\n",
       "      <td>0</td>\n",
       "      <td>0</td>\n",
       "      <td>0</td>\n",
       "      <td>0</td>\n",
       "      <td>0</td>\n",
       "      <td>0</td>\n",
       "      <td>0</td>\n",
       "      <td>0</td>\n",
       "      <td>2016</td>\n",
       "    </tr>\n",
       "    <tr>\n",
       "      <th>1</th>\n",
       "      <td>1</td>\n",
       "      <td>294</td>\n",
       "      <td>37623</td>\n",
       "      <td>TRUE</td>\n",
       "      <td>5.3</td>\n",
       "      <td>5.3</td>\n",
       "      <td>6.84</td>\n",
       "      <td>2.84</td>\n",
       "      <td>0</td>\n",
       "      <td>3</td>\n",
       "      <td>...</td>\n",
       "      <td>1</td>\n",
       "      <td>1</td>\n",
       "      <td>0</td>\n",
       "      <td>0</td>\n",
       "      <td>0</td>\n",
       "      <td>1</td>\n",
       "      <td>0</td>\n",
       "      <td>0</td>\n",
       "      <td>0</td>\n",
       "      <td>2016</td>\n",
       "    </tr>\n",
       "    <tr>\n",
       "      <th>2</th>\n",
       "      <td>2</td>\n",
       "      <td>294</td>\n",
       "      <td>37623</td>\n",
       "      <td>TRUE</td>\n",
       "      <td>-0.5</td>\n",
       "      <td>2.4</td>\n",
       "      <td>6.67</td>\n",
       "      <td>-0.17</td>\n",
       "      <td>0</td>\n",
       "      <td>0</td>\n",
       "      <td>...</td>\n",
       "      <td>0</td>\n",
       "      <td>1</td>\n",
       "      <td>0</td>\n",
       "      <td>0</td>\n",
       "      <td>0</td>\n",
       "      <td>0</td>\n",
       "      <td>0</td>\n",
       "      <td>0</td>\n",
       "      <td>0</td>\n",
       "      <td>2016</td>\n",
       "    </tr>\n",
       "    <tr>\n",
       "      <th>3</th>\n",
       "      <td>3</td>\n",
       "      <td>294</td>\n",
       "      <td>37623</td>\n",
       "      <td>TRUE</td>\n",
       "      <td>2.3</td>\n",
       "      <td>2.37</td>\n",
       "      <td>6.98</td>\n",
       "      <td>0.31</td>\n",
       "      <td>1</td>\n",
       "      <td>2</td>\n",
       "      <td>...</td>\n",
       "      <td>2</td>\n",
       "      <td>2</td>\n",
       "      <td>0</td>\n",
       "      <td>0</td>\n",
       "      <td>0</td>\n",
       "      <td>0</td>\n",
       "      <td>0</td>\n",
       "      <td>0</td>\n",
       "      <td>0</td>\n",
       "      <td>2016</td>\n",
       "    </tr>\n",
       "    <tr>\n",
       "      <th>4</th>\n",
       "      <td>4</td>\n",
       "      <td>294</td>\n",
       "      <td>37623</td>\n",
       "      <td>TRUE</td>\n",
       "      <td>-2.7</td>\n",
       "      <td>1.1</td>\n",
       "      <td>5.5</td>\n",
       "      <td>-1.48</td>\n",
       "      <td>0</td>\n",
       "      <td>3</td>\n",
       "      <td>...</td>\n",
       "      <td>1</td>\n",
       "      <td>3</td>\n",
       "      <td>0</td>\n",
       "      <td>1</td>\n",
       "      <td>0</td>\n",
       "      <td>0</td>\n",
       "      <td>0</td>\n",
       "      <td>0</td>\n",
       "      <td>0</td>\n",
       "      <td>2016</td>\n",
       "    </tr>\n",
       "    <tr>\n",
       "      <th>5</th>\n",
       "      <td>5</td>\n",
       "      <td>294</td>\n",
       "      <td>37623</td>\n",
       "      <td>TRUE</td>\n",
       "      <td>8.2</td>\n",
       "      <td>2.52</td>\n",
       "      <td>7.84</td>\n",
       "      <td>2.34</td>\n",
       "      <td>2</td>\n",
       "      <td>4</td>\n",
       "      <td>...</td>\n",
       "      <td>2</td>\n",
       "      <td>2</td>\n",
       "      <td>0</td>\n",
       "      <td>1</td>\n",
       "      <td>0</td>\n",
       "      <td>0</td>\n",
       "      <td>0</td>\n",
       "      <td>0</td>\n",
       "      <td>0</td>\n",
       "      <td>2016</td>\n",
       "    </tr>\n",
       "    <tr>\n",
       "      <th>6</th>\n",
       "      <td>6</td>\n",
       "      <td>294</td>\n",
       "      <td>37623</td>\n",
       "      <td>TRUE</td>\n",
       "      <td>0.3</td>\n",
       "      <td>2.15</td>\n",
       "      <td>6.55</td>\n",
       "      <td>-1.29</td>\n",
       "      <td>1</td>\n",
       "      <td>2</td>\n",
       "      <td>...</td>\n",
       "      <td>2</td>\n",
       "      <td>2</td>\n",
       "      <td>0</td>\n",
       "      <td>1</td>\n",
       "      <td>0</td>\n",
       "      <td>0</td>\n",
       "      <td>0</td>\n",
       "      <td>0</td>\n",
       "      <td>0</td>\n",
       "      <td>2016</td>\n",
       "    </tr>\n",
       "    <tr>\n",
       "      <th>7</th>\n",
       "      <td>7</td>\n",
       "      <td>294</td>\n",
       "      <td>37623</td>\n",
       "      <td>FALSE</td>\n",
       "      <td>0</td>\n",
       "      <td>2.15</td>\n",
       "      <td>6.55</td>\n",
       "      <td>0</td>\n",
       "      <td>0</td>\n",
       "      <td>0</td>\n",
       "      <td>...</td>\n",
       "      <td>0</td>\n",
       "      <td>0</td>\n",
       "      <td>0</td>\n",
       "      <td>0</td>\n",
       "      <td>0</td>\n",
       "      <td>0</td>\n",
       "      <td>0</td>\n",
       "      <td>0</td>\n",
       "      <td>0</td>\n",
       "      <td>2016</td>\n",
       "    </tr>\n",
       "    <tr>\n",
       "      <th>8</th>\n",
       "      <td>8</td>\n",
       "      <td>294</td>\n",
       "      <td>37623</td>\n",
       "      <td>TRUE</td>\n",
       "      <td>1.1</td>\n",
       "      <td>2</td>\n",
       "      <td>6.5</td>\n",
       "      <td>-0.05</td>\n",
       "      <td>0</td>\n",
       "      <td>2</td>\n",
       "      <td>...</td>\n",
       "      <td>1</td>\n",
       "      <td>0</td>\n",
       "      <td>0</td>\n",
       "      <td>0</td>\n",
       "      <td>0</td>\n",
       "      <td>0</td>\n",
       "      <td>0</td>\n",
       "      <td>0</td>\n",
       "      <td>0</td>\n",
       "      <td>2016</td>\n",
       "    </tr>\n",
       "    <tr>\n",
       "      <th>9</th>\n",
       "      <td>9</td>\n",
       "      <td>294</td>\n",
       "      <td>37623</td>\n",
       "      <td>TRUE</td>\n",
       "      <td>4.4</td>\n",
       "      <td>2.3</td>\n",
       "      <td>7.2</td>\n",
       "      <td>0.7</td>\n",
       "      <td>2</td>\n",
       "      <td>4</td>\n",
       "      <td>...</td>\n",
       "      <td>3</td>\n",
       "      <td>1</td>\n",
       "      <td>0</td>\n",
       "      <td>0</td>\n",
       "      <td>0</td>\n",
       "      <td>0</td>\n",
       "      <td>0</td>\n",
       "      <td>0</td>\n",
       "      <td>0</td>\n",
       "      <td>2016</td>\n",
       "    </tr>\n",
       "  </tbody>\n",
       "</table>\n",
       "<p>10 rows × 27 columns</p>\n",
       "</div>"
      ],
      "text/plain": [
       "  Rodada ClubeID AtletaID Participou Pontos PontosMedia Preco PrecoVariacao  \\\n",
       "0      0     294    37623      FALSE      0           0     4             0   \n",
       "1      1     294    37623       TRUE    5.3         5.3  6.84          2.84   \n",
       "2      2     294    37623       TRUE   -0.5         2.4  6.67         -0.17   \n",
       "3      3     294    37623       TRUE    2.3        2.37  6.98          0.31   \n",
       "4      4     294    37623       TRUE   -2.7         1.1   5.5         -1.48   \n",
       "5      5     294    37623       TRUE    8.2        2.52  7.84          2.34   \n",
       "6      6     294    37623       TRUE    0.3        2.15  6.55         -1.29   \n",
       "7      7     294    37623      FALSE      0        2.15  6.55             0   \n",
       "8      8     294    37623       TRUE    1.1           2   6.5         -0.05   \n",
       "9      9     294    37623       TRUE    4.4         2.3   7.2           0.7   \n",
       "\n",
       "  FS PE  ... RB FC GC CA CV SG DD DP GS   ano  \n",
       "0  0  0  ...  0  0  0  0  0  0  0  0  0  2016  \n",
       "1  0  3  ...  1  1  0  0  0  1  0  0  0  2016  \n",
       "2  0  0  ...  0  1  0  0  0  0  0  0  0  2016  \n",
       "3  1  2  ...  2  2  0  0  0  0  0  0  0  2016  \n",
       "4  0  3  ...  1  3  0  1  0  0  0  0  0  2016  \n",
       "5  2  4  ...  2  2  0  1  0  0  0  0  0  2016  \n",
       "6  1  2  ...  2  2  0  1  0  0  0  0  0  2016  \n",
       "7  0  0  ...  0  0  0  0  0  0  0  0  0  2016  \n",
       "8  0  2  ...  1  0  0  0  0  0  0  0  0  2016  \n",
       "9  2  4  ...  3  1  0  0  0  0  0  0  0  2016  \n",
       "\n",
       "[10 rows x 27 columns]"
      ]
     },
     "execution_count": 91,
     "metadata": {},
     "output_type": "execute_result"
    }
   ],
   "source": [
    "scouts_raw_2016_ano.limit(10).toPandas()"
   ]
  },
  {
   "cell_type": "code",
   "execution_count": 92,
   "metadata": {},
   "outputs": [],
   "source": [
    "# Removendo colunas\n",
    "scouts_raw_2016_ano = scouts_raw_2016_ano.drop('PrecoVariacao', 'Mando', 'Participou', 'Titular', 'Substituido', 'TempoJogado', 'FS', 'PE', 'A', 'FT', 'FD', 'FF', 'G', 'I', 'PP', 'RB', 'FC', 'GC', 'CA', 'CV', 'SG', 'DD', 'DP', 'GS')"
   ]
  },
  {
   "cell_type": "code",
   "execution_count": 93,
   "metadata": {},
   "outputs": [],
   "source": [
    "# remove todas as linhas com rodada == 0 | scouts_raw_2016_ano = scouts_raw_2016_ano.drop('')\n",
    "scouts_raw_2016_ano_clean = scouts_raw_2016_ano[scouts_raw_2016_ano['Rodada'] > 0]"
   ]
  },
  {
   "cell_type": "code",
   "execution_count": 94,
   "metadata": {},
   "outputs": [
    {
     "data": {
      "text/html": [
       "<div>\n",
       "<style scoped>\n",
       "    .dataframe tbody tr th:only-of-type {\n",
       "        vertical-align: middle;\n",
       "    }\n",
       "\n",
       "    .dataframe tbody tr th {\n",
       "        vertical-align: top;\n",
       "    }\n",
       "\n",
       "    .dataframe thead th {\n",
       "        text-align: right;\n",
       "    }\n",
       "</style>\n",
       "<table border=\"1\" class=\"dataframe\">\n",
       "  <thead>\n",
       "    <tr style=\"text-align: right;\">\n",
       "      <th></th>\n",
       "      <th>Rodada</th>\n",
       "      <th>ClubeID</th>\n",
       "      <th>AtletaID</th>\n",
       "      <th>Pontos</th>\n",
       "      <th>PontosMedia</th>\n",
       "      <th>Preco</th>\n",
       "      <th>ano</th>\n",
       "    </tr>\n",
       "  </thead>\n",
       "  <tbody>\n",
       "    <tr>\n",
       "      <th>0</th>\n",
       "      <td>1</td>\n",
       "      <td>294</td>\n",
       "      <td>37623</td>\n",
       "      <td>5.3</td>\n",
       "      <td>5.3</td>\n",
       "      <td>6.84</td>\n",
       "      <td>2016</td>\n",
       "    </tr>\n",
       "    <tr>\n",
       "      <th>1</th>\n",
       "      <td>2</td>\n",
       "      <td>294</td>\n",
       "      <td>37623</td>\n",
       "      <td>-0.5</td>\n",
       "      <td>2.4</td>\n",
       "      <td>6.67</td>\n",
       "      <td>2016</td>\n",
       "    </tr>\n",
       "    <tr>\n",
       "      <th>2</th>\n",
       "      <td>3</td>\n",
       "      <td>294</td>\n",
       "      <td>37623</td>\n",
       "      <td>2.3</td>\n",
       "      <td>2.37</td>\n",
       "      <td>6.98</td>\n",
       "      <td>2016</td>\n",
       "    </tr>\n",
       "    <tr>\n",
       "      <th>3</th>\n",
       "      <td>4</td>\n",
       "      <td>294</td>\n",
       "      <td>37623</td>\n",
       "      <td>-2.7</td>\n",
       "      <td>1.1</td>\n",
       "      <td>5.5</td>\n",
       "      <td>2016</td>\n",
       "    </tr>\n",
       "    <tr>\n",
       "      <th>4</th>\n",
       "      <td>5</td>\n",
       "      <td>294</td>\n",
       "      <td>37623</td>\n",
       "      <td>8.2</td>\n",
       "      <td>2.52</td>\n",
       "      <td>7.84</td>\n",
       "      <td>2016</td>\n",
       "    </tr>\n",
       "    <tr>\n",
       "      <th>5</th>\n",
       "      <td>6</td>\n",
       "      <td>294</td>\n",
       "      <td>37623</td>\n",
       "      <td>0.3</td>\n",
       "      <td>2.15</td>\n",
       "      <td>6.55</td>\n",
       "      <td>2016</td>\n",
       "    </tr>\n",
       "    <tr>\n",
       "      <th>6</th>\n",
       "      <td>7</td>\n",
       "      <td>294</td>\n",
       "      <td>37623</td>\n",
       "      <td>0</td>\n",
       "      <td>2.15</td>\n",
       "      <td>6.55</td>\n",
       "      <td>2016</td>\n",
       "    </tr>\n",
       "    <tr>\n",
       "      <th>7</th>\n",
       "      <td>8</td>\n",
       "      <td>294</td>\n",
       "      <td>37623</td>\n",
       "      <td>1.1</td>\n",
       "      <td>2</td>\n",
       "      <td>6.5</td>\n",
       "      <td>2016</td>\n",
       "    </tr>\n",
       "    <tr>\n",
       "      <th>8</th>\n",
       "      <td>9</td>\n",
       "      <td>294</td>\n",
       "      <td>37623</td>\n",
       "      <td>4.4</td>\n",
       "      <td>2.3</td>\n",
       "      <td>7.2</td>\n",
       "      <td>2016</td>\n",
       "    </tr>\n",
       "    <tr>\n",
       "      <th>9</th>\n",
       "      <td>10</td>\n",
       "      <td>294</td>\n",
       "      <td>37623</td>\n",
       "      <td>0</td>\n",
       "      <td>2.3</td>\n",
       "      <td>7.2</td>\n",
       "      <td>2016</td>\n",
       "    </tr>\n",
       "  </tbody>\n",
       "</table>\n",
       "</div>"
      ],
      "text/plain": [
       "  Rodada ClubeID AtletaID Pontos PontosMedia Preco   ano\n",
       "0      1     294    37623    5.3         5.3  6.84  2016\n",
       "1      2     294    37623   -0.5         2.4  6.67  2016\n",
       "2      3     294    37623    2.3        2.37  6.98  2016\n",
       "3      4     294    37623   -2.7         1.1   5.5  2016\n",
       "4      5     294    37623    8.2        2.52  7.84  2016\n",
       "5      6     294    37623    0.3        2.15  6.55  2016\n",
       "6      7     294    37623      0        2.15  6.55  2016\n",
       "7      8     294    37623    1.1           2   6.5  2016\n",
       "8      9     294    37623    4.4         2.3   7.2  2016\n",
       "9     10     294    37623      0         2.3   7.2  2016"
      ]
     },
     "execution_count": 94,
     "metadata": {},
     "output_type": "execute_result"
    }
   ],
   "source": [
    "scouts_raw_2016_ano_clean.limit(10).toPandas()"
   ]
  },
  {
   "cell_type": "code",
   "execution_count": 95,
   "metadata": {},
   "outputs": [],
   "source": [
    "scouts_raw_2016_ano_clean.write.parquet('/cartola/clean/scouts_raw/2016')"
   ]
  },
  {
   "cell_type": "code",
   "execution_count": 96,
   "metadata": {},
   "outputs": [],
   "source": [
    "scouts_raw_2016_parquet = spark.read.parquet('/cartola/clean/scouts_raw/*')"
   ]
  },
  {
   "cell_type": "code",
   "execution_count": 97,
   "metadata": {},
   "outputs": [
    {
     "data": {
      "text/html": [
       "<div>\n",
       "<style scoped>\n",
       "    .dataframe tbody tr th:only-of-type {\n",
       "        vertical-align: middle;\n",
       "    }\n",
       "\n",
       "    .dataframe tbody tr th {\n",
       "        vertical-align: top;\n",
       "    }\n",
       "\n",
       "    .dataframe thead th {\n",
       "        text-align: right;\n",
       "    }\n",
       "</style>\n",
       "<table border=\"1\" class=\"dataframe\">\n",
       "  <thead>\n",
       "    <tr style=\"text-align: right;\">\n",
       "      <th></th>\n",
       "      <th>AtletaID</th>\n",
       "      <th>Rodada</th>\n",
       "      <th>ClubeID</th>\n",
       "      <th>Pontos</th>\n",
       "      <th>PontosMedia</th>\n",
       "      <th>Preco</th>\n",
       "      <th>ano</th>\n",
       "    </tr>\n",
       "  </thead>\n",
       "  <tbody>\n",
       "    <tr>\n",
       "      <th>0</th>\n",
       "      <td>81121</td>\n",
       "      <td>1</td>\n",
       "      <td>262</td>\n",
       "      <td>-2.3</td>\n",
       "      <td>-2.3</td>\n",
       "      <td>0.79</td>\n",
       "      <td>2015</td>\n",
       "    </tr>\n",
       "    <tr>\n",
       "      <th>1</th>\n",
       "      <td>81219</td>\n",
       "      <td>1</td>\n",
       "      <td>262</td>\n",
       "      <td>0</td>\n",
       "      <td>0</td>\n",
       "      <td>1</td>\n",
       "      <td>2015</td>\n",
       "    </tr>\n",
       "    <tr>\n",
       "      <th>2</th>\n",
       "      <td>88072</td>\n",
       "      <td>1</td>\n",
       "      <td>262</td>\n",
       "      <td>0</td>\n",
       "      <td>0</td>\n",
       "      <td>1</td>\n",
       "      <td>2015</td>\n",
       "    </tr>\n",
       "    <tr>\n",
       "      <th>3</th>\n",
       "      <td>89258</td>\n",
       "      <td>1</td>\n",
       "      <td>262</td>\n",
       "      <td>0</td>\n",
       "      <td>0</td>\n",
       "      <td>1</td>\n",
       "      <td>2015</td>\n",
       "    </tr>\n",
       "    <tr>\n",
       "      <th>4</th>\n",
       "      <td>91263</td>\n",
       "      <td>1</td>\n",
       "      <td>262</td>\n",
       "      <td>0</td>\n",
       "      <td>0</td>\n",
       "      <td>1</td>\n",
       "      <td>2015</td>\n",
       "    </tr>\n",
       "    <tr>\n",
       "      <th>...</th>\n",
       "      <td>...</td>\n",
       "      <td>...</td>\n",
       "      <td>...</td>\n",
       "      <td>...</td>\n",
       "      <td>...</td>\n",
       "      <td>...</td>\n",
       "      <td>...</td>\n",
       "    </tr>\n",
       "    <tr>\n",
       "      <th>95</th>\n",
       "      <td>38229</td>\n",
       "      <td>1</td>\n",
       "      <td>264</td>\n",
       "      <td>0</td>\n",
       "      <td>0</td>\n",
       "      <td>13</td>\n",
       "      <td>2015</td>\n",
       "    </tr>\n",
       "    <tr>\n",
       "      <th>96</th>\n",
       "      <td>38398</td>\n",
       "      <td>1</td>\n",
       "      <td>264</td>\n",
       "      <td>0</td>\n",
       "      <td>0</td>\n",
       "      <td>15</td>\n",
       "      <td>2015</td>\n",
       "    </tr>\n",
       "    <tr>\n",
       "      <th>97</th>\n",
       "      <td>54395</td>\n",
       "      <td>1</td>\n",
       "      <td>264</td>\n",
       "      <td>0</td>\n",
       "      <td>0</td>\n",
       "      <td>15</td>\n",
       "      <td>2015</td>\n",
       "    </tr>\n",
       "    <tr>\n",
       "      <th>98</th>\n",
       "      <td>68744</td>\n",
       "      <td>1</td>\n",
       "      <td>264</td>\n",
       "      <td>0.2</td>\n",
       "      <td>0.2</td>\n",
       "      <td>15.19</td>\n",
       "      <td>2015</td>\n",
       "    </tr>\n",
       "    <tr>\n",
       "      <th>99</th>\n",
       "      <td>45125</td>\n",
       "      <td>1</td>\n",
       "      <td>264</td>\n",
       "      <td>4.31</td>\n",
       "      <td>4.31</td>\n",
       "      <td>15.27</td>\n",
       "      <td>2015</td>\n",
       "    </tr>\n",
       "  </tbody>\n",
       "</table>\n",
       "<p>100 rows × 7 columns</p>\n",
       "</div>"
      ],
      "text/plain": [
       "   AtletaID Rodada ClubeID Pontos PontosMedia  Preco   ano\n",
       "0     81121      1     262   -2.3        -2.3   0.79  2015\n",
       "1     81219      1     262      0           0      1  2015\n",
       "2     88072      1     262      0           0      1  2015\n",
       "3     89258      1     262      0           0      1  2015\n",
       "4     91263      1     262      0           0      1  2015\n",
       "..      ...    ...     ...    ...         ...    ...   ...\n",
       "95    38229      1     264      0           0     13  2015\n",
       "96    38398      1     264      0           0     15  2015\n",
       "97    54395      1     264      0           0     15  2015\n",
       "98    68744      1     264    0.2         0.2  15.19  2015\n",
       "99    45125      1     264   4.31        4.31  15.27  2015\n",
       "\n",
       "[100 rows x 7 columns]"
      ]
     },
     "execution_count": 97,
     "metadata": {},
     "output_type": "execute_result"
    }
   ],
   "source": [
    "scouts_raw_2016_parquet.schema\n",
    "scouts_raw_2016_parquet.limit(100).toPandas()"
   ]
  },
  {
   "cell_type": "code",
   "execution_count": 98,
   "metadata": {},
   "outputs": [],
   "source": [
    "#deve-se converter valores em BigDecimal?\n",
    "scouts_raw_2016_parquet = scouts_raw_2016_parquet.withColumn(\"Rodada\", scouts_raw_2016_parquet[\"Rodada\"].cast(IntegerType()))\n",
    "scouts_raw_2016_parquet = scouts_raw_2016_parquet.withColumn(\"ClubeID\", scouts_raw_2016_parquet[\"ClubeID\"].cast(IntegerType()))\n",
    "scouts_raw_2016_parquet = scouts_raw_2016_parquet.withColumn(\"AtletaID\", scouts_raw_2016_parquet[\"AtletaID\"].cast(IntegerType()))"
   ]
  },
  {
   "cell_type": "code",
   "execution_count": 99,
   "metadata": {},
   "outputs": [
    {
     "data": {
      "text/html": [
       "<div>\n",
       "<style scoped>\n",
       "    .dataframe tbody tr th:only-of-type {\n",
       "        vertical-align: middle;\n",
       "    }\n",
       "\n",
       "    .dataframe tbody tr th {\n",
       "        vertical-align: top;\n",
       "    }\n",
       "\n",
       "    .dataframe thead th {\n",
       "        text-align: right;\n",
       "    }\n",
       "</style>\n",
       "<table border=\"1\" class=\"dataframe\">\n",
       "  <thead>\n",
       "    <tr style=\"text-align: right;\">\n",
       "      <th></th>\n",
       "      <th>AtletaID</th>\n",
       "      <th>Rodada</th>\n",
       "      <th>ClubeID</th>\n",
       "      <th>Pontos</th>\n",
       "      <th>PontosMedia</th>\n",
       "      <th>Preco</th>\n",
       "      <th>ano</th>\n",
       "    </tr>\n",
       "  </thead>\n",
       "  <tbody>\n",
       "    <tr>\n",
       "      <th>0</th>\n",
       "      <td>81121</td>\n",
       "      <td>1</td>\n",
       "      <td>262</td>\n",
       "      <td>-2.3</td>\n",
       "      <td>-2.3</td>\n",
       "      <td>0.79</td>\n",
       "      <td>2015</td>\n",
       "    </tr>\n",
       "    <tr>\n",
       "      <th>1</th>\n",
       "      <td>81219</td>\n",
       "      <td>1</td>\n",
       "      <td>262</td>\n",
       "      <td>0</td>\n",
       "      <td>0</td>\n",
       "      <td>1</td>\n",
       "      <td>2015</td>\n",
       "    </tr>\n",
       "    <tr>\n",
       "      <th>2</th>\n",
       "      <td>88072</td>\n",
       "      <td>1</td>\n",
       "      <td>262</td>\n",
       "      <td>0</td>\n",
       "      <td>0</td>\n",
       "      <td>1</td>\n",
       "      <td>2015</td>\n",
       "    </tr>\n",
       "    <tr>\n",
       "      <th>3</th>\n",
       "      <td>89258</td>\n",
       "      <td>1</td>\n",
       "      <td>262</td>\n",
       "      <td>0</td>\n",
       "      <td>0</td>\n",
       "      <td>1</td>\n",
       "      <td>2015</td>\n",
       "    </tr>\n",
       "    <tr>\n",
       "      <th>4</th>\n",
       "      <td>91263</td>\n",
       "      <td>1</td>\n",
       "      <td>262</td>\n",
       "      <td>0</td>\n",
       "      <td>0</td>\n",
       "      <td>1</td>\n",
       "      <td>2015</td>\n",
       "    </tr>\n",
       "    <tr>\n",
       "      <th>5</th>\n",
       "      <td>74103</td>\n",
       "      <td>1</td>\n",
       "      <td>262</td>\n",
       "      <td>0</td>\n",
       "      <td>0</td>\n",
       "      <td>2</td>\n",
       "      <td>2015</td>\n",
       "    </tr>\n",
       "    <tr>\n",
       "      <th>6</th>\n",
       "      <td>78895</td>\n",
       "      <td>1</td>\n",
       "      <td>262</td>\n",
       "      <td>0</td>\n",
       "      <td>0</td>\n",
       "      <td>2</td>\n",
       "      <td>2015</td>\n",
       "    </tr>\n",
       "    <tr>\n",
       "      <th>7</th>\n",
       "      <td>88065</td>\n",
       "      <td>1</td>\n",
       "      <td>262</td>\n",
       "      <td>0</td>\n",
       "      <td>0</td>\n",
       "      <td>2</td>\n",
       "      <td>2015</td>\n",
       "    </tr>\n",
       "    <tr>\n",
       "      <th>8</th>\n",
       "      <td>91264</td>\n",
       "      <td>1</td>\n",
       "      <td>262</td>\n",
       "      <td>0</td>\n",
       "      <td>0</td>\n",
       "      <td>3</td>\n",
       "      <td>2015</td>\n",
       "    </tr>\n",
       "    <tr>\n",
       "      <th>9</th>\n",
       "      <td>78086</td>\n",
       "      <td>1</td>\n",
       "      <td>262</td>\n",
       "      <td>0</td>\n",
       "      <td>0</td>\n",
       "      <td>4</td>\n",
       "      <td>2015</td>\n",
       "    </tr>\n",
       "  </tbody>\n",
       "</table>\n",
       "</div>"
      ],
      "text/plain": [
       "   AtletaID  Rodada  ClubeID Pontos PontosMedia Preco   ano\n",
       "0     81121       1      262   -2.3        -2.3  0.79  2015\n",
       "1     81219       1      262      0           0     1  2015\n",
       "2     88072       1      262      0           0     1  2015\n",
       "3     89258       1      262      0           0     1  2015\n",
       "4     91263       1      262      0           0     1  2015\n",
       "5     74103       1      262      0           0     2  2015\n",
       "6     78895       1      262      0           0     2  2015\n",
       "7     88065       1      262      0           0     2  2015\n",
       "8     91264       1      262      0           0     3  2015\n",
       "9     78086       1      262      0           0     4  2015"
      ]
     },
     "execution_count": 99,
     "metadata": {},
     "output_type": "execute_result"
    }
   ],
   "source": [
    "scouts_raw_2016_parquet.limit(10).toPandas()"
   ]
  },
  {
   "cell_type": "code",
   "execution_count": 100,
   "metadata": {},
   "outputs": [
    {
     "name": "stdout",
     "output_type": "stream",
     "text": [
      "90942\n"
     ]
    }
   ],
   "source": [
    "print(scouts_raw_2016_parquet.count())"
   ]
  },
  {
   "cell_type": "code",
   "execution_count": null,
   "metadata": {},
   "outputs": [],
   "source": []
  },
  {
   "cell_type": "markdown",
   "metadata": {},
   "source": [
    "## Times"
   ]
  },
  {
   "cell_type": "code",
   "execution_count": 24,
   "metadata": {},
   "outputs": [],
   "source": [
    "times_2016_df = spark.read.csv(\"/cartola/data/2016/2016_times.csv\", header=True)"
   ]
  },
  {
   "cell_type": "code",
   "execution_count": 25,
   "metadata": {},
   "outputs": [],
   "source": [
    "sorted_times_2016_df = times_2016_df.sort(times_2016_df.ID.asc())"
   ]
  },
  {
   "cell_type": "code",
   "execution_count": 26,
   "metadata": {},
   "outputs": [
    {
     "name": "stdout",
     "output_type": "stream",
     "text": [
      "+---+-------------+----------+-------------+----+\n",
      "| ID|         Nome|Abreviacao|         Slug| ano|\n",
      "+---+-------------+----------+-------------+----+\n",
      "|262|     Flamengo|       FLA|     Flamengo|2016|\n",
      "|263|     Botafogo|       BOT|     Botafogo|2016|\n",
      "|264|  Corinthians|       COR|  Corinthians|2016|\n",
      "|266|   Fluminense|       FLU|   Fluminense|2016|\n",
      "|275|    Palmeiras|       PAL|    Palmeiras|2016|\n",
      "|276|    São Paulo|       SAO|    Sao-Paulo|2016|\n",
      "|277|       Santos|       SAN|       Santos|2016|\n",
      "|282|  Atlético-MG|       CAM|  Atletico-MG|2016|\n",
      "|283|     Cruzeiro|       CRU|     Cruzeiro|2016|\n",
      "|284|       Grêmio|       GRE|       Gremio|2016|\n",
      "|285|Internacional|       INT|Internacional|2016|\n",
      "|287|      Vitória|       VIT|      Vitoria|2016|\n",
      "|292|        Sport|       SPT|        Sport|2016|\n",
      "|293|  Atlético-PR|       CAP|  Atletico-PR|2016|\n",
      "|294|     Coritiba|       CFC|     Coritiba|2016|\n",
      "|303|  Ponte Preta|       PON|  Ponte-Preta|2016|\n",
      "|315|  Chapecoense|       CHA|  Chapecoense|2016|\n",
      "|316|  Figueirense|       FIG|  Figueirense|2016|\n",
      "|327|   América-MG|       AME|   America-MG|2016|\n",
      "|344|   Santa Cruz|       SCZ|   Santa-Cruz|2016|\n",
      "+---+-------------+----------+-------------+----+\n",
      "\n"
     ]
    }
   ],
   "source": [
    "times_2016_ano = sorted_times_2016_df.withColumn('ano', lit(2016))\n",
    "times_2016_ano.show()"
   ]
  },
  {
   "cell_type": "code",
   "execution_count": 27,
   "metadata": {},
   "outputs": [],
   "source": [
    "times_2016_ano.write.parquet('/cartola/clean/times/2016')"
   ]
  },
  {
   "cell_type": "code",
   "execution_count": 28,
   "metadata": {},
   "outputs": [],
   "source": [
    "times_2016_parquet = spark.read.parquet('/cartola/clean/times/*')"
   ]
  },
  {
   "cell_type": "code",
   "execution_count": 29,
   "metadata": {},
   "outputs": [
    {
     "name": "stdout",
     "output_type": "stream",
     "text": [
      "+---+-------------+----------+-------------+----+\n",
      "| ID|         Nome|Abreviacao|         Slug| ano|\n",
      "+---+-------------+----------+-------------+----+\n",
      "|262|     flamengo|       FLA|     flamengo|2014|\n",
      "|263|     botafogo|       BOT|     botafogo|2014|\n",
      "|264|  corinthians|       COR|  corinthians|2014|\n",
      "|265|        bahia|       BAH|        bahia|2014|\n",
      "|266|   fluminense|       FLU|   fluminense|2014|\n",
      "|275|    palmeiras|       PAL|    palmeiras|2014|\n",
      "|276|    são paulo|       SAO|    sao-paulo|2014|\n",
      "|277|       santos|       SAN|       santos|2014|\n",
      "|282|  atlético-mg|       CAM|  atletico-mg|2014|\n",
      "|283|     cruzeiro|       CRU|     cruzeiro|2014|\n",
      "|284|       grêmio|       GRE|       gremio|2014|\n",
      "|285|internacional|       INT|internacional|2014|\n",
      "|287|      vitória|       VIT|      vitoria|2014|\n",
      "|288|     criciúma|       CRI|     criciuma|2014|\n",
      "|290|        goiás|       GOI|        goias|2014|\n",
      "|292|        sport|       SPO|        sport|2014|\n",
      "|293|  atlético-pr|       CAP|  atletico-pr|2014|\n",
      "|294|     coritiba|       CFC|     coritiba|2014|\n",
      "|315|  chapecoense|       CHA|  chapecoense|2014|\n",
      "|316|  figueirense|       FIG|  figueirense|2014|\n",
      "+---+-------------+----------+-------------+----+\n",
      "only showing top 20 rows\n",
      "\n"
     ]
    },
    {
     "data": {
      "text/plain": [
       "StructType(List(StructField(ID,StringType,true),StructField(Nome,StringType,true),StructField(Abreviacao,StringType,true),StructField(Slug,StringType,true),StructField(ano,IntegerType,true)))"
      ]
     },
     "execution_count": 29,
     "metadata": {},
     "output_type": "execute_result"
    }
   ],
   "source": [
    "times_2016_parquet.show()\n",
    "times_2016_parquet.schema\n",
    "\n",
    "#Alterar ID para int.(está string)"
   ]
  },
  {
   "cell_type": "code",
   "execution_count": 30,
   "metadata": {},
   "outputs": [],
   "source": [
    "times_2016_parquet = times_2016_parquet.withColumn(\"ID\", times_2016_parquet[\"ID\"].cast(IntegerType()))"
   ]
  },
  {
   "cell_type": "code",
   "execution_count": 31,
   "metadata": {},
   "outputs": [
    {
     "data": {
      "text/plain": [
       "StructType(List(StructField(ID,IntegerType,true),StructField(Nome,StringType,true),StructField(Abreviacao,StringType,true),StructField(Slug,StringType,true),StructField(ano,IntegerType,true)))"
      ]
     },
     "execution_count": 31,
     "metadata": {},
     "output_type": "execute_result"
    }
   ],
   "source": [
    "times_2016_parquet.schema"
   ]
  },
  {
   "cell_type": "code",
   "execution_count": 32,
   "metadata": {},
   "outputs": [
    {
     "name": "stdout",
     "output_type": "stream",
     "text": [
      "+---+-------------+----------+-------------+----+\n",
      "| ID|         Nome|Abreviacao|         Slug| ano|\n",
      "+---+-------------+----------+-------------+----+\n",
      "|262|     flamengo|       FLA|     flamengo|2014|\n",
      "|263|     botafogo|       BOT|     botafogo|2014|\n",
      "|264|  corinthians|       COR|  corinthians|2014|\n",
      "|265|        bahia|       BAH|        bahia|2014|\n",
      "|266|   fluminense|       FLU|   fluminense|2014|\n",
      "|275|    palmeiras|       PAL|    palmeiras|2014|\n",
      "|276|    são paulo|       SAO|    sao-paulo|2014|\n",
      "|277|       santos|       SAN|       santos|2014|\n",
      "|282|  atlético-mg|       CAM|  atletico-mg|2014|\n",
      "|283|     cruzeiro|       CRU|     cruzeiro|2014|\n",
      "|284|       grêmio|       GRE|       gremio|2014|\n",
      "|285|internacional|       INT|internacional|2014|\n",
      "|287|      vitória|       VIT|      vitoria|2014|\n",
      "|288|     criciúma|       CRI|     criciuma|2014|\n",
      "|290|        goiás|       GOI|        goias|2014|\n",
      "|292|        sport|       SPO|        sport|2014|\n",
      "|293|  atlético-pr|       CAP|  atletico-pr|2014|\n",
      "|294|     coritiba|       CFC|     coritiba|2014|\n",
      "|315|  chapecoense|       CHA|  chapecoense|2014|\n",
      "|316|  figueirense|       FIG|  figueirense|2014|\n",
      "+---+-------------+----------+-------------+----+\n",
      "only showing top 20 rows\n",
      "\n",
      "60\n"
     ]
    }
   ],
   "source": [
    "times_2016_parquet.show()\n",
    "\n",
    "print(times_2016_parquet.count())"
   ]
  },
  {
   "cell_type": "markdown",
   "metadata": {},
   "source": []
  },
  {
   "cell_type": "markdown",
   "metadata": {},
   "source": [
    "## DEMONSTRAÇÃO"
   ]
  },
  {
   "cell_type": "code",
   "execution_count": null,
   "metadata": {},
   "outputs": [],
   "source": [
    "partidas_2014_df = spark.read.csv(\"/cartola/data/2014/2014_jogadores.csv\", header=True)\n",
    "partidas_2014_ct = partidas_2014_df.withColumn('time', regexp_replace('home_team', ' - RJ', ''))\n",
    "final_partidas = partidas_2014_ct.withColumn('time_low', lower(col('time'))).show(truncate=False)"
   ]
  },
  {
   "cell_type": "code",
   "execution_count": null,
   "metadata": {},
   "outputs": [],
   "source": [
    "with_ano_partidas = partidas_2014_ct.withColumn('ano', lit(2014)).show(truncate=False)\n",
    "with_ano_partidas.show()"
   ]
  }
 ],
 "metadata": {
  "kernelspec": {
   "display_name": "PySpark",
   "language": "python",
   "name": "pyspark"
  },
  "language_info": {
   "codemirror_mode": {
    "name": "ipython",
    "version": 3
   },
   "file_extension": ".py",
   "mimetype": "text/x-python",
   "name": "python",
   "nbconvert_exporter": "python",
   "pygments_lexer": "ipython3",
   "version": "3.6.10"
  }
 },
 "nbformat": 4,
 "nbformat_minor": 2
}
