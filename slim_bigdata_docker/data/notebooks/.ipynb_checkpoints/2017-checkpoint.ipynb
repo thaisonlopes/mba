{
 "cells": [
  {
   "cell_type": "markdown",
   "metadata": {},
   "source": [
    "## Limpeza de dados Cartola ano 2017"
   ]
  },
  {
   "cell_type": "code",
   "execution_count": 26,
   "metadata": {},
   "outputs": [],
   "source": [
    "from pyspark.sql import HiveContext\n",
    "from pyspark.sql.types import IntegerType\n",
    "from pyspark.sql.functions import lower, col, lit, regexp_replace\n",
    "from pyspark.sql.functions import lit\n",
    "import pandas as pd\n",
    "import json\n",
    "import requests"
   ]
  },
  {
   "cell_type": "markdown",
   "metadata": {},
   "source": [
    "## Dados Agregados (Ainda não consegui interpretar)"
   ]
  },
  {
   "cell_type": "code",
   "execution_count": null,
   "metadata": {},
   "outputs": [],
   "source": [
    "#Carrega arquivo CSV\n",
    "dados_agregados_2017_df = spark.read.csv(\"/cartola/data/2017/2017_dados_agregados.csv\", header=True)\n",
    "dados_agregados_2017_df.show()"
   ]
  },
  {
   "cell_type": "code",
   "execution_count": null,
   "metadata": {},
   "outputs": [],
   "source": [
    "sorted_dados_agregados_2017_df = dados_agregados_2017_df.sort(dados_agregados_2017_df)"
   ]
  },
  {
   "cell_type": "code",
   "execution_count": null,
   "metadata": {},
   "outputs": [],
   "source": [
    "#Adiciona coluna ANO = 2016\n",
    "#Clube ID está como NA????\n",
    "dados_agregados_2017_ano = sorted_dados_agregados_2017_df.withColumn('ano', lit(2017))\n",
    "dados_agregados_2017_ano.show()"
   ]
  },
  {
   "cell_type": "code",
   "execution_count": null,
   "metadata": {},
   "outputs": [],
   "source": [
    "dados_agregados_2017_ano.write.partitionBy('ano').parquet('/cartola/2017/clean/2017_dados_agregados')"
   ]
  },
  {
   "cell_type": "code",
   "execution_count": null,
   "metadata": {},
   "outputs": [],
   "source": [
    "#transforma arquivo em parquet\n",
    "dados_agregados_2017_parquet = spark.read.parquet('/cartola/2017/clean/2017_dados_agregados')"
   ]
  },
  {
   "cell_type": "code",
   "execution_count": null,
   "metadata": {},
   "outputs": [],
   "source": [
    "dados_agregados_2017_parquet.show()\n",
    "dados_agregados_2017_parquet.schema\n"
   ]
  },
  {
   "cell_type": "code",
   "execution_count": null,
   "metadata": {},
   "outputs": [],
   "source": [
    "#Alterar ID para int.(está string)\n",
    "jogadores_2016_parquet = jogadores_2016_parquet.withColumn(\"ID\", jogadores_2016_parquet[\"ID\"].cast(IntegerType()))\n",
    "jogadores_2016_parquet = jogadores_2016_parquet.withColumn(\"ClubeID\", jogadores_2016_parquet[\"ClubeID\"].cast(IntegerType()))\n",
    "jogadores_2016_parquet = jogadores_2016_parquet.withColumn(\"PosicaoID\", jogadores_2016_parquet[\"PosicaoID\"].cast(IntegerType()))"
   ]
  },
  {
   "cell_type": "code",
   "execution_count": null,
   "metadata": {},
   "outputs": [],
   "source": [
    "jogadores_2016_parquet.schema"
   ]
  },
  {
   "cell_type": "code",
   "execution_count": null,
   "metadata": {},
   "outputs": [],
   "source": [
    "jogadores_2016_parquet.show()\n",
    "\n",
    "print(jogadores_2016_parquet.count())"
   ]
  },
  {
   "cell_type": "code",
   "execution_count": null,
   "metadata": {},
   "outputs": [],
   "source": []
  },
  {
   "cell_type": "markdown",
   "metadata": {},
   "source": [
    "## Jogadores"
   ]
  },
  {
   "cell_type": "code",
   "execution_count": 27,
   "metadata": {},
   "outputs": [],
   "source": [
    "#Carrega arquivo CSV\n",
    "jogadores_2017_df = spark.read.csv(\"/cartola/data/2017/2017_jogadores.csv\", header=True)\n",
    "sorted_jogadores_2017_df = jogadores_2017_df.sort(jogadores_2017_df.AtletaID.desc())\n"
   ]
  },
  {
   "cell_type": "code",
   "execution_count": 28,
   "metadata": {},
   "outputs": [
    {
     "name": "stdout",
     "output_type": "stream",
     "text": [
      "+--------+----------------+-------+---------+----+\n",
      "|AtletaID|         Apelido|ClubeID|PosicaoID| ano|\n",
      "+--------+----------------+-------+---------+----+\n",
      "|   99959|   Lucas Formiga|    303|        5|2017|\n",
      "|   99918|         Patrick|    284|        4|2017|\n",
      "|   99915|        Ezequiel|    263|        4|2017|\n",
      "|   99903|    Lucas Campos|    263|        5|2017|\n",
      "|   99900|    Luan Pereira|    314|        4|2017|\n",
      "|   99894|  Junior Brumado|    265|        5|2017|\n",
      "|   99892|        Luis Ali|    303|        5|2017|\n",
      "|   99883|         Penilla|    315|        5|2017|\n",
      "|   99882|  Fabiano Soares|    293|        6|2017|\n",
      "|   99834|        Dionathã|    284|        5|2017|\n",
      "|   99824|         Douglas|    265|        5|2017|\n",
      "|   99818|        Paulinho|    267|        5|2017|\n",
      "|   99817|          Bremer|    282|        3|2017|\n",
      "|   99789|         Brenner|    276|        5|2017|\n",
      "|   99721|     Mascarenhas|    266|        2|2017|\n",
      "|   99670|          Arthur|    283|        3|2017|\n",
      "|   99669|           Elano|    277|        6|2017|\n",
      "|   99630|Preto Casagrande|    265|        6|2017|\n",
      "|   99625|         Conrado|    284|        4|2017|\n",
      "|   99616|  Felipe Saraiva|    303|        4|2017|\n",
      "+--------+----------------+-------+---------+----+\n",
      "only showing top 20 rows\n",
      "\n"
     ]
    }
   ],
   "source": [
    "#Adiciona coluna ANO = 2017\n",
    "#Clube ID está como NA????\n",
    "jogadores_2017_ano = sorted_jogadores_2017_df.withColumn('ano', lit(2017))\n",
    "jogadores_2017_ano.show()"
   ]
  },
  {
   "cell_type": "code",
   "execution_count": 29,
   "metadata": {},
   "outputs": [],
   "source": [
    "jogadores_2017_ano.write.parquet('cartola/clean/jogadores/2017')"
   ]
  },
  {
   "cell_type": "code",
   "execution_count": 31,
   "metadata": {},
   "outputs": [
    {
     "ename": "Py4JJavaError",
     "evalue": "An error occurred while calling o198.parquet.\n: java.lang.AssertionError: assertion failed: Conflicting directory structures detected. Suspicious paths:\b\n\thdfs://namenode:8020/user/root/cartola/clean/jogadores/2016\n\thdfs://namenode:8020/user/root/cartola/clean/jogadores/2017\n\nIf provided paths are partition directories, please set \"basePath\" in the options of the data source to specify the root directory of the table. If there are multiple root directories, please load them separately and then union them.\n\tat scala.Predef$.assert(Predef.scala:170)\n\tat org.apache.spark.sql.execution.datasources.PartitioningUtils$.parsePartitions(PartitioningUtils.scala:156)\n\tat org.apache.spark.sql.execution.datasources.PartitioningUtils$.parsePartitions(PartitioningUtils.scala:100)\n\tat org.apache.spark.sql.execution.datasources.PartitioningAwareFileIndex.inferPartitioning(PartitioningAwareFileIndex.scala:131)\n\tat org.apache.spark.sql.execution.datasources.InMemoryFileIndex.partitionSpec(InMemoryFileIndex.scala:71)\n\tat org.apache.spark.sql.execution.datasources.PartitioningAwareFileIndex.partitionSchema(PartitioningAwareFileIndex.scala:50)\n\tat org.apache.spark.sql.execution.datasources.DataSource.getOrInferFileFormatSchema(DataSource.scala:144)\n\tat org.apache.spark.sql.execution.datasources.DataSource.resolveRelation(DataSource.scala:373)\n\tat org.apache.spark.sql.DataFrameReader.loadV1Source(DataFrameReader.scala:223)\n\tat org.apache.spark.sql.DataFrameReader.load(DataFrameReader.scala:211)\n\tat org.apache.spark.sql.DataFrameReader.parquet(DataFrameReader.scala:641)\n\tat sun.reflect.NativeMethodAccessorImpl.invoke0(Native Method)\n\tat sun.reflect.NativeMethodAccessorImpl.invoke(NativeMethodAccessorImpl.java:62)\n\tat sun.reflect.DelegatingMethodAccessorImpl.invoke(DelegatingMethodAccessorImpl.java:43)\n\tat java.lang.reflect.Method.invoke(Method.java:498)\n\tat py4j.reflection.MethodInvoker.invoke(MethodInvoker.java:244)\n\tat py4j.reflection.ReflectionEngine.invoke(ReflectionEngine.java:357)\n\tat py4j.Gateway.invoke(Gateway.java:282)\n\tat py4j.commands.AbstractCommand.invokeMethod(AbstractCommand.java:132)\n\tat py4j.commands.CallCommand.execute(CallCommand.java:79)\n\tat py4j.GatewayConnection.run(GatewayConnection.java:238)\n\tat java.lang.Thread.run(Thread.java:748)\n",
     "output_type": "error",
     "traceback": [
      "\u001b[0;31m---------------------------------------------------------------------------\u001b[0m",
      "\u001b[0;31mPy4JJavaError\u001b[0m                             Traceback (most recent call last)",
      "\u001b[0;32m<ipython-input-31-4559afcda36f>\u001b[0m in \u001b[0;36m<module>\u001b[0;34m()\u001b[0m\n\u001b[1;32m      1\u001b[0m \u001b[0;31m#transforma arquivo em parquet\u001b[0m\u001b[0;34m\u001b[0m\u001b[0;34m\u001b[0m\u001b[0;34m\u001b[0m\u001b[0m\n\u001b[0;32m----> 2\u001b[0;31m \u001b[0mjogadores_2017_parquet\u001b[0m \u001b[0;34m=\u001b[0m \u001b[0mspark\u001b[0m\u001b[0;34m.\u001b[0m\u001b[0mread\u001b[0m\u001b[0;34m.\u001b[0m\u001b[0mparquet\u001b[0m\u001b[0;34m(\u001b[0m\u001b[0;34m'cartola/clean/jogadores/*'\u001b[0m\u001b[0;34m)\u001b[0m\u001b[0;34m\u001b[0m\u001b[0;34m\u001b[0m\u001b[0m\n\u001b[0m",
      "\u001b[0;32m/opt/spark/python/pyspark/sql/readwriter.py\u001b[0m in \u001b[0;36mparquet\u001b[0;34m(self, *paths)\u001b[0m\n\u001b[1;32m    314\u001b[0m         \u001b[0;34m[\u001b[0m\u001b[0;34m(\u001b[0m\u001b[0;34m'name'\u001b[0m\u001b[0;34m,\u001b[0m \u001b[0;34m'string'\u001b[0m\u001b[0;34m)\u001b[0m\u001b[0;34m,\u001b[0m \u001b[0;34m(\u001b[0m\u001b[0;34m'year'\u001b[0m\u001b[0;34m,\u001b[0m \u001b[0;34m'int'\u001b[0m\u001b[0;34m)\u001b[0m\u001b[0;34m,\u001b[0m \u001b[0;34m(\u001b[0m\u001b[0;34m'month'\u001b[0m\u001b[0;34m,\u001b[0m \u001b[0;34m'int'\u001b[0m\u001b[0;34m)\u001b[0m\u001b[0;34m,\u001b[0m \u001b[0;34m(\u001b[0m\u001b[0;34m'day'\u001b[0m\u001b[0;34m,\u001b[0m \u001b[0;34m'int'\u001b[0m\u001b[0;34m)\u001b[0m\u001b[0;34m]\u001b[0m\u001b[0;34m\u001b[0m\u001b[0;34m\u001b[0m\u001b[0m\n\u001b[1;32m    315\u001b[0m         \"\"\"\n\u001b[0;32m--> 316\u001b[0;31m         \u001b[0;32mreturn\u001b[0m \u001b[0mself\u001b[0m\u001b[0;34m.\u001b[0m\u001b[0m_df\u001b[0m\u001b[0;34m(\u001b[0m\u001b[0mself\u001b[0m\u001b[0;34m.\u001b[0m\u001b[0m_jreader\u001b[0m\u001b[0;34m.\u001b[0m\u001b[0mparquet\u001b[0m\u001b[0;34m(\u001b[0m\u001b[0m_to_seq\u001b[0m\u001b[0;34m(\u001b[0m\u001b[0mself\u001b[0m\u001b[0;34m.\u001b[0m\u001b[0m_spark\u001b[0m\u001b[0;34m.\u001b[0m\u001b[0m_sc\u001b[0m\u001b[0;34m,\u001b[0m \u001b[0mpaths\u001b[0m\u001b[0;34m)\u001b[0m\u001b[0;34m)\u001b[0m\u001b[0;34m)\u001b[0m\u001b[0;34m\u001b[0m\u001b[0;34m\u001b[0m\u001b[0m\n\u001b[0m\u001b[1;32m    317\u001b[0m \u001b[0;34m\u001b[0m\u001b[0m\n\u001b[1;32m    318\u001b[0m     \u001b[0;34m@\u001b[0m\u001b[0mignore_unicode_prefix\u001b[0m\u001b[0;34m\u001b[0m\u001b[0;34m\u001b[0m\u001b[0m\n",
      "\u001b[0;32m/opt/spark/python/lib/py4j-0.10.7-src.zip/py4j/java_gateway.py\u001b[0m in \u001b[0;36m__call__\u001b[0;34m(self, *args)\u001b[0m\n\u001b[1;32m   1255\u001b[0m         \u001b[0manswer\u001b[0m \u001b[0;34m=\u001b[0m \u001b[0mself\u001b[0m\u001b[0;34m.\u001b[0m\u001b[0mgateway_client\u001b[0m\u001b[0;34m.\u001b[0m\u001b[0msend_command\u001b[0m\u001b[0;34m(\u001b[0m\u001b[0mcommand\u001b[0m\u001b[0;34m)\u001b[0m\u001b[0;34m\u001b[0m\u001b[0;34m\u001b[0m\u001b[0m\n\u001b[1;32m   1256\u001b[0m         return_value = get_return_value(\n\u001b[0;32m-> 1257\u001b[0;31m             answer, self.gateway_client, self.target_id, self.name)\n\u001b[0m\u001b[1;32m   1258\u001b[0m \u001b[0;34m\u001b[0m\u001b[0m\n\u001b[1;32m   1259\u001b[0m         \u001b[0;32mfor\u001b[0m \u001b[0mtemp_arg\u001b[0m \u001b[0;32min\u001b[0m \u001b[0mtemp_args\u001b[0m\u001b[0;34m:\u001b[0m\u001b[0;34m\u001b[0m\u001b[0;34m\u001b[0m\u001b[0m\n",
      "\u001b[0;32m/opt/spark/python/pyspark/sql/utils.py\u001b[0m in \u001b[0;36mdeco\u001b[0;34m(*a, **kw)\u001b[0m\n\u001b[1;32m     61\u001b[0m     \u001b[0;32mdef\u001b[0m \u001b[0mdeco\u001b[0m\u001b[0;34m(\u001b[0m\u001b[0;34m*\u001b[0m\u001b[0ma\u001b[0m\u001b[0;34m,\u001b[0m \u001b[0;34m**\u001b[0m\u001b[0mkw\u001b[0m\u001b[0;34m)\u001b[0m\u001b[0;34m:\u001b[0m\u001b[0;34m\u001b[0m\u001b[0;34m\u001b[0m\u001b[0m\n\u001b[1;32m     62\u001b[0m         \u001b[0;32mtry\u001b[0m\u001b[0;34m:\u001b[0m\u001b[0;34m\u001b[0m\u001b[0;34m\u001b[0m\u001b[0m\n\u001b[0;32m---> 63\u001b[0;31m             \u001b[0;32mreturn\u001b[0m \u001b[0mf\u001b[0m\u001b[0;34m(\u001b[0m\u001b[0;34m*\u001b[0m\u001b[0ma\u001b[0m\u001b[0;34m,\u001b[0m \u001b[0;34m**\u001b[0m\u001b[0mkw\u001b[0m\u001b[0;34m)\u001b[0m\u001b[0;34m\u001b[0m\u001b[0;34m\u001b[0m\u001b[0m\n\u001b[0m\u001b[1;32m     64\u001b[0m         \u001b[0;32mexcept\u001b[0m \u001b[0mpy4j\u001b[0m\u001b[0;34m.\u001b[0m\u001b[0mprotocol\u001b[0m\u001b[0;34m.\u001b[0m\u001b[0mPy4JJavaError\u001b[0m \u001b[0;32mas\u001b[0m \u001b[0me\u001b[0m\u001b[0;34m:\u001b[0m\u001b[0;34m\u001b[0m\u001b[0;34m\u001b[0m\u001b[0m\n\u001b[1;32m     65\u001b[0m             \u001b[0ms\u001b[0m \u001b[0;34m=\u001b[0m \u001b[0me\u001b[0m\u001b[0;34m.\u001b[0m\u001b[0mjava_exception\u001b[0m\u001b[0;34m.\u001b[0m\u001b[0mtoString\u001b[0m\u001b[0;34m(\u001b[0m\u001b[0;34m)\u001b[0m\u001b[0;34m\u001b[0m\u001b[0;34m\u001b[0m\u001b[0m\n",
      "\u001b[0;32m/opt/spark/python/lib/py4j-0.10.7-src.zip/py4j/protocol.py\u001b[0m in \u001b[0;36mget_return_value\u001b[0;34m(answer, gateway_client, target_id, name)\u001b[0m\n\u001b[1;32m    326\u001b[0m                 raise Py4JJavaError(\n\u001b[1;32m    327\u001b[0m                     \u001b[0;34m\"An error occurred while calling {0}{1}{2}.\\n\"\u001b[0m\u001b[0;34m.\u001b[0m\u001b[0;34m\u001b[0m\u001b[0;34m\u001b[0m\u001b[0m\n\u001b[0;32m--> 328\u001b[0;31m                     format(target_id, \".\", name), value)\n\u001b[0m\u001b[1;32m    329\u001b[0m             \u001b[0;32melse\u001b[0m\u001b[0;34m:\u001b[0m\u001b[0;34m\u001b[0m\u001b[0;34m\u001b[0m\u001b[0m\n\u001b[1;32m    330\u001b[0m                 raise Py4JError(\n",
      "\u001b[0;31mPy4JJavaError\u001b[0m: An error occurred while calling o198.parquet.\n: java.lang.AssertionError: assertion failed: Conflicting directory structures detected. Suspicious paths:\b\n\thdfs://namenode:8020/user/root/cartola/clean/jogadores/2016\n\thdfs://namenode:8020/user/root/cartola/clean/jogadores/2017\n\nIf provided paths are partition directories, please set \"basePath\" in the options of the data source to specify the root directory of the table. If there are multiple root directories, please load them separately and then union them.\n\tat scala.Predef$.assert(Predef.scala:170)\n\tat org.apache.spark.sql.execution.datasources.PartitioningUtils$.parsePartitions(PartitioningUtils.scala:156)\n\tat org.apache.spark.sql.execution.datasources.PartitioningUtils$.parsePartitions(PartitioningUtils.scala:100)\n\tat org.apache.spark.sql.execution.datasources.PartitioningAwareFileIndex.inferPartitioning(PartitioningAwareFileIndex.scala:131)\n\tat org.apache.spark.sql.execution.datasources.InMemoryFileIndex.partitionSpec(InMemoryFileIndex.scala:71)\n\tat org.apache.spark.sql.execution.datasources.PartitioningAwareFileIndex.partitionSchema(PartitioningAwareFileIndex.scala:50)\n\tat org.apache.spark.sql.execution.datasources.DataSource.getOrInferFileFormatSchema(DataSource.scala:144)\n\tat org.apache.spark.sql.execution.datasources.DataSource.resolveRelation(DataSource.scala:373)\n\tat org.apache.spark.sql.DataFrameReader.loadV1Source(DataFrameReader.scala:223)\n\tat org.apache.spark.sql.DataFrameReader.load(DataFrameReader.scala:211)\n\tat org.apache.spark.sql.DataFrameReader.parquet(DataFrameReader.scala:641)\n\tat sun.reflect.NativeMethodAccessorImpl.invoke0(Native Method)\n\tat sun.reflect.NativeMethodAccessorImpl.invoke(NativeMethodAccessorImpl.java:62)\n\tat sun.reflect.DelegatingMethodAccessorImpl.invoke(DelegatingMethodAccessorImpl.java:43)\n\tat java.lang.reflect.Method.invoke(Method.java:498)\n\tat py4j.reflection.MethodInvoker.invoke(MethodInvoker.java:244)\n\tat py4j.reflection.ReflectionEngine.invoke(ReflectionEngine.java:357)\n\tat py4j.Gateway.invoke(Gateway.java:282)\n\tat py4j.commands.AbstractCommand.invokeMethod(AbstractCommand.java:132)\n\tat py4j.commands.CallCommand.execute(CallCommand.java:79)\n\tat py4j.GatewayConnection.run(GatewayConnection.java:238)\n\tat java.lang.Thread.run(Thread.java:748)\n"
     ]
    }
   ],
   "source": [
    "#transforma arquivo em parquet\n",
    "jogadores_2017_parquet = spark.read.parquet('cartola/clean/jogadores/*')"
   ]
  },
  {
   "cell_type": "code",
   "execution_count": null,
   "metadata": {},
   "outputs": [],
   "source": [
    "jogadores_2017_parquet.show()\n",
    "jogadores_2017_parquet.schema\n"
   ]
  },
  {
   "cell_type": "code",
   "execution_count": null,
   "metadata": {},
   "outputs": [],
   "source": [
    "#Alterar ID para int.(está string)\n",
    "jogadores_2017_parquet = jogadores_2017_parquet.withColumn(\"AtletaID\", jogadores_2017_parquet[\"AtletaID\"].cast(IntegerType()))\n",
    "jogadores_2017_parquet = jogadores_2017_parquet.withColumn(\"ClubeID\", jogadores_2017_parquet[\"ClubeID\"].cast(IntegerType()))\n",
    "jogadores_2017_parquet = jogadores_2017_parquet.withColumn(\"PosicaoID\", jogadores_2017_parquet[\"PosicaoID\"].cast(IntegerType()))"
   ]
  },
  {
   "cell_type": "code",
   "execution_count": null,
   "metadata": {},
   "outputs": [],
   "source": [
    "jogadores_2017_parquet.schema"
   ]
  },
  {
   "cell_type": "code",
   "execution_count": null,
   "metadata": {},
   "outputs": [],
   "source": [
    "jogadores_2017_parquet.show()\n",
    "\n",
    "print(jogadores_2017_parquet.count())"
   ]
  },
  {
   "cell_type": "code",
   "execution_count": null,
   "metadata": {},
   "outputs": [],
   "source": []
  },
  {
   "cell_type": "markdown",
   "metadata": {},
   "source": [
    "## Partidas_IDS (temos partidas como NA)"
   ]
  },
  {
   "cell_type": "code",
   "execution_count": null,
   "metadata": {},
   "outputs": [],
   "source": [
    "partidas_2017_df = spark.read.csv(\"/cartola/data/2017/2017_partidas.csv\", header=True)"
   ]
  },
  {
   "cell_type": "code",
   "execution_count": null,
   "metadata": {},
   "outputs": [],
   "source": [
    "partidas_2017_df_ano = partidas_2017_df.withColumn('ano', lit(2017))"
   ]
  },
  {
   "cell_type": "code",
   "execution_count": null,
   "metadata": {},
   "outputs": [],
   "source": [
    "partidas_2017_df_ano.show(1000)"
   ]
  },
  {
   "cell_type": "code",
   "execution_count": null,
   "metadata": {},
   "outputs": [],
   "source": [
    "partidas_2017_df_ano.write.partitionBy('ano').parquet('/cartola/2017/clean/2017_partidas')"
   ]
  },
  {
   "cell_type": "code",
   "execution_count": null,
   "metadata": {},
   "outputs": [],
   "source": [
    "partidas_2017_parquet = spark.read.parquet('/cartola/2017/clean/2017_partidas')"
   ]
  },
  {
   "cell_type": "code",
   "execution_count": null,
   "metadata": {},
   "outputs": [],
   "source": [
    "partidas_2017_parquet.show(10000)\n",
    "partidas_2017_parquet.schema"
   ]
  },
  {
   "cell_type": "code",
   "execution_count": null,
   "metadata": {},
   "outputs": [],
   "source": [
    "partidas_2017_parquet = partidas_2017_parquet.withColumn(\"game\", partidas_2017_parquet[\"game\"].cast(IntegerType()))\n",
    "partidas_2017_parquet = partidas_2017_parquet.withColumn(\"round\", partidas_2017_parquet[\"round\"].cast(IntegerType()))"
   ]
  },
  {
   "cell_type": "code",
   "execution_count": null,
   "metadata": {},
   "outputs": [],
   "source": [
    "partidas_2017_parquet.show()\n",
    "\n",
    "print(partidas_2017_parquet.count())"
   ]
  },
  {
   "cell_type": "code",
   "execution_count": null,
   "metadata": {},
   "outputs": [],
   "source": []
  },
  {
   "cell_type": "markdown",
   "metadata": {},
   "source": [
    "## scouts_raw (Analisar scouts)"
   ]
  },
  {
   "cell_type": "code",
   "execution_count": 2,
   "metadata": {},
   "outputs": [],
   "source": [
    "scouts_raw_2017_df = spark.read.csv(\"/cartola/data/2017/2017_scouts_raw.csv\", header=True)"
   ]
  },
  {
   "cell_type": "code",
   "execution_count": 3,
   "metadata": {},
   "outputs": [],
   "source": [
    "scouts_raw_2017_ano = scouts_raw_2017_df.withColumn('ano', lit(2017))"
   ]
  },
  {
   "cell_type": "code",
   "execution_count": 4,
   "metadata": {},
   "outputs": [
    {
     "data": {
      "text/html": [
       "<div>\n",
       "<style scoped>\n",
       "    .dataframe tbody tr th:only-of-type {\n",
       "        vertical-align: middle;\n",
       "    }\n",
       "\n",
       "    .dataframe tbody tr th {\n",
       "        vertical-align: top;\n",
       "    }\n",
       "\n",
       "    .dataframe thead th {\n",
       "        text-align: right;\n",
       "    }\n",
       "</style>\n",
       "<table border=\"1\" class=\"dataframe\">\n",
       "  <thead>\n",
       "    <tr style=\"text-align: right;\">\n",
       "      <th></th>\n",
       "      <th>_c0</th>\n",
       "      <th>A</th>\n",
       "      <th>CA</th>\n",
       "      <th>CV</th>\n",
       "      <th>DD</th>\n",
       "      <th>DP</th>\n",
       "      <th>FC</th>\n",
       "      <th>FD</th>\n",
       "      <th>FF</th>\n",
       "      <th>FS</th>\n",
       "      <th>...</th>\n",
       "      <th>atletas.jogos_num</th>\n",
       "      <th>atletas.media_num</th>\n",
       "      <th>atletas.nome</th>\n",
       "      <th>atletas.pontos_num</th>\n",
       "      <th>atletas.posicao_id</th>\n",
       "      <th>atletas.preco_num</th>\n",
       "      <th>Rodada</th>\n",
       "      <th>atletas.status_id</th>\n",
       "      <th>atletas.variacao_num</th>\n",
       "      <th>ano</th>\n",
       "    </tr>\n",
       "  </thead>\n",
       "  <tbody>\n",
       "    <tr>\n",
       "      <th>0</th>\n",
       "      <td>0</td>\n",
       "      <td>None</td>\n",
       "      <td>None</td>\n",
       "      <td>None</td>\n",
       "      <td>None</td>\n",
       "      <td>None</td>\n",
       "      <td>None</td>\n",
       "      <td>None</td>\n",
       "      <td>None</td>\n",
       "      <td>None</td>\n",
       "      <td>...</td>\n",
       "      <td>0</td>\n",
       "      <td>0</td>\n",
       "      <td>Juan Silveira dos Santos</td>\n",
       "      <td>0</td>\n",
       "      <td>zag</td>\n",
       "      <td>5</td>\n",
       "      <td>0</td>\n",
       "      <td>Nulo</td>\n",
       "      <td>0</td>\n",
       "      <td>2017</td>\n",
       "    </tr>\n",
       "    <tr>\n",
       "      <th>1</th>\n",
       "      <td>1</td>\n",
       "      <td>None</td>\n",
       "      <td>None</td>\n",
       "      <td>None</td>\n",
       "      <td>None</td>\n",
       "      <td>None</td>\n",
       "      <td>None</td>\n",
       "      <td>None</td>\n",
       "      <td>None</td>\n",
       "      <td>None</td>\n",
       "      <td>...</td>\n",
       "      <td>0</td>\n",
       "      <td>0</td>\n",
       "      <td>José Roberto da Silva Júnior</td>\n",
       "      <td>0</td>\n",
       "      <td>lat</td>\n",
       "      <td>8</td>\n",
       "      <td>0</td>\n",
       "      <td>Provável</td>\n",
       "      <td>0</td>\n",
       "      <td>2017</td>\n",
       "    </tr>\n",
       "    <tr>\n",
       "      <th>2</th>\n",
       "      <td>2</td>\n",
       "      <td>None</td>\n",
       "      <td>None</td>\n",
       "      <td>None</td>\n",
       "      <td>None</td>\n",
       "      <td>None</td>\n",
       "      <td>None</td>\n",
       "      <td>None</td>\n",
       "      <td>None</td>\n",
       "      <td>None</td>\n",
       "      <td>...</td>\n",
       "      <td>0</td>\n",
       "      <td>0</td>\n",
       "      <td>Paulo Autuori</td>\n",
       "      <td>0</td>\n",
       "      <td>tec</td>\n",
       "      <td>10</td>\n",
       "      <td>0</td>\n",
       "      <td>Provável</td>\n",
       "      <td>0</td>\n",
       "      <td>2017</td>\n",
       "    </tr>\n",
       "    <tr>\n",
       "      <th>3</th>\n",
       "      <td>3</td>\n",
       "      <td>None</td>\n",
       "      <td>None</td>\n",
       "      <td>None</td>\n",
       "      <td>None</td>\n",
       "      <td>None</td>\n",
       "      <td>None</td>\n",
       "      <td>None</td>\n",
       "      <td>None</td>\n",
       "      <td>None</td>\n",
       "      <td>...</td>\n",
       "      <td>0</td>\n",
       "      <td>0</td>\n",
       "      <td>Augusto Sérgio Ferreira</td>\n",
       "      <td>0</td>\n",
       "      <td>tec</td>\n",
       "      <td>4</td>\n",
       "      <td>0</td>\n",
       "      <td>Provável</td>\n",
       "      <td>0</td>\n",
       "      <td>2017</td>\n",
       "    </tr>\n",
       "    <tr>\n",
       "      <th>4</th>\n",
       "      <td>4</td>\n",
       "      <td>None</td>\n",
       "      <td>None</td>\n",
       "      <td>None</td>\n",
       "      <td>None</td>\n",
       "      <td>None</td>\n",
       "      <td>None</td>\n",
       "      <td>None</td>\n",
       "      <td>None</td>\n",
       "      <td>None</td>\n",
       "      <td>...</td>\n",
       "      <td>0</td>\n",
       "      <td>0</td>\n",
       "      <td>Ney Franco da Silveira Júnior</td>\n",
       "      <td>0</td>\n",
       "      <td>tec</td>\n",
       "      <td>4</td>\n",
       "      <td>0</td>\n",
       "      <td>Provável</td>\n",
       "      <td>0</td>\n",
       "      <td>2017</td>\n",
       "    </tr>\n",
       "    <tr>\n",
       "      <th>5</th>\n",
       "      <td>5</td>\n",
       "      <td>None</td>\n",
       "      <td>None</td>\n",
       "      <td>None</td>\n",
       "      <td>None</td>\n",
       "      <td>None</td>\n",
       "      <td>None</td>\n",
       "      <td>None</td>\n",
       "      <td>None</td>\n",
       "      <td>None</td>\n",
       "      <td>...</td>\n",
       "      <td>0</td>\n",
       "      <td>0</td>\n",
       "      <td>Luis Antônio Venker de Menezes</td>\n",
       "      <td>0</td>\n",
       "      <td>tec</td>\n",
       "      <td>12</td>\n",
       "      <td>0</td>\n",
       "      <td>Provável</td>\n",
       "      <td>0</td>\n",
       "      <td>2017</td>\n",
       "    </tr>\n",
       "    <tr>\n",
       "      <th>6</th>\n",
       "      <td>6</td>\n",
       "      <td>None</td>\n",
       "      <td>None</td>\n",
       "      <td>None</td>\n",
       "      <td>None</td>\n",
       "      <td>None</td>\n",
       "      <td>None</td>\n",
       "      <td>None</td>\n",
       "      <td>None</td>\n",
       "      <td>None</td>\n",
       "      <td>...</td>\n",
       "      <td>0</td>\n",
       "      <td>0</td>\n",
       "      <td>Gilson Kleina</td>\n",
       "      <td>0</td>\n",
       "      <td>tec</td>\n",
       "      <td>4</td>\n",
       "      <td>0</td>\n",
       "      <td>Provável</td>\n",
       "      <td>0</td>\n",
       "      <td>2017</td>\n",
       "    </tr>\n",
       "    <tr>\n",
       "      <th>7</th>\n",
       "      <td>7</td>\n",
       "      <td>None</td>\n",
       "      <td>None</td>\n",
       "      <td>None</td>\n",
       "      <td>None</td>\n",
       "      <td>None</td>\n",
       "      <td>None</td>\n",
       "      <td>None</td>\n",
       "      <td>None</td>\n",
       "      <td>None</td>\n",
       "      <td>...</td>\n",
       "      <td>0</td>\n",
       "      <td>0</td>\n",
       "      <td>Marcelo Ribeiro Cabo</td>\n",
       "      <td>0</td>\n",
       "      <td>tec</td>\n",
       "      <td>2</td>\n",
       "      <td>0</td>\n",
       "      <td>Provável</td>\n",
       "      <td>0</td>\n",
       "      <td>2017</td>\n",
       "    </tr>\n",
       "    <tr>\n",
       "      <th>8</th>\n",
       "      <td>8</td>\n",
       "      <td>None</td>\n",
       "      <td>None</td>\n",
       "      <td>None</td>\n",
       "      <td>None</td>\n",
       "      <td>None</td>\n",
       "      <td>None</td>\n",
       "      <td>None</td>\n",
       "      <td>None</td>\n",
       "      <td>None</td>\n",
       "      <td>...</td>\n",
       "      <td>0</td>\n",
       "      <td>0</td>\n",
       "      <td>Paulo André Cren Benini</td>\n",
       "      <td>0</td>\n",
       "      <td>zag</td>\n",
       "      <td>6</td>\n",
       "      <td>0</td>\n",
       "      <td>Nulo</td>\n",
       "      <td>0</td>\n",
       "      <td>2017</td>\n",
       "    </tr>\n",
       "    <tr>\n",
       "      <th>9</th>\n",
       "      <td>9</td>\n",
       "      <td>None</td>\n",
       "      <td>None</td>\n",
       "      <td>None</td>\n",
       "      <td>None</td>\n",
       "      <td>None</td>\n",
       "      <td>None</td>\n",
       "      <td>None</td>\n",
       "      <td>None</td>\n",
       "      <td>None</td>\n",
       "      <td>...</td>\n",
       "      <td>0</td>\n",
       "      <td>0</td>\n",
       "      <td>Michel Fernandes Bastos</td>\n",
       "      <td>0</td>\n",
       "      <td>mei</td>\n",
       "      <td>8</td>\n",
       "      <td>0</td>\n",
       "      <td>Nulo</td>\n",
       "      <td>0</td>\n",
       "      <td>2017</td>\n",
       "    </tr>\n",
       "  </tbody>\n",
       "</table>\n",
       "<p>10 rows × 35 columns</p>\n",
       "</div>"
      ],
      "text/plain": [
       "  _c0     A    CA    CV    DD    DP    FC    FD    FF    FS  ...  \\\n",
       "0   0  None  None  None  None  None  None  None  None  None  ...   \n",
       "1   1  None  None  None  None  None  None  None  None  None  ...   \n",
       "2   2  None  None  None  None  None  None  None  None  None  ...   \n",
       "3   3  None  None  None  None  None  None  None  None  None  ...   \n",
       "4   4  None  None  None  None  None  None  None  None  None  ...   \n",
       "5   5  None  None  None  None  None  None  None  None  None  ...   \n",
       "6   6  None  None  None  None  None  None  None  None  None  ...   \n",
       "7   7  None  None  None  None  None  None  None  None  None  ...   \n",
       "8   8  None  None  None  None  None  None  None  None  None  ...   \n",
       "9   9  None  None  None  None  None  None  None  None  None  ...   \n",
       "\n",
       "  atletas.jogos_num atletas.media_num                    atletas.nome  \\\n",
       "0                 0                 0        Juan Silveira dos Santos   \n",
       "1                 0                 0    José Roberto da Silva Júnior   \n",
       "2                 0                 0                   Paulo Autuori   \n",
       "3                 0                 0         Augusto Sérgio Ferreira   \n",
       "4                 0                 0   Ney Franco da Silveira Júnior   \n",
       "5                 0                 0  Luis Antônio Venker de Menezes   \n",
       "6                 0                 0                   Gilson Kleina   \n",
       "7                 0                 0            Marcelo Ribeiro Cabo   \n",
       "8                 0                 0         Paulo André Cren Benini   \n",
       "9                 0                 0         Michel Fernandes Bastos   \n",
       "\n",
       "  atletas.pontos_num atletas.posicao_id atletas.preco_num Rodada  \\\n",
       "0                  0                zag                 5      0   \n",
       "1                  0                lat                 8      0   \n",
       "2                  0                tec                10      0   \n",
       "3                  0                tec                 4      0   \n",
       "4                  0                tec                 4      0   \n",
       "5                  0                tec                12      0   \n",
       "6                  0                tec                 4      0   \n",
       "7                  0                tec                 2      0   \n",
       "8                  0                zag                 6      0   \n",
       "9                  0                mei                 8      0   \n",
       "\n",
       "  atletas.status_id atletas.variacao_num   ano  \n",
       "0              Nulo                    0  2017  \n",
       "1          Provável                    0  2017  \n",
       "2          Provável                    0  2017  \n",
       "3          Provável                    0  2017  \n",
       "4          Provável                    0  2017  \n",
       "5          Provável                    0  2017  \n",
       "6          Provável                    0  2017  \n",
       "7          Provável                    0  2017  \n",
       "8              Nulo                    0  2017  \n",
       "9              Nulo                    0  2017  \n",
       "\n",
       "[10 rows x 35 columns]"
      ]
     },
     "execution_count": 4,
     "metadata": {},
     "output_type": "execute_result"
    }
   ],
   "source": [
    "scouts_raw_2017_ano.limit(10).toPandas()"
   ]
  },
  {
   "cell_type": "code",
   "execution_count": null,
   "metadata": {},
   "outputs": [],
   "source": [
    "# remove todas as linhas com rodada == 0\n",
    "scouts_raw_2017_ano_clean = scouts_raw_2017_ano[scouts_raw_2017_ano['Rodada'] > 0]"
   ]
  },
  {
   "cell_type": "code",
   "execution_count": null,
   "metadata": {},
   "outputs": [],
   "source": [
    "scouts_raw_2017_ano_clean.show(10000)"
   ]
  },
  {
   "cell_type": "code",
   "execution_count": null,
   "metadata": {},
   "outputs": [],
   "source": [
    "scouts_raw_2017_ano_clean.write.parquet('/cartola/clean/scouts_raw/2017')"
   ]
  },
  {
   "cell_type": "code",
   "execution_count": null,
   "metadata": {},
   "outputs": [],
   "source": [
    "scouts_raw_2017_parquet = spark.read.parquet('/cartola/clean/scouts_raw/2017')"
   ]
  },
  {
   "cell_type": "code",
   "execution_count": null,
   "metadata": {},
   "outputs": [],
   "source": [
    "scouts_raw_2017_parquet.schema\n",
    "scouts_raw_2017_parquet.limit(10).toPandas()"
   ]
  },
  {
   "cell_type": "code",
   "execution_count": null,
   "metadata": {},
   "outputs": [],
   "source": [
    "#deve-se converter valores em BigDecimal?\n",
    "scouts_raw_2017_parquet = scouts_raw_2017_parquet.withColumn(\"Rodada\", scouts_raw_2017_parquet[\"Rodada\"].cast(IntegerType()))\n",
    "scouts_raw_2017_parquet = scouts_raw_2017_parquet.withColumn(\"ClubeID\", scouts_raw_2017_parquet[\"ClubeID\"].cast(IntegerType()))\n",
    "scouts_raw_2017_parquet = scouts_raw_2017_parquet.withColumn(\"AtletaID\", scouts_raw_2017_parquet[\"AtletaID\"].cast(IntegerType()))"
   ]
  },
  {
   "cell_type": "code",
   "execution_count": null,
   "metadata": {},
   "outputs": [],
   "source": [
    "scouts_raw_2017_parquet.show()\n",
    "\n",
    "print(scouts_raw_2017_parquet.count())"
   ]
  },
  {
   "cell_type": "code",
   "execution_count": null,
   "metadata": {},
   "outputs": [],
   "source": []
  },
  {
   "cell_type": "markdown",
   "metadata": {},
   "source": [
    "## Tabela"
   ]
  },
  {
   "cell_type": "code",
   "execution_count": null,
   "metadata": {},
   "outputs": [],
   "source": [
    "tabela_2017_df = spark.read.csv(\"/cartola/data/2017/2017_tabela.csv\", header=True)"
   ]
  },
  {
   "cell_type": "code",
   "execution_count": null,
   "metadata": {},
   "outputs": [],
   "source": [
    "sorted_tabela_2017_df = tabela_2017_df.sort(tabela_2017_df.Pos.desc())"
   ]
  },
  {
   "cell_type": "code",
   "execution_count": null,
   "metadata": {},
   "outputs": [],
   "source": [
    "tabela_2017_ano = sorted_tabela_2017_df.withColumn('ano', lit(2017))\n",
    "tabela_2017_ano.show()"
   ]
  },
  {
   "cell_type": "code",
   "execution_count": null,
   "metadata": {},
   "outputs": [],
   "source": [
    "tabela_2017_ano.write.partitionBy('ano').parquet('/cartola/2017/clean/tabela')"
   ]
  },
  {
   "cell_type": "code",
   "execution_count": null,
   "metadata": {},
   "outputs": [],
   "source": [
    "times_2017_parquet = spark.read.parquet(\"/cartola/2017/clean/tabela\")"
   ]
  },
  {
   "cell_type": "code",
   "execution_count": null,
   "metadata": {},
   "outputs": [],
   "source": [
    "times_2017_parquet.show()\n",
    "times_2017_parquet.schema\n",
    "\n",
    "#Alterar ID para int.(está string)"
   ]
  },
  {
   "cell_type": "code",
   "execution_count": null,
   "metadata": {},
   "outputs": [],
   "source": [
    "times_2017_parquet = times_2017_parquet.withColumn(\"P\", times_2017_parquet[\"P\"].cast(IntegerType()))\n",
    "times_2017_parquet = times_2017_parquet.withColumn(\"J\", times_2017_parquet[\"J\"].cast(IntegerType()))\n",
    "times_2017_parquet = times_2017_parquet.withColumn(\"V\", times_2017_parquet[\"V\"].cast(IntegerType()))\n",
    "times_2017_parquet = times_2017_parquet.withColumn(\"E\", times_2017_parquet[\"E\"].cast(IntegerType()))\n",
    "times_2017_parquet = times_2017_parquet.withColumn(\"D\", times_2017_parquet[\"D\"].cast(IntegerType()))\n",
    "times_2017_parquet = times_2017_parquet.withColumn(\"GP\", times_2017_parquet[\"GP\"].cast(IntegerType()))\n",
    "times_2017_parquet = times_2017_parquet.withColumn(\"GC\", times_2017_parquet[\"GC\"].cast(IntegerType()))\n",
    "times_2017_parquet = times_2017_parquet.withColumn(\"SG\", times_2017_parquet[\"SG\"].cast(IntegerType()))\n",
    "times_2017_parquet = times_2017_parquet.withColumn(\"VM\", times_2017_parquet[\"VM\"].cast(IntegerType()))\n",
    "times_2017_parquet = times_2017_parquet.withColumn(\"VV\", times_2017_parquet[\"VV\"].cast(IntegerType()))\n",
    "times_2017_parquet = times_2017_parquet.withColumn(\"DM\", times_2017_parquet[\"DM\"].cast(IntegerType()))\n",
    "times_2017_parquet = times_2017_parquet.withColumn(\"DV\", times_2017_parquet[\"DV\"].cast(IntegerType()))\n",
    "times_2017_parquet = times_2017_parquet.withColumn(\"CA\", times_2017_parquet[\"CA\"].cast(IntegerType()))\n",
    "times_2017_parquet = times_2017_parquet.withColumn(\"CV\", times_2017_parquet[\"CV\"].cast(IntegerType()))"
   ]
  },
  {
   "cell_type": "code",
   "execution_count": null,
   "metadata": {},
   "outputs": [],
   "source": [
    "times_2017_parquet.schema"
   ]
  },
  {
   "cell_type": "code",
   "execution_count": null,
   "metadata": {},
   "outputs": [],
   "source": [
    "times_2017_parquet.show()\n",
    "\n",
    "print(times_2017_parquet.count())"
   ]
  },
  {
   "cell_type": "code",
   "execution_count": null,
   "metadata": {},
   "outputs": [],
   "source": []
  },
  {
   "cell_type": "markdown",
   "metadata": {},
   "source": [
    "## Times"
   ]
  },
  {
   "cell_type": "code",
   "execution_count": 16,
   "metadata": {},
   "outputs": [],
   "source": [
    "#Cabeçalho separado\n",
    "times_2017_df = spark.read.csv(\"/cartola/data/2017/2017_times.csv\", header=True, sep=';')"
   ]
  },
  {
   "cell_type": "code",
   "execution_count": 17,
   "metadata": {},
   "outputs": [
    {
     "name": "stdout",
     "output_type": "stream",
     "text": [
      "+---+-----------+----------+------------------+\n",
      "| ID|       Nome|Abreviacao|              Slug|\n",
      "+---+-----------+----------+------------------+\n",
      "|373|Atlético-GO|       ATL|     Atlético - GO|\n",
      "|282|Atlético-MG|       ATL|     Atlético - MG|\n",
      "|293|Atlético-PR|       ATL|     Atlético - PR|\n",
      "|314|       Avaí|       AVA|         Avaí - SC|\n",
      "|265|      Bahia|       BAH|        Bahia - BA|\n",
      "|263|   Botafogo|       BOT|     Botafogo - RJ|\n",
      "|315|Chapecoense|       CHA|  Chapecoense - SC|\n",
      "|264|Corinthians|       COR|  Corinthians - SP|\n",
      "|294|   Coritiba|       COR|     Coritiba - PR|\n",
      "|283|   Cruzeiro|       CRU|     Cruzeiro - MG|\n",
      "|262|   Flamengo|       FLA|     Flamengo - RJ|\n",
      "|266| Fluminense|       FLU|   Fluminense - RJ|\n",
      "|284|     Grêmio|       GRE|       Grêmio - RS|\n",
      "|275|  Palmeiras|       PAL|    Palmeiras - SP|\n",
      "|303|Ponte Preta|       PON|  Ponte Preta - SP|\n",
      "|277|     Santos|       SAN|       Santos - SP|\n",
      "|276|  São Paulo|       SAO|    São Paulo - SP|\n",
      "|292|      Sport|       SPO|        Sport - PE|\n",
      "|267|      Vasco|       VAS|Vasco da Gama - RJ|\n",
      "|287|    Vitória|       VIT|      Vitória - BA|\n",
      "+---+-----------+----------+------------------+\n",
      "\n"
     ]
    }
   ],
   "source": [
    "sorted_times_2017_df = times_2017_df.sort(times_2017_df.ID.desc())\n",
    "times_2017_df.show()"
   ]
  },
  {
   "cell_type": "code",
   "execution_count": 18,
   "metadata": {},
   "outputs": [],
   "source": [
    "sorted_times_2017_df = times_2017_df.sort(times_2017_df.ID.desc())"
   ]
  },
  {
   "cell_type": "code",
   "execution_count": 19,
   "metadata": {},
   "outputs": [
    {
     "name": "stdout",
     "output_type": "stream",
     "text": [
      "+---+-----------+----------+------------------+----+\n",
      "| ID|       Nome|Abreviacao|              Slug| ano|\n",
      "+---+-----------+----------+------------------+----+\n",
      "|373|Atlético-GO|       ATL|     Atlético - GO|2017|\n",
      "|315|Chapecoense|       CHA|  Chapecoense - SC|2017|\n",
      "|314|       Avaí|       AVA|         Avaí - SC|2017|\n",
      "|303|Ponte Preta|       PON|  Ponte Preta - SP|2017|\n",
      "|294|   Coritiba|       COR|     Coritiba - PR|2017|\n",
      "|293|Atlético-PR|       ATL|     Atlético - PR|2017|\n",
      "|292|      Sport|       SPO|        Sport - PE|2017|\n",
      "|287|    Vitória|       VIT|      Vitória - BA|2017|\n",
      "|284|     Grêmio|       GRE|       Grêmio - RS|2017|\n",
      "|283|   Cruzeiro|       CRU|     Cruzeiro - MG|2017|\n",
      "|282|Atlético-MG|       ATL|     Atlético - MG|2017|\n",
      "|277|     Santos|       SAN|       Santos - SP|2017|\n",
      "|276|  São Paulo|       SAO|    São Paulo - SP|2017|\n",
      "|275|  Palmeiras|       PAL|    Palmeiras - SP|2017|\n",
      "|267|      Vasco|       VAS|Vasco da Gama - RJ|2017|\n",
      "|266| Fluminense|       FLU|   Fluminense - RJ|2017|\n",
      "|265|      Bahia|       BAH|        Bahia - BA|2017|\n",
      "|264|Corinthians|       COR|  Corinthians - SP|2017|\n",
      "|263|   Botafogo|       BOT|     Botafogo - RJ|2017|\n",
      "|262|   Flamengo|       FLA|     Flamengo - RJ|2017|\n",
      "+---+-----------+----------+------------------+----+\n",
      "\n"
     ]
    }
   ],
   "source": [
    "times_2017_ano = sorted_times_2017_df.withColumn('ano', lit(2017))\n",
    "times_2017_ano.show()"
   ]
  },
  {
   "cell_type": "code",
   "execution_count": 20,
   "metadata": {},
   "outputs": [],
   "source": [
    "sorted_times_2017_df.write.parquet('/cartola/clean/times/2017/')"
   ]
  },
  {
   "cell_type": "code",
   "execution_count": 21,
   "metadata": {},
   "outputs": [],
   "source": [
    "times_2017_parquet = spark.read.parquet('/cartola/clean/times/*')"
   ]
  },
  {
   "cell_type": "code",
   "execution_count": 22,
   "metadata": {},
   "outputs": [
    {
     "name": "stdout",
     "output_type": "stream",
     "text": [
      "+---+-------------+----------+-------------+----+\n",
      "| ID|         Nome|Abreviacao|         Slug| ano|\n",
      "+---+-------------+----------+-------------+----+\n",
      "|262|     flamengo|       FLA|     flamengo|2014|\n",
      "|263|     botafogo|       BOT|     botafogo|2014|\n",
      "|264|  corinthians|       COR|  corinthians|2014|\n",
      "|265|        bahia|       BAH|        bahia|2014|\n",
      "|266|   fluminense|       FLU|   fluminense|2014|\n",
      "|275|    palmeiras|       PAL|    palmeiras|2014|\n",
      "|276|    são paulo|       SAO|    sao-paulo|2014|\n",
      "|277|       santos|       SAN|       santos|2014|\n",
      "|282|  atlético-mg|       CAM|  atletico-mg|2014|\n",
      "|283|     cruzeiro|       CRU|     cruzeiro|2014|\n",
      "|284|       grêmio|       GRE|       gremio|2014|\n",
      "|285|internacional|       INT|internacional|2014|\n",
      "|287|      vitória|       VIT|      vitoria|2014|\n",
      "|288|     criciúma|       CRI|     criciuma|2014|\n",
      "|290|        goiás|       GOI|        goias|2014|\n",
      "|292|        sport|       SPO|        sport|2014|\n",
      "|293|  atlético-pr|       CAP|  atletico-pr|2014|\n",
      "|294|     coritiba|       CFC|     coritiba|2014|\n",
      "|315|  chapecoense|       CHA|  chapecoense|2014|\n",
      "|316|  figueirense|       FIG|  figueirense|2014|\n",
      "+---+-------------+----------+-------------+----+\n",
      "only showing top 20 rows\n",
      "\n"
     ]
    },
    {
     "data": {
      "text/plain": [
       "StructType(List(StructField(ID,StringType,true),StructField(Nome,StringType,true),StructField(Abreviacao,StringType,true),StructField(Slug,StringType,true),StructField(ano,IntegerType,true)))"
      ]
     },
     "execution_count": 22,
     "metadata": {},
     "output_type": "execute_result"
    }
   ],
   "source": [
    "times_2017_parquet.show()\n",
    "times_2017_parquet.schema\n",
    "\n",
    "#Alterar ID para int.(está string)"
   ]
  },
  {
   "cell_type": "code",
   "execution_count": 23,
   "metadata": {},
   "outputs": [],
   "source": [
    "times_2017_parquet = times_2017_parquet.withColumn(\"ID\", times_2017_parquet[\"ID\"].cast(IntegerType()))"
   ]
  },
  {
   "cell_type": "code",
   "execution_count": 24,
   "metadata": {},
   "outputs": [
    {
     "data": {
      "text/plain": [
       "StructType(List(StructField(ID,IntegerType,true),StructField(Nome,StringType,true),StructField(Abreviacao,StringType,true),StructField(Slug,StringType,true),StructField(ano,IntegerType,true)))"
      ]
     },
     "execution_count": 24,
     "metadata": {},
     "output_type": "execute_result"
    }
   ],
   "source": [
    "times_2017_parquet.schema"
   ]
  },
  {
   "cell_type": "code",
   "execution_count": 25,
   "metadata": {},
   "outputs": [
    {
     "name": "stdout",
     "output_type": "stream",
     "text": [
      "+---+-------------+----------+-------------+----+\n",
      "| ID|         Nome|Abreviacao|         Slug| ano|\n",
      "+---+-------------+----------+-------------+----+\n",
      "|262|     flamengo|       FLA|     flamengo|2014|\n",
      "|263|     botafogo|       BOT|     botafogo|2014|\n",
      "|264|  corinthians|       COR|  corinthians|2014|\n",
      "|265|        bahia|       BAH|        bahia|2014|\n",
      "|266|   fluminense|       FLU|   fluminense|2014|\n",
      "|275|    palmeiras|       PAL|    palmeiras|2014|\n",
      "|276|    são paulo|       SAO|    sao-paulo|2014|\n",
      "|277|       santos|       SAN|       santos|2014|\n",
      "|282|  atlético-mg|       CAM|  atletico-mg|2014|\n",
      "|283|     cruzeiro|       CRU|     cruzeiro|2014|\n",
      "|284|       grêmio|       GRE|       gremio|2014|\n",
      "|285|internacional|       INT|internacional|2014|\n",
      "|287|      vitória|       VIT|      vitoria|2014|\n",
      "|288|     criciúma|       CRI|     criciuma|2014|\n",
      "|290|        goiás|       GOI|        goias|2014|\n",
      "|292|        sport|       SPO|        sport|2014|\n",
      "|293|  atlético-pr|       CAP|  atletico-pr|2014|\n",
      "|294|     coritiba|       CFC|     coritiba|2014|\n",
      "|315|  chapecoense|       CHA|  chapecoense|2014|\n",
      "|316|  figueirense|       FIG|  figueirense|2014|\n",
      "+---+-------------+----------+-------------+----+\n",
      "only showing top 20 rows\n",
      "\n",
      "80\n"
     ]
    }
   ],
   "source": [
    "times_2017_parquet.show()\n",
    "\n",
    "print(times_2017_parquet.count())"
   ]
  },
  {
   "cell_type": "markdown",
   "metadata": {},
   "source": []
  },
  {
   "cell_type": "markdown",
   "metadata": {},
   "source": [
    "## DEMONSTRAÇÃO"
   ]
  },
  {
   "cell_type": "code",
   "execution_count": null,
   "metadata": {},
   "outputs": [],
   "source": [
    "partidas_2014_df = spark.read.csv(\"/cartola/data/2014/2014_jogadores.csv\", header=True)\n",
    "partidas_2014_ct = partidas_2014_df.withColumn('time', regexp_replace('home_team', ' - RJ', ''))\n",
    "final_partidas = partidas_2014_ct.withColumn('time_low', lower(col('time'))).show(truncate=False)"
   ]
  },
  {
   "cell_type": "code",
   "execution_count": null,
   "metadata": {},
   "outputs": [],
   "source": [
    "with_ano_partidas = partidas_2014_ct.withColumn('ano', lit(2014)).show(truncate=False)\n",
    "with_ano_partidas.show()"
   ]
  }
 ],
 "metadata": {
  "kernelspec": {
   "display_name": "PySpark",
   "language": "python",
   "name": "pyspark"
  },
  "language_info": {
   "codemirror_mode": {
    "name": "ipython",
    "version": 3
   },
   "file_extension": ".py",
   "mimetype": "text/x-python",
   "name": "python",
   "nbconvert_exporter": "python",
   "pygments_lexer": "ipython3",
   "version": "3.6.10"
  }
 },
 "nbformat": 4,
 "nbformat_minor": 2
}
