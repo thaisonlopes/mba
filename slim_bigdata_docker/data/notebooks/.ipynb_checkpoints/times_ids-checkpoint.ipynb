{
 "cells": [
  {
   "cell_type": "markdown",
   "metadata": {},
   "source": [
    "## Limpeza de dados Cartola - Times_IDS"
   ]
  },
  {
   "cell_type": "code",
   "execution_count": 1,
   "metadata": {},
   "outputs": [],
   "source": [
    "from pyspark.sql import HiveContext\n",
    "from pyspark.sql.types import IntegerType\n",
    "from pyspark.sql.functions import lower, col, lit, regexp_replace\n",
    "import pandas as pd\n",
    "import json\n",
    "import requests"
   ]
  },
  {
   "cell_type": "markdown",
   "metadata": {},
   "source": [
    "## Times"
   ]
  },
  {
   "cell_type": "code",
   "execution_count": 2,
   "metadata": {},
   "outputs": [
    {
     "name": "stdout",
     "output_type": "stream",
     "text": [
      "+----------------+------------+-------------------+---------+--------+--------+---+----------+--------------------+--------------------+--------------------+\n",
      "|        nome.cbf|nome.cartola|      nome.completo|cod.older|cod.2017|cod.2018| id|abreviacao|       escudos.60x60|       escudos.45x45|       escudos.30x30|\n",
      "+----------------+------------+-------------------+---------+--------+--------+---+----------+--------------------+--------------------+--------------------+\n",
      "|    América - MG|  América-MG|         America MG|      327|     327|     327|327|       AME|https://s.glbimg....|https://s.glbimg....|https://s.glbimg....|\n",
      "|    America - RN| Atlético-RN|         America RN|      200|     200|       1|200|       OUT|                null|                null|                null|\n",
      "|   Atlético - GO| Atlético-GO|        Atletico GO|      201|     373|     373|373|       ATL|                null|                null|                null|\n",
      "|   Atlético - MG| Atlético-MG|   Atletico Mineiro|      282|     282|     282|282|       ATL|https://s.glbimg....|https://s.glbimg....|https://s.glbimg....|\n",
      "|   Atlético - PR| Atlético-PR|Atletico Paranaense|      293|     293|     293|293|       ATL|https://s.glbimg....|https://s.glbimg....|https://s.glbimg....|\n",
      "|   Atletico - PR| Atlético-PR|Atletico Paranaense|      293|     293|     293|293|       ATL|https://s.glbimg....|https://s.glbimg....|https://s.glbimg....|\n",
      "|    Athlético-PR|Athlético-PR|Atletico Paranaense|      293|     293|     293|293|       ATL|                null|                null|                null|\n",
      "|       Avaí - SC|        Avaí|            Avai FC|      202|     314|     314|314|       AVA|                null|                null|                null|\n",
      "|      Bahia - BA|       Bahia|           EC Bahia|      207|     265|     265|265|       BAH|https://s.glbimg....|https://s.glbimg....|https://s.glbimg....|\n",
      "|   Botafogo - RJ|    Botafogo|        Botafogo RJ|      263|     263|     263|263|       BOT|https://s.glbimg....|https://s.glbimg....|https://s.glbimg....|\n",
      "|     Brasiliense| Brasiliense|        Brasiliense|      203|     203|     388|203|       BRA|                null|                null|                null|\n",
      "|      Ceará - CE|    Ceará-SC|           Ceara SC|      204|     204|     354|354|       CEA|https://s.glbimg....|https://s.glbimg....|https://s.glbimg....|\n",
      "|      Ceará - CE|       Ceará|           Ceara SC|      204|     204|     354|354|       CEA|https://s.glbimg....|https://s.glbimg....|https://s.glbimg....|\n",
      "|      Ceará - CE|    Ceará-SC|           Ceara SC|      204|     204|     354|354|       CEA|https://s.glbimg....|https://s.glbimg....|https://s.glbimg....|\n",
      "|Chapecoense - SC| Chapecoense|        Chapecoense|      315|     315|     315|315|       CHA|https://s.glbimg....|https://s.glbimg....|https://s.glbimg....|\n",
      "|   Clube Nautico|     Náutico|      Clube Nautico|      205|     205|     343|205|       NAU|                null|                null|                null|\n",
      "|Corinthians - SP| Corinthians|     Corinthians SP|      264|     264|     264|264|       COR|https://s.glbimg....|https://s.glbimg....|https://s.glbimg....|\n",
      "|   Coritiba - PR|    Coritiba|        Coritiba FC|      294|     294|     294|294|       COR|                null|                null|                null|\n",
      "|   Criciuma - SC|    Criciuma|        Criciuma EC|      206|     206|     288|206|       CRI|                null|                null|                null|\n",
      "|   Cruzeiro - MG|    Cruzeiro|        Cruzeiro EC|      283|     283|     283|283|       CRU|https://s.glbimg....|https://s.glbimg....|https://s.glbimg....|\n",
      "+----------------+------------+-------------------+---------+--------+--------+---+----------+--------------------+--------------------+--------------------+\n",
      "only showing top 20 rows\n",
      "\n"
     ]
    }
   ],
   "source": [
    "times_ids_df = spark.read.csv(\"/cartola/data/times_ids.csv\", header=True)\n",
    "\n",
    "#Chegar se o arquivo está no hdfs\n",
    "times_ids_df.show()\n"
   ]
  }
 ],
 "metadata": {
  "kernelspec": {
   "display_name": "PySpark",
   "language": "python",
   "name": "pyspark"
  },
  "language_info": {
   "codemirror_mode": {
    "name": "ipython",
    "version": 3
   },
   "file_extension": ".py",
   "mimetype": "text/x-python",
   "name": "python",
   "nbconvert_exporter": "python",
   "pygments_lexer": "ipython3",
   "version": "3.6.10"
  }
 },
 "nbformat": 4,
 "nbformat_minor": 2
}
