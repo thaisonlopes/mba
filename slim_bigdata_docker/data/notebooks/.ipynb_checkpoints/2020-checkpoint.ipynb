{
 "cells": [
  {
   "cell_type": "markdown",
   "metadata": {},
   "source": [
    "## Limpeza de dados Cartola ano 2018"
   ]
  },
  {
   "cell_type": "code",
   "execution_count": 1,
   "metadata": {},
   "outputs": [],
   "source": [
    "from pyspark.sql import HiveContext\n",
    "from pyspark.sql.types import IntegerType\n",
    "from pyspark.sql.functions import lower, col, lit, regexp_replace, lit\n",
    "import pandas as pd\n",
    "import json\n",
    "import requests"
   ]
  },
  {
   "cell_type": "markdown",
   "metadata": {},
   "source": [
    "## Dados Agregados (Ainda não consegui interpretar)"
   ]
  },
  {
   "cell_type": "code",
   "execution_count": 1,
   "metadata": {},
   "outputs": [
    {
     "name": "stdout",
     "output_type": "stream",
     "text": [
      "+---+--------------------+-------------------+-------------------+--------------------+-----------------+-----------------+----------------+------------------+-----------------+------------------+-----------------+--------------------+-----------------+--------------------------+---+---+---+---+---+---+---+---+---+---+---+---+---+---+---+---+---+---+\n",
      "|_c0|        atletas.nome|       atletas.slug|    atletas.apelido|        atletas.foto|atletas.atleta_id|atletas.rodada_id|atletas.clube_id|atletas.posicao_id|atletas.status_id|atletas.pontos_num|atletas.preco_num|atletas.variacao_num|atletas.media_num|atletas.clube.id.full.name| CA| CV| FC| FD| FF| FS| PE| RB| SG| DD| DP| GS|  A|  G|  I| PP| FT| GC|\n",
      "+---+--------------------+-------------------+-------------------+--------------------+-----------------+-----------------+----------------+------------------+-----------------+------------------+-----------------+--------------------+-----------------+--------------------------+---+---+---+---+---+---+---+---+---+---+---+---+---+---+---+---+---+---+\n",
      "|  1|Ebert William Amâ...|              betao|              Betão|https://s.glbimg....|            37646|               38|             314|               zag|       Contundido|                 0|             3.97|                   0|             1.91|                      Avaí|  6|  1| 20|  1|  3| 28| 50| 32|  6| NA| NA| NA| NA| NA| NA| NA| NA| NA|\n",
      "|  2|Ney Franco da Sil...|         ney-franco|         Ney Franco|https://s.glbimg....|            37246|               38|             290|               tec|         Provável|              6.26|            10.17|                0.59|             3.73|                     Goiás| NA| NA| NA| NA| NA| NA| NA| NA| NA| NA| NA| NA| NA| NA| NA| NA| NA| NA|\n",
      "|  3|Fábio Deivson Lop...|              fabio|              Fábio|https://s.glbimg....|            37656|               38|             283|               gol|         Provável|                 2|            10.35|                0.42|             3.43|                  Cruzeiro|  2| NA| NA| NA| NA|  5| 13| NA| 12| 44|  2| 40| NA| NA| NA| NA| NA| NA|\n",
      "|  4|Rafael Martiniano...|       rafael-moura|       Rafael Moura|https://s.glbimg....|            37655|               38|             290|               ata|         Provável|              22.2|             7.86|                2.89|             3.34|                     Goiás|  4|  1| 53|  5| 22| 26| 31|  8| NA| NA| NA| NA|  1|  9|  7| NA| NA| NA|\n",
      "|  5|Eduardo Luís Abon...|        edu-dracena|        Edu Dracena|https://s.glbimg....|            37657|               38|             275|               zag|           Dúvida|                 0|             5.61|                   0|              3.7|                 Palmeiras|  1| NA|  4|  1|  4|  3|  3|  5|  2| NA| NA| NA| NA| NA| NA| NA| NA| NA|\n",
      "|  6|      Evandro Goebel|            evandro|            Evandro|https://s.glbimg....|            37614|               38|             277|               mei|           Dúvida|                 0|             5.48|                   0|             2.93|                    Santos|  2|  1| 32|  4|  5| 31| 23| 19| NA| NA| NA| NA|  5|  1|  2| NA| NA| NA|\n",
      "|  7|Jonathan Cícero M...|           jonathan|           Jonathan|https://s.glbimg....|            37662|               38|             293|               lat|             Nulo|                 0|             6.24|                   0|             4.47|              Athlético-PR|  2| NA|  5|  1| NA|  4|  8|  6|  4| NA| NA| NA| NA|  1| NA| NA| NA| NA|\n",
      "|  8|Felipe Melo de Ca...|        felipe-melo|        Felipe Melo|https://s.glbimg....|            38545|               38|             275|               mei|         Suspenso|                 0|             6.61|                   0|             2.66|                 Palmeiras|  7|  1| 34|  4| 15| 26| 41| 27| NA| NA| NA| NA|  1|  3|  1| NA| NA| NA|\n",
      "|  9|Filipe Luís Kasmi...|        filipe-luis|        Filipe Luís|https://s.glbimg....|            38750|               38|             262|               lat|         Provável|              -2.7|            11.45|               -0.83|             4.88|                  Flamengo|  1| NA| 27|  1| NA| 10| 40| 43|  6| NA| NA| NA| NA| NA| NA| NA| NA| NA|\n",
      "| 10|Fernando Buttenbe...|     fernando-prass|     Fernando Prass|https://s.glbimg....|            38140|               38|             275|               gol|             Nulo|                 0|             6.94|                   0|              4.5|                 Palmeiras| NA| NA| NA| NA| NA| NA| NA| NA|  1|  2| NA|  1| NA| NA| NA| NA| NA| NA|\n",
      "| 11|Diego Tardelli Ma...|     diego-tardelli|     Diego Tardelli|https://s.glbimg....|            38231|               38|             284|               ata|             Nulo|                 0|             7.86|                   0|             1.83|                    Grêmio|  2|  1| 25| 16|  7| 25| 61| 17| NA| NA| NA| NA|  1|  4|  6|  1| NA| NA|\n",
      "| 12|Fagner Conserva L...|             fagner|             Fagner|https://s.glbimg....|            42500|               38|             264|               lat|         Provável|               2.5|            12.68|               -0.69|             5.01|               Corinthians|  6| NA| 30|  6|  5| 44| 91| 52| 12| NA| NA| NA|  3|  1| NA| NA| NA| NA|\n",
      "| 13|Márcio Rafael Fer...|            rafinha|            Rafinha|https://s.glbimg....|            38144|               38|             262|               lat|             Nulo|                 0|            10.18|                   0|             4.09|                  Flamengo|  7| NA| 27|  3|  1| 16| 33| 22|  9| NA| NA| NA|  5| NA|  1| NA| NA| NA|\n",
      "| 14|Thiago Neves Augusto|       thiago-neves|       Thiago Neves|https://s.glbimg....|            38277|               38|             283|               mei|             Nulo|                 0|             8.83|                   0|             4.34|                  Cruzeiro|  8| NA| 22| 24| 36| 32| 66| 16| NA| NA| NA| NA|  5|  6|  2|  1|  1| NA|\n",
      "| 15|Anderson Hernanes...|           hernanes|           Hernanes|https://s.glbimg....|            38648|               38|             276|               mei|             Nulo|                 0|            12.79|                   0|             3.34|                 São Paulo|  4| NA| 23| 13| 15| 24| 26| 24| NA| NA| NA| NA|  4|  2|  1| NA| NA| NA|\n",
      "| 16|Maicon Thiago Per...|             maicon|             Maicon|https://s.glbimg....|            38196|               38|             284|               mei|             Nulo|                 0|             8.09|                   0|              2.9|                    Grêmio|  6| NA| 17|  3|  4| 13| 41| 16| NA| NA| NA| NA|  3|  3| NA| NA| NA| NA|\n",
      "| 17|Wellington Pereir...|wellington-paulista|Wellington Paulista|https://s.glbimg....|            38279|               38|             356|               ata|         Provável|               0.5|            11.04|               -0.65|             4.69|                 Fortaleza|  7| NA| 56| 16| 23| 44| 41| 15| NA| NA| NA| NA|  3| 13| 15| NA|  2| NA|\n",
      "| 18|  Fábio Santos Romeu|       fabio-santos|       Fábio Santos|https://s.glbimg....|            38229|               38|             282|               lat|             Nulo|                 0|            10.45|                   0|             2.75|               Atlético-MG|  6| NA| 30|  4|  3| 21| 46| 21|  6| NA| NA| NA|  1|  4|  2| NA|  2| NA|\n",
      "| 19|Frederico Chaves ...|               fred|               Fred|https://s.glbimg....|            38162|               38|             283|               ata|         Provável|                 0|             5.66|                   0|             1.56|                  Cruzeiro| 11| NA| 48| 15| 16| 41| 57|  5| NA| NA| NA| NA|  3|  5| 14| NA|  1| NA|\n",
      "| 20|  Douglas dos Santos|            douglas|            Douglas|https://s.glbimg....|            38738|               38|             314|               mei|       Contundido|                 0|             5.08|                   0|             0.27|                      Avaí|  1| NA|  3|  1|  6|  8| 34|  2| NA| NA| NA| NA|  1| NA|  2| NA| NA| NA|\n",
      "+---+--------------------+-------------------+-------------------+--------------------+-----------------+-----------------+----------------+------------------+-----------------+------------------+-----------------+--------------------+-----------------+--------------------------+---+---+---+---+---+---+---+---+---+---+---+---+---+---+---+---+---+---+\n",
      "only showing top 20 rows\n",
      "\n"
     ]
    }
   ],
   "source": [
    "#Carrega arquivo CSV\n",
    "dados_agregados_2019_df = spark.read.option(\"encoding\", \"UTF-8\").csv(\"/cartola/data/2019/rodada*\", header=True)\n",
    "dados_agregados_2018_df.show()"
   ]
  },
  {
   "cell_type": "code",
   "execution_count": null,
   "metadata": {},
   "outputs": [],
   "source": []
  },
  {
   "cell_type": "markdown",
   "metadata": {},
   "source": [
    "## Jogadores (Erros que não consegui compreender)"
   ]
  },
  {
   "cell_type": "code",
   "execution_count": 6,
   "metadata": {},
   "outputs": [
    {
     "name": "stdout",
     "output_type": "stream",
     "text": [
      "+-----------------+-----------------+--------------------------+------------------+--------------------+\n",
      "|atletas.atleta_id|  atletas.apelido|atletas.clube.id.full.name|atletas.posicao_id|        atletas.foto|\n",
      "+-----------------+-----------------+--------------------------+------------------+--------------------+\n",
      "|            37717|Fernando Henrique|                     Ceará|           Goleiro|https://s.glbimg....|\n",
      "|            37657|      Edu Dracena|                 Palmeiras|          Zagueiro|https://s.glbimg....|\n",
      "|            36540|             Juan|                  Flamengo|          Zagueiro|https://s.glbimg....|\n",
      "|            37281|     Mano Menezes|                  Cruzeiro|           Técnico|https://s.glbimg....|\n",
      "|            37306|    Gilson Kleina|               Chapecoense|           Técnico|https://s.glbimg....|\n",
      "|            37674|           Wagner|                     Vasco|              Meia|https://s.glbimg....|\n",
      "|            37656|            Fábio|                  Cruzeiro|           Goleiro|https://s.glbimg....|\n",
      "|            37604|      Paulo André|               Atlético-PR|          Zagueiro|https://s.glbimg....|\n",
      "|            37607|    Michel Bastos|                     Sport|              Meia|https://s.glbimg....|\n",
      "|            37688|           Cícero|                    Grêmio|              Meia|https://s.glbimg....|\n",
      "|            37662|         Jonathan|               Atlético-PR|           Lateral|https://s.glbimg....|\n",
      "|            37655|     Rafael Moura|                América-MG|          Atacante|https://s.glbimg....|\n",
      "|            60969|           Patric|               Atlético-MG|           Lateral|https://s.glbimg....|\n",
      "|            61033|      Rodriguinho|               Corinthians|              Meia|https://s.glbimg....|\n",
      "|            37701|        Léo Moura|                    Grêmio|           Lateral|https://s.glbimg....|\n",
      "|            37694|         Henrique|                  Cruzeiro|              Meia|https://s.glbimg....|\n",
      "|            37645|   Marcelo Mattos|                     Vasco|              Meia|https://s.glbimg....|\n",
      "|            61985|           Airton|                Fluminense|              Meia|https://s.glbimg....|\n",
      "|            62023|     D'Alessandro|             Internacional|              Meia|https://s.glbimg....|\n",
      "|            62009|           Camilo|             Internacional|              Meia|https://s.glbimg....|\n",
      "+-----------------+-----------------+--------------------------+------------------+--------------------+\n",
      "only showing top 20 rows\n",
      "\n"
     ]
    }
   ],
   "source": [
    "#Carrega arquivo CSV\n",
    "jogadores_2018_df = spark.read.option(\"encoding\", \"UTF-8\").csv(\"/cartola/data/2019/2018_jogadores.csv\", header=True)\n",
    "jogadores_2018_df.show()\n"
   ]
  },
  {
   "cell_type": "code",
   "execution_count": 8,
   "metadata": {},
   "outputs": [
    {
     "name": "stdout",
     "output_type": "stream",
     "text": [
      "+-----------------+-----------------+--------------------------+------------------+--------------------+----+\n",
      "|atletas.atleta_id|  atletas.apelido|atletas.clube.id.full.name|atletas.posicao_id|        atletas.foto| ano|\n",
      "+-----------------+-----------------+--------------------------+------------------+--------------------+----+\n",
      "|            37717|Fernando Henrique|                     Ceará|           Goleiro|https://s.glbimg....|2018|\n",
      "|            37657|      Edu Dracena|                 Palmeiras|          Zagueiro|https://s.glbimg....|2018|\n",
      "|            36540|             Juan|                  Flamengo|          Zagueiro|https://s.glbimg....|2018|\n",
      "|            37281|     Mano Menezes|                  Cruzeiro|           Técnico|https://s.glbimg....|2018|\n",
      "|            37306|    Gilson Kleina|               Chapecoense|           Técnico|https://s.glbimg....|2018|\n",
      "|            37674|           Wagner|                     Vasco|              Meia|https://s.glbimg....|2018|\n",
      "|            37656|            Fábio|                  Cruzeiro|           Goleiro|https://s.glbimg....|2018|\n",
      "|            37604|      Paulo André|               Atlético-PR|          Zagueiro|https://s.glbimg....|2018|\n",
      "|            37607|    Michel Bastos|                     Sport|              Meia|https://s.glbimg....|2018|\n",
      "|            37688|           Cícero|                    Grêmio|              Meia|https://s.glbimg....|2018|\n",
      "|            37662|         Jonathan|               Atlético-PR|           Lateral|https://s.glbimg....|2018|\n",
      "|            37655|     Rafael Moura|                América-MG|          Atacante|https://s.glbimg....|2018|\n",
      "|            60969|           Patric|               Atlético-MG|           Lateral|https://s.glbimg....|2018|\n",
      "|            61033|      Rodriguinho|               Corinthians|              Meia|https://s.glbimg....|2018|\n",
      "|            37701|        Léo Moura|                    Grêmio|           Lateral|https://s.glbimg....|2018|\n",
      "|            37694|         Henrique|                  Cruzeiro|              Meia|https://s.glbimg....|2018|\n",
      "|            37645|   Marcelo Mattos|                     Vasco|              Meia|https://s.glbimg....|2018|\n",
      "|            61985|           Airton|                Fluminense|              Meia|https://s.glbimg....|2018|\n",
      "|            62023|     D'Alessandro|             Internacional|              Meia|https://s.glbimg....|2018|\n",
      "|            62009|           Camilo|             Internacional|              Meia|https://s.glbimg....|2018|\n",
      "+-----------------+-----------------+--------------------------+------------------+--------------------+----+\n",
      "only showing top 20 rows\n",
      "\n"
     ]
    }
   ],
   "source": [
    "#Adiciona coluna ANO = 2018\n",
    "jogadores_2018_ano = jogadores_2018_df.withColumn('ano', lit(2018))\n",
    "jogadores_2018_ano.show()"
   ]
  },
  {
   "cell_type": "code",
   "execution_count": 9,
   "metadata": {},
   "outputs": [],
   "source": [
    "jogadores_2018_ano.write.partitionBy('ano').parquet('/cartola/2018/clean/jogadores')"
   ]
  },
  {
   "cell_type": "code",
   "execution_count": 10,
   "metadata": {},
   "outputs": [],
   "source": [
    "#transforma arquivo em parquet\n",
    "jogadores_2018_parquet = spark.read.parquet('/cartola/2018/clean/jogadores')"
   ]
  },
  {
   "cell_type": "code",
   "execution_count": 11,
   "metadata": {},
   "outputs": [
    {
     "name": "stdout",
     "output_type": "stream",
     "text": [
      "+-----------------+-----------------+--------------------------+------------------+--------------------+----+\n",
      "|atletas.atleta_id|  atletas.apelido|atletas.clube.id.full.name|atletas.posicao_id|        atletas.foto| ano|\n",
      "+-----------------+-----------------+--------------------------+------------------+--------------------+----+\n",
      "|            37717|Fernando Henrique|                     Ceará|           Goleiro|https://s.glbimg....|2018|\n",
      "|            37657|      Edu Dracena|                 Palmeiras|          Zagueiro|https://s.glbimg....|2018|\n",
      "|            36540|             Juan|                  Flamengo|          Zagueiro|https://s.glbimg....|2018|\n",
      "|            37281|     Mano Menezes|                  Cruzeiro|           Técnico|https://s.glbimg....|2018|\n",
      "|            37306|    Gilson Kleina|               Chapecoense|           Técnico|https://s.glbimg....|2018|\n",
      "|            37674|           Wagner|                     Vasco|              Meia|https://s.glbimg....|2018|\n",
      "|            37656|            Fábio|                  Cruzeiro|           Goleiro|https://s.glbimg....|2018|\n",
      "|            37604|      Paulo André|               Atlético-PR|          Zagueiro|https://s.glbimg....|2018|\n",
      "|            37607|    Michel Bastos|                     Sport|              Meia|https://s.glbimg....|2018|\n",
      "|            37688|           Cícero|                    Grêmio|              Meia|https://s.glbimg....|2018|\n",
      "|            37662|         Jonathan|               Atlético-PR|           Lateral|https://s.glbimg....|2018|\n",
      "|            37655|     Rafael Moura|                América-MG|          Atacante|https://s.glbimg....|2018|\n",
      "|            60969|           Patric|               Atlético-MG|           Lateral|https://s.glbimg....|2018|\n",
      "|            61033|      Rodriguinho|               Corinthians|              Meia|https://s.glbimg....|2018|\n",
      "|            37701|        Léo Moura|                    Grêmio|           Lateral|https://s.glbimg....|2018|\n",
      "|            37694|         Henrique|                  Cruzeiro|              Meia|https://s.glbimg....|2018|\n",
      "|            37645|   Marcelo Mattos|                     Vasco|              Meia|https://s.glbimg....|2018|\n",
      "|            61985|           Airton|                Fluminense|              Meia|https://s.glbimg....|2018|\n",
      "|            62023|     D'Alessandro|             Internacional|              Meia|https://s.glbimg....|2018|\n",
      "|            62009|           Camilo|             Internacional|              Meia|https://s.glbimg....|2018|\n",
      "+-----------------+-----------------+--------------------------+------------------+--------------------+----+\n",
      "only showing top 20 rows\n",
      "\n"
     ]
    },
    {
     "data": {
      "text/plain": [
       "StructType(List(StructField(atletas.atleta_id,StringType,true),StructField(atletas.apelido,StringType,true),StructField(atletas.clube.id.full.name,StringType,true),StructField(atletas.posicao_id,StringType,true),StructField(atletas.foto,StringType,true),StructField(ano,IntegerType,true)))"
      ]
     },
     "execution_count": 11,
     "metadata": {},
     "output_type": "execute_result"
    }
   ],
   "source": [
    "jogadores_2018_parquet.show()\n",
    "jogadores_2018_parquet.schema\n"
   ]
  }
 ],
 "metadata": {
  "kernelspec": {
   "display_name": "PySpark",
   "language": "python",
   "name": "pyspark"
  },
  "language_info": {
   "codemirror_mode": {
    "name": "ipython",
    "version": 3
   },
   "file_extension": ".py",
   "mimetype": "text/x-python",
   "name": "python",
   "nbconvert_exporter": "python",
   "pygments_lexer": "ipython3",
   "version": "3.6.10"
  }
 },
 "nbformat": 4,
 "nbformat_minor": 2
}
